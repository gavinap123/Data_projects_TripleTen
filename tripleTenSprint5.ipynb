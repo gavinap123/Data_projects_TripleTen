{
 "cells": [
  {
   "cell_type": "markdown",
   "metadata": {},
   "source": [
    "# Video Game Sales"
   ]
  },
  {
   "cell_type": "markdown",
   "metadata": {},
   "source": [
    "This project is an analysis of video game data from 2016. This project will cover cleaning the data, performing an exploratory data analysis (EDA), and test a few hypothesis about the data. Graphs will be made to show relations between data found during the EDA."
   ]
  },
  {
   "cell_type": "markdown",
   "metadata": {},
   "source": [
    "Step 1. Open the data file and study the general information\n",
    "\n",
    "File path:\n",
    "\n",
    "/datasets/games.csv . Download dataset"
   ]
  },
  {
   "cell_type": "markdown",
   "metadata": {},
   "source": [
    "# Import and Study Data"
   ]
  },
  {
   "cell_type": "code",
   "execution_count": 1,
   "metadata": {},
   "outputs": [],
   "source": [
    "# import the data and libraries\n",
    "import pandas as pd\n",
    "import matplotlib.pyplot as plt\n",
    "import seaborn as sns\n",
    "from scipy import stats"
   ]
  },
  {
   "cell_type": "code",
   "execution_count": 2,
   "metadata": {},
   "outputs": [
    {
     "data": {
      "text/html": [
       "<div>\n",
       "<style scoped>\n",
       "    .dataframe tbody tr th:only-of-type {\n",
       "        vertical-align: middle;\n",
       "    }\n",
       "\n",
       "    .dataframe tbody tr th {\n",
       "        vertical-align: top;\n",
       "    }\n",
       "\n",
       "    .dataframe thead th {\n",
       "        text-align: right;\n",
       "    }\n",
       "</style>\n",
       "<table border=\"1\" class=\"dataframe\">\n",
       "  <thead>\n",
       "    <tr style=\"text-align: right;\">\n",
       "      <th></th>\n",
       "      <th>Name</th>\n",
       "      <th>Platform</th>\n",
       "      <th>Year_of_Release</th>\n",
       "      <th>Genre</th>\n",
       "      <th>NA_sales</th>\n",
       "      <th>EU_sales</th>\n",
       "      <th>JP_sales</th>\n",
       "      <th>Other_sales</th>\n",
       "      <th>Critic_Score</th>\n",
       "      <th>User_Score</th>\n",
       "      <th>Rating</th>\n",
       "    </tr>\n",
       "  </thead>\n",
       "  <tbody>\n",
       "    <tr>\n",
       "      <th>0</th>\n",
       "      <td>Wii Sports</td>\n",
       "      <td>Wii</td>\n",
       "      <td>2006.0</td>\n",
       "      <td>Sports</td>\n",
       "      <td>41.36</td>\n",
       "      <td>28.96</td>\n",
       "      <td>3.77</td>\n",
       "      <td>8.45</td>\n",
       "      <td>76.0</td>\n",
       "      <td>8</td>\n",
       "      <td>E</td>\n",
       "    </tr>\n",
       "    <tr>\n",
       "      <th>1</th>\n",
       "      <td>Super Mario Bros.</td>\n",
       "      <td>NES</td>\n",
       "      <td>1985.0</td>\n",
       "      <td>Platform</td>\n",
       "      <td>29.08</td>\n",
       "      <td>3.58</td>\n",
       "      <td>6.81</td>\n",
       "      <td>0.77</td>\n",
       "      <td>NaN</td>\n",
       "      <td>NaN</td>\n",
       "      <td>NaN</td>\n",
       "    </tr>\n",
       "    <tr>\n",
       "      <th>2</th>\n",
       "      <td>Mario Kart Wii</td>\n",
       "      <td>Wii</td>\n",
       "      <td>2008.0</td>\n",
       "      <td>Racing</td>\n",
       "      <td>15.68</td>\n",
       "      <td>12.76</td>\n",
       "      <td>3.79</td>\n",
       "      <td>3.29</td>\n",
       "      <td>82.0</td>\n",
       "      <td>8.3</td>\n",
       "      <td>E</td>\n",
       "    </tr>\n",
       "    <tr>\n",
       "      <th>3</th>\n",
       "      <td>Wii Sports Resort</td>\n",
       "      <td>Wii</td>\n",
       "      <td>2009.0</td>\n",
       "      <td>Sports</td>\n",
       "      <td>15.61</td>\n",
       "      <td>10.93</td>\n",
       "      <td>3.28</td>\n",
       "      <td>2.95</td>\n",
       "      <td>80.0</td>\n",
       "      <td>8</td>\n",
       "      <td>E</td>\n",
       "    </tr>\n",
       "    <tr>\n",
       "      <th>4</th>\n",
       "      <td>Pokemon Red/Pokemon Blue</td>\n",
       "      <td>GB</td>\n",
       "      <td>1996.0</td>\n",
       "      <td>Role-Playing</td>\n",
       "      <td>11.27</td>\n",
       "      <td>8.89</td>\n",
       "      <td>10.22</td>\n",
       "      <td>1.00</td>\n",
       "      <td>NaN</td>\n",
       "      <td>NaN</td>\n",
       "      <td>NaN</td>\n",
       "    </tr>\n",
       "  </tbody>\n",
       "</table>\n",
       "</div>"
      ],
      "text/plain": [
       "                       Name Platform  Year_of_Release         Genre  NA_sales  \\\n",
       "0                Wii Sports      Wii           2006.0        Sports     41.36   \n",
       "1         Super Mario Bros.      NES           1985.0      Platform     29.08   \n",
       "2            Mario Kart Wii      Wii           2008.0        Racing     15.68   \n",
       "3         Wii Sports Resort      Wii           2009.0        Sports     15.61   \n",
       "4  Pokemon Red/Pokemon Blue       GB           1996.0  Role-Playing     11.27   \n",
       "\n",
       "   EU_sales  JP_sales  Other_sales  Critic_Score User_Score Rating  \n",
       "0     28.96      3.77         8.45          76.0          8      E  \n",
       "1      3.58      6.81         0.77           NaN        NaN    NaN  \n",
       "2     12.76      3.79         3.29          82.0        8.3      E  \n",
       "3     10.93      3.28         2.95          80.0          8      E  \n",
       "4      8.89     10.22         1.00           NaN        NaN    NaN  "
      ]
     },
     "execution_count": 2,
     "metadata": {},
     "output_type": "execute_result"
    }
   ],
   "source": [
    "games = pd.read_csv('/datasets/games.csv')\n",
    "games.head()"
   ]
  },
  {
   "cell_type": "code",
   "execution_count": 3,
   "metadata": {},
   "outputs": [
    {
     "name": "stdout",
     "output_type": "stream",
     "text": [
      "<class 'pandas.core.frame.DataFrame'>\n",
      "RangeIndex: 16715 entries, 0 to 16714\n",
      "Data columns (total 11 columns):\n",
      " #   Column           Non-Null Count  Dtype  \n",
      "---  ------           --------------  -----  \n",
      " 0   Name             16713 non-null  object \n",
      " 1   Platform         16715 non-null  object \n",
      " 2   Year_of_Release  16446 non-null  float64\n",
      " 3   Genre            16713 non-null  object \n",
      " 4   NA_sales         16715 non-null  float64\n",
      " 5   EU_sales         16715 non-null  float64\n",
      " 6   JP_sales         16715 non-null  float64\n",
      " 7   Other_sales      16715 non-null  float64\n",
      " 8   Critic_Score     8137 non-null   float64\n",
      " 9   User_Score       10014 non-null  object \n",
      " 10  Rating           9949 non-null   object \n",
      "dtypes: float64(6), object(5)\n",
      "memory usage: 1.4+ MB\n"
     ]
    }
   ],
   "source": [
    "# find info on dataframe\n",
    "games.info()"
   ]
  },
  {
   "cell_type": "code",
   "execution_count": 4,
   "metadata": {},
   "outputs": [
    {
     "data": {
      "text/plain": [
       "Name                object\n",
       "Platform            object\n",
       "Year_of_Release    float64\n",
       "Genre               object\n",
       "NA_sales           float64\n",
       "EU_sales           float64\n",
       "JP_sales           float64\n",
       "Other_sales        float64\n",
       "Critic_Score       float64\n",
       "User_Score          object\n",
       "Rating              object\n",
       "dtype: object"
      ]
     },
     "execution_count": 4,
     "metadata": {},
     "output_type": "execute_result"
    }
   ],
   "source": [
    "# Find the data types\n",
    "games.dtypes"
   ]
  },
  {
   "cell_type": "code",
   "execution_count": 5,
   "metadata": {},
   "outputs": [
    {
     "name": "stdout",
     "output_type": "stream",
     "text": [
      "['E' nan 'M' 'T' 'E10+' 'K-A' 'AO' 'EC' 'RP']\n",
      "['Wii' 'NES' 'GB' 'DS' 'X360' 'PS3' 'PS2' 'SNES' 'GBA' 'PS4' '3DS' 'N64'\n",
      " 'PS' 'XB' 'PC' '2600' 'PSP' 'XOne' 'WiiU' 'GC' 'GEN' 'DC' 'PSV' 'SAT'\n",
      " 'SCD' 'WS' 'NG' 'TG16' '3DO' 'GG' 'PCFX']\n",
      "['Sports' 'Platform' 'Racing' 'Role-Playing' 'Puzzle' 'Misc' 'Shooter'\n",
      " 'Simulation' 'Action' 'Fighting' 'Adventure' 'Strategy' nan]\n"
     ]
    }
   ],
   "source": [
    "# show different values in rating, platform and genre\n",
    "print(games['Rating'].unique())\n",
    "print(games['Platform'].unique())\n",
    "print(games['Genre'].unique())"
   ]
  },
  {
   "cell_type": "markdown",
   "metadata": {},
   "source": [
    "Step 2. Prepare the data\n",
    "\n",
    "Replace the column names (make them lowercase).\n",
    "Convert the data to the required types.\n",
    "Describe the columns where the data types have been changed and why.\n",
    "If necessary, decide how to deal with missing values:\n",
    "Explain why you filled in the missing values as you did or why you decided to leave them blank.\n",
    "Why do you think the values are missing? Give possible reasons.\n",
    "Pay attention to the abbreviation TBD (to be determined). Specify how you intend to handle such cases.\n",
    "Calculate the total sales (the sum of sales in all regions) for each game and put these values in a separate column."
   ]
  },
  {
   "cell_type": "markdown",
   "metadata": {},
   "source": [
    "# Prepare Data"
   ]
  },
  {
   "cell_type": "markdown",
   "metadata": {},
   "source": [
    "Replace Column Names and Convert Data Types"
   ]
  },
  {
   "cell_type": "code",
   "execution_count": 6,
   "metadata": {},
   "outputs": [],
   "source": [
    "# Convert column names to lowercase\n",
    "games.columns = games.columns.str.lower()"
   ]
  },
  {
   "cell_type": "code",
   "execution_count": 7,
   "metadata": {},
   "outputs": [],
   "source": [
    "## Convert Data Types\n",
    "# Convert year of release to integer\n",
    "games['year_of_release'] = pd.to_numeric(games['year_of_release'], errors='coerce').astype('Int64')"
   ]
  },
  {
   "cell_type": "code",
   "execution_count": 8,
   "metadata": {},
   "outputs": [],
   "source": [
    "# Convert user score to numeric\n",
    "games['user_score'] = pd.to_numeric(games['user_score'], errors='coerce')"
   ]
  },
  {
   "cell_type": "markdown",
   "metadata": {},
   "source": [
    "Changes made to columns include converting all names to lowercase. Data types converted include making user_score a numeric to allow for statistical analysis to be performed, year_of_release changed to integer to maintain NaN values. Both user_score and year_of_release contain coerce as error value to make errors Nan value.|"
   ]
  },
  {
   "cell_type": "code",
   "execution_count": 9,
   "metadata": {},
   "outputs": [
    {
     "name": "stdout",
     "output_type": "stream",
     "text": [
      "name                  2\n",
      "platform              0\n",
      "year_of_release     269\n",
      "genre                 2\n",
      "na_sales              0\n",
      "eu_sales              0\n",
      "jp_sales              0\n",
      "other_sales           0\n",
      "critic_score       8578\n",
      "user_score         9125\n",
      "rating             6766\n",
      "dtype: int64\n"
     ]
    }
   ],
   "source": [
    "### Fix missing values\n",
    "# Check for missing values\n",
    "missing_data = games.isnull().sum()\n",
    "print(missing_data)"
   ]
  },
  {
   "cell_type": "markdown",
   "metadata": {},
   "source": [
    "Name and genre only have 2 missing values, we can drop those as the number is small. We will check for the critic score and user score missing values year of release, (perhaps they are all new games without critic or user reviews). "
   ]
  },
  {
   "cell_type": "code",
   "execution_count": 10,
   "metadata": {},
   "outputs": [],
   "source": [
    "# Drop rows where 'name' column has NaN values\n",
    "# Drop rows where 'genre' column has NaN values\n",
    "games.dropna(subset=['name', 'genre'], inplace=True)"
   ]
  },
  {
   "cell_type": "code",
   "execution_count": 11,
   "metadata": {},
   "outputs": [],
   "source": [
    "# Drop rows where 'genre' column has NaN values\n",
    "#games.dropna(subset=['genre'], inplace=True)"
   ]
  },
  {
   "cell_type": "code",
   "execution_count": 12,
   "metadata": {},
   "outputs": [],
   "source": [
    "# Find missing values in critic and user score\n",
    "missing_scores = games[games['critic_score'].isnull() | games['user_score'].isnull()]"
   ]
  },
  {
   "cell_type": "code",
   "execution_count": 13,
   "metadata": {},
   "outputs": [],
   "source": [
    "# Find year of release for missing critic and user score\n",
    "missing_score_year = missing_scores.groupby('year_of_release').size().reset_index(name='count_of_missing')"
   ]
  },
  {
   "cell_type": "code",
   "execution_count": 14,
   "metadata": {},
   "outputs": [
    {
     "data": {
      "text/html": [
       "<div>\n",
       "<style scoped>\n",
       "    .dataframe tbody tr th:only-of-type {\n",
       "        vertical-align: middle;\n",
       "    }\n",
       "\n",
       "    .dataframe tbody tr th {\n",
       "        vertical-align: top;\n",
       "    }\n",
       "\n",
       "    .dataframe thead th {\n",
       "        text-align: right;\n",
       "    }\n",
       "</style>\n",
       "<table border=\"1\" class=\"dataframe\">\n",
       "  <thead>\n",
       "    <tr style=\"text-align: right;\">\n",
       "      <th></th>\n",
       "      <th>year_of_release</th>\n",
       "      <th>count_of_missing</th>\n",
       "    </tr>\n",
       "  </thead>\n",
       "  <tbody>\n",
       "    <tr>\n",
       "      <th>0</th>\n",
       "      <td>1980</td>\n",
       "      <td>9</td>\n",
       "    </tr>\n",
       "    <tr>\n",
       "      <th>1</th>\n",
       "      <td>1981</td>\n",
       "      <td>46</td>\n",
       "    </tr>\n",
       "    <tr>\n",
       "      <th>2</th>\n",
       "      <td>1982</td>\n",
       "      <td>36</td>\n",
       "    </tr>\n",
       "    <tr>\n",
       "      <th>3</th>\n",
       "      <td>1983</td>\n",
       "      <td>17</td>\n",
       "    </tr>\n",
       "    <tr>\n",
       "      <th>4</th>\n",
       "      <td>1984</td>\n",
       "      <td>14</td>\n",
       "    </tr>\n",
       "    <tr>\n",
       "      <th>5</th>\n",
       "      <td>1985</td>\n",
       "      <td>13</td>\n",
       "    </tr>\n",
       "    <tr>\n",
       "      <th>6</th>\n",
       "      <td>1986</td>\n",
       "      <td>21</td>\n",
       "    </tr>\n",
       "    <tr>\n",
       "      <th>7</th>\n",
       "      <td>1987</td>\n",
       "      <td>16</td>\n",
       "    </tr>\n",
       "    <tr>\n",
       "      <th>8</th>\n",
       "      <td>1988</td>\n",
       "      <td>14</td>\n",
       "    </tr>\n",
       "    <tr>\n",
       "      <th>9</th>\n",
       "      <td>1989</td>\n",
       "      <td>17</td>\n",
       "    </tr>\n",
       "    <tr>\n",
       "      <th>10</th>\n",
       "      <td>1990</td>\n",
       "      <td>16</td>\n",
       "    </tr>\n",
       "    <tr>\n",
       "      <th>11</th>\n",
       "      <td>1991</td>\n",
       "      <td>41</td>\n",
       "    </tr>\n",
       "    <tr>\n",
       "      <th>12</th>\n",
       "      <td>1992</td>\n",
       "      <td>42</td>\n",
       "    </tr>\n",
       "    <tr>\n",
       "      <th>13</th>\n",
       "      <td>1993</td>\n",
       "      <td>60</td>\n",
       "    </tr>\n",
       "    <tr>\n",
       "      <th>14</th>\n",
       "      <td>1994</td>\n",
       "      <td>120</td>\n",
       "    </tr>\n",
       "    <tr>\n",
       "      <th>15</th>\n",
       "      <td>1995</td>\n",
       "      <td>219</td>\n",
       "    </tr>\n",
       "    <tr>\n",
       "      <th>16</th>\n",
       "      <td>1996</td>\n",
       "      <td>255</td>\n",
       "    </tr>\n",
       "    <tr>\n",
       "      <th>17</th>\n",
       "      <td>1997</td>\n",
       "      <td>275</td>\n",
       "    </tr>\n",
       "    <tr>\n",
       "      <th>18</th>\n",
       "      <td>1998</td>\n",
       "      <td>353</td>\n",
       "    </tr>\n",
       "    <tr>\n",
       "      <th>19</th>\n",
       "      <td>1999</td>\n",
       "      <td>308</td>\n",
       "    </tr>\n",
       "    <tr>\n",
       "      <th>20</th>\n",
       "      <td>2000</td>\n",
       "      <td>248</td>\n",
       "    </tr>\n",
       "    <tr>\n",
       "      <th>21</th>\n",
       "      <td>2001</td>\n",
       "      <td>226</td>\n",
       "    </tr>\n",
       "    <tr>\n",
       "      <th>22</th>\n",
       "      <td>2002</td>\n",
       "      <td>374</td>\n",
       "    </tr>\n",
       "    <tr>\n",
       "      <th>23</th>\n",
       "      <td>2003</td>\n",
       "      <td>276</td>\n",
       "    </tr>\n",
       "    <tr>\n",
       "      <th>24</th>\n",
       "      <td>2004</td>\n",
       "      <td>285</td>\n",
       "    </tr>\n",
       "    <tr>\n",
       "      <th>25</th>\n",
       "      <td>2005</td>\n",
       "      <td>377</td>\n",
       "    </tr>\n",
       "    <tr>\n",
       "      <th>26</th>\n",
       "      <td>2006</td>\n",
       "      <td>478</td>\n",
       "    </tr>\n",
       "    <tr>\n",
       "      <th>27</th>\n",
       "      <td>2007</td>\n",
       "      <td>607</td>\n",
       "    </tr>\n",
       "    <tr>\n",
       "      <th>28</th>\n",
       "      <td>2008</td>\n",
       "      <td>832</td>\n",
       "    </tr>\n",
       "    <tr>\n",
       "      <th>29</th>\n",
       "      <td>2009</td>\n",
       "      <td>872</td>\n",
       "    </tr>\n",
       "    <tr>\n",
       "      <th>30</th>\n",
       "      <td>2010</td>\n",
       "      <td>824</td>\n",
       "    </tr>\n",
       "    <tr>\n",
       "      <th>31</th>\n",
       "      <td>2011</td>\n",
       "      <td>670</td>\n",
       "    </tr>\n",
       "    <tr>\n",
       "      <th>32</th>\n",
       "      <td>2012</td>\n",
       "      <td>332</td>\n",
       "    </tr>\n",
       "    <tr>\n",
       "      <th>33</th>\n",
       "      <td>2013</td>\n",
       "      <td>272</td>\n",
       "    </tr>\n",
       "    <tr>\n",
       "      <th>34</th>\n",
       "      <td>2014</td>\n",
       "      <td>325</td>\n",
       "    </tr>\n",
       "    <tr>\n",
       "      <th>35</th>\n",
       "      <td>2015</td>\n",
       "      <td>385</td>\n",
       "    </tr>\n",
       "    <tr>\n",
       "      <th>36</th>\n",
       "      <td>2016</td>\n",
       "      <td>275</td>\n",
       "    </tr>\n",
       "  </tbody>\n",
       "</table>\n",
       "</div>"
      ],
      "text/plain": [
       "    year_of_release  count_of_missing\n",
       "0              1980                 9\n",
       "1              1981                46\n",
       "2              1982                36\n",
       "3              1983                17\n",
       "4              1984                14\n",
       "5              1985                13\n",
       "6              1986                21\n",
       "7              1987                16\n",
       "8              1988                14\n",
       "9              1989                17\n",
       "10             1990                16\n",
       "11             1991                41\n",
       "12             1992                42\n",
       "13             1993                60\n",
       "14             1994               120\n",
       "15             1995               219\n",
       "16             1996               255\n",
       "17             1997               275\n",
       "18             1998               353\n",
       "19             1999               308\n",
       "20             2000               248\n",
       "21             2001               226\n",
       "22             2002               374\n",
       "23             2003               276\n",
       "24             2004               285\n",
       "25             2005               377\n",
       "26             2006               478\n",
       "27             2007               607\n",
       "28             2008               832\n",
       "29             2009               872\n",
       "30             2010               824\n",
       "31             2011               670\n",
       "32             2012               332\n",
       "33             2013               272\n",
       "34             2014               325\n",
       "35             2015               385\n",
       "36             2016               275"
      ]
     },
     "execution_count": 14,
     "metadata": {},
     "output_type": "execute_result"
    }
   ],
   "source": [
    "# Display the results of missing scores\n",
    "missing_score_year"
   ]
  },
  {
   "cell_type": "markdown",
   "metadata": {},
   "source": [
    "Seems like our initial thought was wrong. There apprears to be missing scores in every year with some  years having more missing game scores than others. Leave the scores blank as perhaps the game wasn't rated. The TBD only seems to occur in the user_score section, we can replace it with a blank as the rating is not yet presented, the blank TBD will be treated as all other blanks. Year of release will be left blank, Rating will be changed to 'Not Rated'."
   ]
  },
  {
   "cell_type": "code",
   "execution_count": 15,
   "metadata": {},
   "outputs": [],
   "source": [
    "# Make TBD blank first before filling in blanks\n",
    "games['user_score'].replace('tbd', None, inplace=True)\n",
    "\n",
    "# Replace missing rating with 'Not Rated'\n",
    "games['rating'].fillna('Not Rated', inplace=True)"
   ]
  },
  {
   "cell_type": "code",
   "execution_count": 16,
   "metadata": {},
   "outputs": [
    {
     "name": "stdout",
     "output_type": "stream",
     "text": [
      "name                  0\n",
      "platform              0\n",
      "year_of_release     269\n",
      "genre                 0\n",
      "na_sales              0\n",
      "eu_sales              0\n",
      "jp_sales              0\n",
      "other_sales           0\n",
      "critic_score       8576\n",
      "user_score         9123\n",
      "rating                0\n",
      "dtype: int64\n"
     ]
    }
   ],
   "source": [
    "# Check for missing values\n",
    "missing_data = games.isnull().sum()\n",
    "print(missing_data)"
   ]
  },
  {
   "cell_type": "code",
   "execution_count": 17,
   "metadata": {},
   "outputs": [
    {
     "name": "stdout",
     "output_type": "stream",
     "text": [
      "                name platform  year_of_release   genre  na_sales  eu_sales  \\\n",
      "604    Madden NFL 13      PS3             2012  Sports      2.11      0.22   \n",
      "16230  Madden NFL 13      PS3             2012  Sports      0.00      0.01   \n",
      "\n",
      "       jp_sales  other_sales  critic_score  user_score rating  \n",
      "604         0.0         0.23          83.0         5.5      E  \n",
      "16230       0.0         0.00          83.0         5.5      E  \n"
     ]
    }
   ],
   "source": [
    "# Check for duplicates\n",
    "dups = games[games.duplicated(subset=['name', 'platform', 'year_of_release'], keep=False)]\n",
    "print(dups)\n",
    "games = games.drop_duplicates(subset=['name', 'platform', 'year_of_release'], keep='first')\n"
   ]
  },
  {
   "cell_type": "code",
   "execution_count": 18,
   "metadata": {},
   "outputs": [
    {
     "name": "stdout",
     "output_type": "stream",
     "text": [
      "0        82.54\n",
      "1        40.24\n",
      "2        35.52\n",
      "3        32.77\n",
      "4        31.38\n",
      "         ...  \n",
      "16710     0.01\n",
      "16711     0.01\n",
      "16712     0.01\n",
      "16713     0.01\n",
      "16714     0.01\n",
      "Name: total_sales, Length: 16712, dtype: float64\n"
     ]
    }
   ],
   "source": [
    "### Caluculate Total Sales\n",
    "# Caluclate total sales for all regions\n",
    "games['total_sales'] = games[['na_sales', 'eu_sales', 'jp_sales', 'other_sales']].sum(axis=1)\n",
    "print(games['total_sales'])"
   ]
  },
  {
   "cell_type": "markdown",
   "metadata": {},
   "source": [
    "Looking at the increasing number of games without ratings increasing towards 2008 suggest that the games came out faster and perhaps that not all the games were reviewed on all the platforms each game came out on. The number of user scores missing compared to critic reviews missing is 8576 / 9123 = 94% suggesting the sample size is similar. This makes it reasonable for an alpha level of 5% for our hypothesis testing later on with two populations with similar size. T test should work for these groups."
   ]
  },
  {
   "cell_type": "markdown",
   "metadata": {},
   "source": [
    "Step 3. Analyze the data\n"
   ]
  },
  {
   "cell_type": "markdown",
   "metadata": {},
   "source": [
    "# Analyze Data"
   ]
  },
  {
   "cell_type": "code",
   "execution_count": 19,
   "metadata": {},
   "outputs": [
    {
     "name": "stdout",
     "output_type": "stream",
     "text": [
      "1980       9\n",
      "1981      46\n",
      "1982      36\n",
      "1983      17\n",
      "1984      14\n",
      "1985      14\n",
      "1986      21\n",
      "1987      16\n",
      "1988      15\n",
      "1989      17\n",
      "1990      16\n",
      "1991      41\n",
      "1992      43\n",
      "1993      60\n",
      "1994     121\n",
      "1995     219\n",
      "1996     263\n",
      "1997     289\n",
      "1998     379\n",
      "1999     338\n",
      "2000     350\n",
      "2001     482\n",
      "2002     829\n",
      "2003     775\n",
      "2004     762\n",
      "2005     939\n",
      "2006    1006\n",
      "2007    1197\n",
      "2008    1427\n",
      "2009    1426\n",
      "2010    1255\n",
      "2011    1136\n",
      "2012     652\n",
      "2013     544\n",
      "2014     581\n",
      "2015     606\n",
      "2016     502\n",
      "Name: year_of_release, dtype: Int64\n"
     ]
    }
   ],
   "source": [
    "### Games Released by Year\n",
    "# find games released by year\n",
    "yearly_games = games['year_of_release'].value_counts().sort_index()\n",
    "print(yearly_games)"
   ]
  },
  {
   "cell_type": "code",
   "execution_count": 20,
   "metadata": {},
   "outputs": [
    {
     "data": {
      "image/png": "[encoded data removed]",
      "text/plain": [
       "<Figure size 1200x600 with 1 Axes>"
      ]
     },
     "metadata": {},
     "output_type": "display_data"
    }
   ],
   "source": [
    "# create visualization of games by year\n",
    "plt.figure(figsize=(12,6))\n",
    "yearly_games.plot(kind='bar', color='green')\n",
    "plt.title('Count of Game Releases by Year')\n",
    "plt.xlabel('Year')\n",
    "plt.ylabel('Number of Games')\n",
    "plt.xticks(rotation=60)\n",
    "plt.grid(axis='y')\n",
    "plt.show()"
   ]
  },
  {
   "cell_type": "markdown",
   "metadata": {},
   "source": [
    "We will use the entire data set to find the lifecycle of platforms. We will use relevant data from 2012 to 2016 for current trend analyses as 2012 is when game releases leveled out after the 2008 booming peak."
   ]
  },
  {
   "cell_type": "code",
   "execution_count": 21,
   "metadata": {},
   "outputs": [
    {
     "name": "stdout",
     "output_type": "stream",
     "text": [
      "   index  platform\n",
      "0    PS2      2161\n",
      "1     DS      2151\n",
      "2    PS3      1330\n",
      "3    Wii      1320\n",
      "4   X360      1262\n",
      "5    PSP      1209\n",
      "6     PS      1197\n",
      "7     PC       974\n",
      "8     XB       824\n",
      "9    GBA       822\n",
      "10    GC       556\n",
      "11   3DS       520\n",
      "12   PSV       430\n",
      "13   PS4       392\n",
      "14   N64       319\n",
      "15  XOne       247\n",
      "16  SNES       239\n",
      "17   SAT       173\n",
      "18  WiiU       147\n",
      "19  2600       133\n",
      "20   NES        98\n",
      "21    GB        98\n",
      "22    DC        52\n",
      "23   GEN        27\n",
      "24    NG        12\n",
      "25    WS         6\n",
      "26   SCD         6\n",
      "27   3DO         3\n",
      "28  TG16         2\n",
      "29  PCFX         1\n",
      "30    GG         1\n"
     ]
    }
   ],
   "source": [
    "### Sales by Platform Analysis\n",
    "# Number of Platforms\n",
    "platform_count = games['platform'].value_counts().reset_index()\n",
    "print(platform_count)"
   ]
  },
  {
   "cell_type": "code",
   "execution_count": 22,
   "metadata": {},
   "outputs": [
    {
     "name": "stdout",
     "output_type": "stream",
     "text": [
      "Total games released: 16443\n",
      "Average number of games released per year: 444.4054054054054\n"
     ]
    }
   ],
   "source": [
    "# total number of games released\n",
    "total_games = yearly_games.sum()\n",
    "print('Total games released:', total_games)\n",
    "# average number of games released per year\n",
    "avg_released = yearly_games.mean()\n",
    "print('Average number of games released per year:', avg_released)"
   ]
  },
  {
   "cell_type": "code",
   "execution_count": 23,
   "metadata": {},
   "outputs": [
    {
     "name": "stdout",
     "output_type": "stream",
     "text": [
      "   platform  total_sales\n",
      "0      PCFX         0.03\n",
      "1        GG         0.04\n",
      "2       3DO         0.10\n",
      "3      TG16         0.16\n",
      "4        WS         1.42\n",
      "5        NG         1.44\n",
      "6       SCD         1.86\n",
      "7        DC        15.95\n",
      "8       GEN        28.35\n",
      "9       SAT        33.59\n",
      "10      PSV        54.07\n",
      "11     WiiU        82.19\n",
      "12     2600        96.98\n",
      "13     XOne       159.32\n",
      "14       GC       198.93\n",
      "15     SNES       200.04\n",
      "16      N64       218.68\n",
      "17      NES       251.05\n",
      "18       GB       255.46\n",
      "19       XB       257.74\n",
      "20      3DS       259.00\n",
      "21       PC       259.52\n",
      "22      PSP       294.05\n",
      "23      PS4       314.14\n",
      "24      GBA       317.85\n",
      "25       PS       730.86\n",
      "26       DS       806.12\n",
      "27      Wii       907.51\n",
      "28      PS3       939.64\n",
      "29     X360       971.42\n",
      "30      PS2      1255.77\n"
     ]
    }
   ],
   "source": [
    "### Find platforms without sales\n",
    "# group by platform and total sales\n",
    "platform_sales = games.groupby('platform')['total_sales'].sum().sort_values().reset_index()\n",
    "print(platform_sales)"
   ]
  },
  {
   "cell_type": "code",
   "execution_count": 24,
   "metadata": {},
   "outputs": [
    {
     "name": "stdout",
     "output_type": "stream",
     "text": [
      "platform             DS     PS2     PS3     Wii    X360\n",
      "year_of_release                                        \n",
      "1985               0.02    0.00    0.00    0.00    0.00\n",
      "2000               0.00   39.17    0.00    0.00    0.00\n",
      "2001               0.00  166.43    0.00    0.00    0.00\n",
      "2002               0.00  205.38    0.00    0.00    0.00\n",
      "2003               0.00  184.31    0.00    0.00    0.00\n",
      "2004              17.27  211.81    0.00    0.00    0.00\n",
      "2005             130.14  160.66    0.00    0.00    8.25\n",
      "2006             119.81  103.42   20.96  137.15   51.62\n",
      "2007             146.94   75.99   73.19  152.77   95.41\n",
      "2008             145.31   53.90  118.52  171.32  135.26\n",
      "2009             119.54   26.40  130.93  206.97  120.29\n",
      "2010              85.02    5.64  142.17  127.95  170.03\n",
      "2011              26.18    0.45  156.78   59.65  143.84\n",
      "2012              11.01    0.00  107.35   21.71   99.74\n",
      "2013               1.54    0.00  113.25    8.59   88.58\n",
      "2014               0.00    0.00   47.76    3.75   34.74\n",
      "2015               0.00    0.00   16.82    1.14   11.96\n",
      "2016               0.00    0.00    3.60    0.18    1.52\n"
     ]
    }
   ],
   "source": [
    "# Top 5 sales by platform\n",
    "top_platforms = platform_sales.nlargest(5, 'total_sales')['platform']\n",
    "# Group the data by year and platform to calculate total sales\n",
    "platform_sales_year = games[games['platform'].isin(top_platforms)].groupby(['year_of_release', 'platform'])['total_sales'].sum().unstack(fill_value=0)\n",
    "print(platform_sales_year)"
   ]
  },
  {
   "cell_type": "code",
   "execution_count": 25,
   "metadata": {},
   "outputs": [
    {
     "data": {
      "text/plain": [
       "<Figure size 1200x600 with 0 Axes>"
      ]
     },
     "metadata": {},
     "output_type": "display_data"
    },
    {
     "data": {
      "image/png": "[encoded data removed]",
      "text/plain": [
       "<Figure size 640x480 with 1 Axes>"
      ]
     },
     "metadata": {},
     "output_type": "display_data"
    }
   ],
   "source": [
    "# visualize top yearly platforms\n",
    "plt.figure(figsize=(12,6))\n",
    "platform_sales_year.plot(kind='bar', stacked=True)\n",
    "plt.title('Sales by Platform by Year')\n",
    "plt.xlabel('Year of Release')\n",
    "plt.ylabel('Sales in Millions')\n",
    "plt.legend(title='platform')\n",
    "plt.xticks(rotation=45)\n",
    "plt.grid(axis='y')\n",
    "plt.show()"
   ]
  },
  {
   "cell_type": "code",
   "execution_count": 62,
   "metadata": {},
   "outputs": [
    {
     "name": "stdout",
     "output_type": "stream",
     "text": [
      "Platforms that now have zero sales:\n"
     ]
    },
    {
     "data": {
      "text/html": [
       "<div>\n",
       "<style scoped>\n",
       "    .dataframe tbody tr th:only-of-type {\n",
       "        vertical-align: middle;\n",
       "    }\n",
       "\n",
       "    .dataframe tbody tr th {\n",
       "        vertical-align: top;\n",
       "    }\n",
       "\n",
       "    .dataframe thead th {\n",
       "        text-align: right;\n",
       "    }\n",
       "</style>\n",
       "<table border=\"1\" class=\"dataframe\">\n",
       "  <thead>\n",
       "    <tr style=\"text-align: right;\">\n",
       "      <th></th>\n",
       "      <th>platform</th>\n",
       "      <th>last_year</th>\n",
       "    </tr>\n",
       "  </thead>\n",
       "  <tbody>\n",
       "    <tr>\n",
       "      <th>0</th>\n",
       "      <td>2600</td>\n",
       "      <td>1989</td>\n",
       "    </tr>\n",
       "    <tr>\n",
       "      <th>8</th>\n",
       "      <td>GG</td>\n",
       "      <td>1992</td>\n",
       "    </tr>\n",
       "    <tr>\n",
       "      <th>17</th>\n",
       "      <td>SCD</td>\n",
       "      <td>1994</td>\n",
       "    </tr>\n",
       "    <tr>\n",
       "      <th>7</th>\n",
       "      <td>GEN</td>\n",
       "      <td>1994</td>\n",
       "    </tr>\n",
       "    <tr>\n",
       "      <th>10</th>\n",
       "      <td>NES</td>\n",
       "      <td>1994</td>\n",
       "    </tr>\n",
       "    <tr>\n",
       "      <th>19</th>\n",
       "      <td>TG16</td>\n",
       "      <td>1995</td>\n",
       "    </tr>\n",
       "    <tr>\n",
       "      <th>1</th>\n",
       "      <td>3DO</td>\n",
       "      <td>1995</td>\n",
       "    </tr>\n",
       "    <tr>\n",
       "      <th>11</th>\n",
       "      <td>NG</td>\n",
       "      <td>1996</td>\n",
       "    </tr>\n",
       "    <tr>\n",
       "      <th>12</th>\n",
       "      <td>PCFX</td>\n",
       "      <td>1996</td>\n",
       "    </tr>\n",
       "    <tr>\n",
       "      <th>18</th>\n",
       "      <td>SNES</td>\n",
       "      <td>1999</td>\n",
       "    </tr>\n",
       "    <tr>\n",
       "      <th>16</th>\n",
       "      <td>SAT</td>\n",
       "      <td>1999</td>\n",
       "    </tr>\n",
       "    <tr>\n",
       "      <th>20</th>\n",
       "      <td>WS</td>\n",
       "      <td>2001</td>\n",
       "    </tr>\n",
       "    <tr>\n",
       "      <th>4</th>\n",
       "      <td>GB</td>\n",
       "      <td>2001</td>\n",
       "    </tr>\n",
       "    <tr>\n",
       "      <th>9</th>\n",
       "      <td>N64</td>\n",
       "      <td>2002</td>\n",
       "    </tr>\n",
       "    <tr>\n",
       "      <th>13</th>\n",
       "      <td>PS</td>\n",
       "      <td>2003</td>\n",
       "    </tr>\n",
       "    <tr>\n",
       "      <th>5</th>\n",
       "      <td>GBA</td>\n",
       "      <td>2007</td>\n",
       "    </tr>\n",
       "    <tr>\n",
       "      <th>6</th>\n",
       "      <td>GC</td>\n",
       "      <td>2007</td>\n",
       "    </tr>\n",
       "    <tr>\n",
       "      <th>2</th>\n",
       "      <td>DC</td>\n",
       "      <td>2008</td>\n",
       "    </tr>\n",
       "    <tr>\n",
       "      <th>21</th>\n",
       "      <td>XB</td>\n",
       "      <td>2008</td>\n",
       "    </tr>\n",
       "    <tr>\n",
       "      <th>14</th>\n",
       "      <td>PS2</td>\n",
       "      <td>2011</td>\n",
       "    </tr>\n",
       "    <tr>\n",
       "      <th>3</th>\n",
       "      <td>DS</td>\n",
       "      <td>2013</td>\n",
       "    </tr>\n",
       "    <tr>\n",
       "      <th>15</th>\n",
       "      <td>PSP</td>\n",
       "      <td>2015</td>\n",
       "    </tr>\n",
       "  </tbody>\n",
       "</table>\n",
       "</div>"
      ],
      "text/plain": [
       "   platform  last_year\n",
       "0      2600       1989\n",
       "8        GG       1992\n",
       "17      SCD       1994\n",
       "7       GEN       1994\n",
       "10      NES       1994\n",
       "19     TG16       1995\n",
       "1       3DO       1995\n",
       "11       NG       1996\n",
       "12     PCFX       1996\n",
       "18     SNES       1999\n",
       "16      SAT       1999\n",
       "20       WS       2001\n",
       "4        GB       2001\n",
       "9       N64       2002\n",
       "13       PS       2003\n",
       "5       GBA       2007\n",
       "6        GC       2007\n",
       "2        DC       2008\n",
       "21       XB       2008\n",
       "14      PS2       2011\n",
       "3        DS       2013\n",
       "15      PSP       2015"
      ]
     },
     "metadata": {},
     "output_type": "display_data"
    },
    {
     "data": {
      "image/png": "[encoded data removed]",
      "text/plain": [
       "<Figure size 1000x600 with 1 Axes>"
      ]
     },
     "metadata": {},
     "output_type": "display_data"
    }
   ],
   "source": [
    "## Find dead platforms (no recent sales)\n",
    "# Create sales by year and platform df\n",
    "platform_sales_year = games.groupby(['platform', 'year_of_release'])['total_sales'].sum().reset_index()\n",
    "# Get the final year of sales for each platform\n",
    "final_sales_year = platform_sales_year.groupby('platform')['year_of_release'].max().reset_index()\n",
    "final_sales_year = final_sales_year.rename(columns={'year_of_release': 'last_year'})\n",
    "# Get the total sales for each platform\n",
    "total_sales = platform_sales_year.groupby('platform')['total_sales'].sum().reset_index()\n",
    "# Merge to find platforms with zero sales in the latest year\n",
    "zero_sales_platforms = total_sales[total_sales['total_sales'] > 0].merge(\n",
    "    final_sales_year[final_sales_year['last_year'] < 2016], on='platform')\n",
    "print(\"Platforms that now have zero sales:\")\n",
    "display(zero_sales_platforms[['platform', 'last_year']].sort_values(by='last_year'))\n",
    "\n",
    "# Create a pivot table for better visualization\n",
    "pivot_table = platform_sales_year.pivot(index='year_of_release', columns='platform', values='total_sales')\n",
    "\n",
    "# Plotting\n",
    "plt.figure(figsize=(10, 6))\n",
    "sns.lineplot(data=pivot_table, markers=True)\n",
    "plt.title('Sales by Year for Each Platform')\n",
    "plt.xlabel('Year')\n",
    "plt.ylabel('Sales')\n",
    "plt.legend(title='Platform')\n",
    "plt.grid()\n",
    "plt.xticks(pivot_table.index, rotation=90)\n",
    "plt.show()"
   ]
  },
  {
   "cell_type": "code",
   "execution_count": 28,
   "metadata": {},
   "outputs": [
    {
     "name": "stdout",
     "output_type": "stream",
     "text": [
      "Leading Platforms in Total Sales:\n"
     ]
    },
    {
     "data": {
      "text/html": [
       "<div>\n",
       "<style scoped>\n",
       "    .dataframe tbody tr th:only-of-type {\n",
       "        vertical-align: middle;\n",
       "    }\n",
       "\n",
       "    .dataframe tbody tr th {\n",
       "        vertical-align: top;\n",
       "    }\n",
       "\n",
       "    .dataframe thead th {\n",
       "        text-align: right;\n",
       "    }\n",
       "</style>\n",
       "<table border=\"1\" class=\"dataframe\">\n",
       "  <thead>\n",
       "    <tr style=\"text-align: right;\">\n",
       "      <th></th>\n",
       "      <th>platform</th>\n",
       "      <th>total_sales</th>\n",
       "    </tr>\n",
       "  </thead>\n",
       "  <tbody>\n",
       "    <tr>\n",
       "      <th>16</th>\n",
       "      <td>PS2</td>\n",
       "      <td>1233.56</td>\n",
       "    </tr>\n",
       "    <tr>\n",
       "      <th>28</th>\n",
       "      <td>X360</td>\n",
       "      <td>961.24</td>\n",
       "    </tr>\n",
       "    <tr>\n",
       "      <th>17</th>\n",
       "      <td>PS3</td>\n",
       "      <td>931.33</td>\n",
       "    </tr>\n",
       "    <tr>\n",
       "      <th>26</th>\n",
       "      <td>Wii</td>\n",
       "      <td>891.18</td>\n",
       "    </tr>\n",
       "    <tr>\n",
       "      <th>4</th>\n",
       "      <td>DS</td>\n",
       "      <td>802.78</td>\n",
       "    </tr>\n",
       "    <tr>\n",
       "      <th>15</th>\n",
       "      <td>PS</td>\n",
       "      <td>727.58</td>\n",
       "    </tr>\n",
       "    <tr>\n",
       "      <th>18</th>\n",
       "      <td>PS4</td>\n",
       "      <td>314.14</td>\n",
       "    </tr>\n",
       "    <tr>\n",
       "      <th>6</th>\n",
       "      <td>GBA</td>\n",
       "      <td>312.88</td>\n",
       "    </tr>\n",
       "    <tr>\n",
       "      <th>19</th>\n",
       "      <td>PSP</td>\n",
       "      <td>289.53</td>\n",
       "    </tr>\n",
       "    <tr>\n",
       "      <th>2</th>\n",
       "      <td>3DS</td>\n",
       "      <td>257.81</td>\n",
       "    </tr>\n",
       "    <tr>\n",
       "      <th>13</th>\n",
       "      <td>PC</td>\n",
       "      <td>255.76</td>\n",
       "    </tr>\n",
       "    <tr>\n",
       "      <th>5</th>\n",
       "      <td>GB</td>\n",
       "      <td>254.43</td>\n",
       "    </tr>\n",
       "    <tr>\n",
       "      <th>29</th>\n",
       "      <td>XB</td>\n",
       "      <td>251.57</td>\n",
       "    </tr>\n",
       "    <tr>\n",
       "      <th>11</th>\n",
       "      <td>NES</td>\n",
       "      <td>251.05</td>\n",
       "    </tr>\n",
       "    <tr>\n",
       "      <th>10</th>\n",
       "      <td>N64</td>\n",
       "      <td>218.01</td>\n",
       "    </tr>\n",
       "    <tr>\n",
       "      <th>23</th>\n",
       "      <td>SNES</td>\n",
       "      <td>200.04</td>\n",
       "    </tr>\n",
       "    <tr>\n",
       "      <th>7</th>\n",
       "      <td>GC</td>\n",
       "      <td>196.73</td>\n",
       "    </tr>\n",
       "    <tr>\n",
       "      <th>30</th>\n",
       "      <td>XOne</td>\n",
       "      <td>159.32</td>\n",
       "    </tr>\n",
       "    <tr>\n",
       "      <th>0</th>\n",
       "      <td>2600</td>\n",
       "      <td>86.48</td>\n",
       "    </tr>\n",
       "    <tr>\n",
       "      <th>27</th>\n",
       "      <td>WiiU</td>\n",
       "      <td>82.19</td>\n",
       "    </tr>\n",
       "    <tr>\n",
       "      <th>20</th>\n",
       "      <td>PSV</td>\n",
       "      <td>53.81</td>\n",
       "    </tr>\n",
       "    <tr>\n",
       "      <th>21</th>\n",
       "      <td>SAT</td>\n",
       "      <td>33.59</td>\n",
       "    </tr>\n",
       "    <tr>\n",
       "      <th>8</th>\n",
       "      <td>GEN</td>\n",
       "      <td>28.35</td>\n",
       "    </tr>\n",
       "    <tr>\n",
       "      <th>3</th>\n",
       "      <td>DC</td>\n",
       "      <td>15.95</td>\n",
       "    </tr>\n",
       "    <tr>\n",
       "      <th>22</th>\n",
       "      <td>SCD</td>\n",
       "      <td>1.86</td>\n",
       "    </tr>\n",
       "    <tr>\n",
       "      <th>12</th>\n",
       "      <td>NG</td>\n",
       "      <td>1.44</td>\n",
       "    </tr>\n",
       "    <tr>\n",
       "      <th>25</th>\n",
       "      <td>WS</td>\n",
       "      <td>1.42</td>\n",
       "    </tr>\n",
       "    <tr>\n",
       "      <th>24</th>\n",
       "      <td>TG16</td>\n",
       "      <td>0.16</td>\n",
       "    </tr>\n",
       "    <tr>\n",
       "      <th>1</th>\n",
       "      <td>3DO</td>\n",
       "      <td>0.10</td>\n",
       "    </tr>\n",
       "    <tr>\n",
       "      <th>9</th>\n",
       "      <td>GG</td>\n",
       "      <td>0.04</td>\n",
       "    </tr>\n",
       "    <tr>\n",
       "      <th>14</th>\n",
       "      <td>PCFX</td>\n",
       "      <td>0.03</td>\n",
       "    </tr>\n",
       "  </tbody>\n",
       "</table>\n",
       "</div>"
      ],
      "text/plain": [
       "   platform  total_sales\n",
       "16      PS2      1233.56\n",
       "28     X360       961.24\n",
       "17      PS3       931.33\n",
       "26      Wii       891.18\n",
       "4        DS       802.78\n",
       "15       PS       727.58\n",
       "18      PS4       314.14\n",
       "6       GBA       312.88\n",
       "19      PSP       289.53\n",
       "2       3DS       257.81\n",
       "13       PC       255.76\n",
       "5        GB       254.43\n",
       "29       XB       251.57\n",
       "11      NES       251.05\n",
       "10      N64       218.01\n",
       "23     SNES       200.04\n",
       "7        GC       196.73\n",
       "30     XOne       159.32\n",
       "0      2600        86.48\n",
       "27     WiiU        82.19\n",
       "20      PSV        53.81\n",
       "21      SAT        33.59\n",
       "8       GEN        28.35\n",
       "3        DC        15.95\n",
       "22      SCD         1.86\n",
       "12       NG         1.44\n",
       "25       WS         1.42\n",
       "24     TG16         0.16\n",
       "1       3DO         0.10\n",
       "9        GG         0.04\n",
       "14     PCFX         0.03"
      ]
     },
     "metadata": {},
     "output_type": "display_data"
    },
    {
     "name": "stdout",
     "output_type": "stream",
     "text": [
      "Growing Platforms:\n"
     ]
    },
    {
     "data": {
      "text/html": [
       "<div>\n",
       "<style scoped>\n",
       "    .dataframe tbody tr th:only-of-type {\n",
       "        vertical-align: middle;\n",
       "    }\n",
       "\n",
       "    .dataframe tbody tr th {\n",
       "        vertical-align: top;\n",
       "    }\n",
       "\n",
       "    .dataframe thead th {\n",
       "        text-align: right;\n",
       "    }\n",
       "</style>\n",
       "<table border=\"1\" class=\"dataframe\">\n",
       "  <thead>\n",
       "    <tr style=\"text-align: right;\">\n",
       "      <th>year_of_release</th>\n",
       "      <th>change</th>\n",
       "    </tr>\n",
       "    <tr>\n",
       "      <th>platform</th>\n",
       "      <th></th>\n",
       "    </tr>\n",
       "  </thead>\n",
       "  <tbody>\n",
       "    <tr>\n",
       "      <th>PS4</th>\n",
       "      <td>69.25</td>\n",
       "    </tr>\n",
       "    <tr>\n",
       "      <th>XOne</th>\n",
       "      <td>26.15</td>\n",
       "    </tr>\n",
       "  </tbody>\n",
       "</table>\n",
       "</div>"
      ],
      "text/plain": [
       "year_of_release  change\n",
       "platform               \n",
       "PS4               69.25\n",
       "XOne              26.15"
      ]
     },
     "metadata": {},
     "output_type": "display_data"
    },
    {
     "name": "stdout",
     "output_type": "stream",
     "text": [
      "Shrinking Platforms:\n"
     ]
    },
    {
     "data": {
      "text/html": [
       "<div>\n",
       "<style scoped>\n",
       "    .dataframe tbody tr th:only-of-type {\n",
       "        vertical-align: middle;\n",
       "    }\n",
       "\n",
       "    .dataframe tbody tr th {\n",
       "        vertical-align: top;\n",
       "    }\n",
       "\n",
       "    .dataframe thead th {\n",
       "        text-align: right;\n",
       "    }\n",
       "</style>\n",
       "<table border=\"1\" class=\"dataframe\">\n",
       "  <thead>\n",
       "    <tr style=\"text-align: right;\">\n",
       "      <th>year_of_release</th>\n",
       "      <th>change</th>\n",
       "    </tr>\n",
       "    <tr>\n",
       "      <th>platform</th>\n",
       "      <th></th>\n",
       "    </tr>\n",
       "  </thead>\n",
       "  <tbody>\n",
       "    <tr>\n",
       "      <th>3DS</th>\n",
       "      <td>-36.22</td>\n",
       "    </tr>\n",
       "    <tr>\n",
       "      <th>DS</th>\n",
       "      <td>-11.01</td>\n",
       "    </tr>\n",
       "    <tr>\n",
       "      <th>PC</th>\n",
       "      <td>-17.97</td>\n",
       "    </tr>\n",
       "    <tr>\n",
       "      <th>PS3</th>\n",
       "      <td>-103.75</td>\n",
       "    </tr>\n",
       "    <tr>\n",
       "      <th>PSP</th>\n",
       "      <td>-7.69</td>\n",
       "    </tr>\n",
       "    <tr>\n",
       "      <th>PSV</th>\n",
       "      <td>-11.94</td>\n",
       "    </tr>\n",
       "    <tr>\n",
       "      <th>Wii</th>\n",
       "      <td>-21.53</td>\n",
       "    </tr>\n",
       "    <tr>\n",
       "      <th>WiiU</th>\n",
       "      <td>-12.96</td>\n",
       "    </tr>\n",
       "    <tr>\n",
       "      <th>X360</th>\n",
       "      <td>-98.22</td>\n",
       "    </tr>\n",
       "  </tbody>\n",
       "</table>\n",
       "</div>"
      ],
      "text/plain": [
       "year_of_release  change\n",
       "platform               \n",
       "3DS              -36.22\n",
       "DS               -11.01\n",
       "PC               -17.97\n",
       "PS3             -103.75\n",
       "PSP               -7.69\n",
       "PSV              -11.94\n",
       "Wii              -21.53\n",
       "WiiU             -12.96\n",
       "X360             -98.22"
      ]
     },
     "metadata": {},
     "output_type": "display_data"
    },
    {
     "name": "stdout",
     "output_type": "stream",
     "text": [
      "Profitable Platforms:\n"
     ]
    },
    {
     "data": {
      "text/html": [
       "<div>\n",
       "<style scoped>\n",
       "    .dataframe tbody tr th:only-of-type {\n",
       "        vertical-align: middle;\n",
       "    }\n",
       "\n",
       "    .dataframe tbody tr th {\n",
       "        vertical-align: top;\n",
       "    }\n",
       "\n",
       "    .dataframe thead th {\n",
       "        text-align: right;\n",
       "    }\n",
       "</style>\n",
       "<table border=\"1\" class=\"dataframe\">\n",
       "  <thead>\n",
       "    <tr style=\"text-align: right;\">\n",
       "      <th>year_of_release</th>\n",
       "      <th>change</th>\n",
       "      <th>2016</th>\n",
       "    </tr>\n",
       "    <tr>\n",
       "      <th>platform</th>\n",
       "      <th></th>\n",
       "      <th></th>\n",
       "    </tr>\n",
       "  </thead>\n",
       "  <tbody>\n",
       "    <tr>\n",
       "      <th>PS4</th>\n",
       "      <td>69.25</td>\n",
       "      <td>69.25</td>\n",
       "    </tr>\n",
       "    <tr>\n",
       "      <th>XOne</th>\n",
       "      <td>26.15</td>\n",
       "      <td>26.15</td>\n",
       "    </tr>\n",
       "  </tbody>\n",
       "</table>\n",
       "</div>"
      ],
      "text/plain": [
       "year_of_release  change   2016\n",
       "platform                      \n",
       "PS4               69.25  69.25\n",
       "XOne              26.15  26.15"
      ]
     },
     "metadata": {},
     "output_type": "display_data"
    }
   ],
   "source": [
    "## Find Growing and Shrinking platforms (They currently have sales)\n",
    "# Make a pivot table of platform sales by year\n",
    "pivot = platform_sales_year.pivot(index='platform', columns='year_of_release', values='total_sales').fillna(0)\n",
    "\n",
    "# Find the change in sales from 2012 (relevant data) to 2016 (last year available)\n",
    "pivot['change'] = pivot[2016] - pivot[2012]\n",
    "# Find leading platforms in sales\n",
    "leading = total_sales.sort_values(by='total_sales', ascending=False)\n",
    "# Find growing and shrinking platforms\n",
    "growing = pivot[pivot['change'] > 0]\n",
    "shrinking = pivot[pivot['change'] < 0]\n",
    "# Find profitable platforms - they have a positive change in the last year\n",
    "profitable_platforms = pivot[(pivot[2016] > 0) & (pivot['change'] > 0)]\n",
    "print(\"Leading Platforms in Total Sales:\")\n",
    "display(leading)\n",
    "\n",
    "print(\"Growing Platforms:\")\n",
    "display(growing[['change']])\n",
    "\n",
    "print(\"Shrinking Platforms:\")\n",
    "display(shrinking[['change']])\n",
    "\n",
    "print(\"Profitable Platforms:\")\n",
    "display(profitable_platforms[['change', 2016]])"
   ]
  },
  {
   "cell_type": "code",
   "execution_count": null,
   "metadata": {},
   "outputs": [
    {
     "data": {
      "text/plain": [
       "<Figure size 1200x600 with 0 Axes>"
      ]
     },
     "metadata": {},
     "output_type": "display_data"
    },
    {
     "data": {
      "image/png": "[encoded data removed]",
      "text/plain": [
       "<Figure size 640x480 with 1 Axes>"
      ]
     },
     "metadata": {},
     "output_type": "display_data"
    }
   ],
   "source": [
    "# Group by platform and year, summing the total sales\n",
    "grouped_sales = platform_sales_year.groupby(['year_of_release', 'platform'])['total_sales'].sum().reset_index()\n",
    "\n",
    "# Pivot the DataFrame to get years as index and platforms as columns\n",
    "pivot_sales = grouped_sales.pivot(index='year_of_release', columns='platform', values='total_sales').fillna(0)\n",
    "\n",
    "# Plotting\n",
    "plt.figure(figsize=(12, 9))\n",
    "pivot_sales.plot(kind='line', marker='o')\n",
    "plt.title('Sales Trends by Platform')\n",
    "plt.xlabel('Year')\n",
    "plt.ylabel('Total Sales in Millions')\n",
    "plt.legend(title='Platform')\n",
    "plt.grid(axis='y')\n",
    "plt.show()"
   ]
  },
  {
   "cell_type": "markdown",
   "metadata": {},
   "source": [
    "Platforms that used to be popular but no longer exist are 2600, 3DO (popular as they are one of the first platforms), GB was popular until replaced by GBA which was popular until being replaced by NS( never reached highest single yearly sales as GBA), PS2 was most popular system that no longer has sales."
   ]
  },
  {
   "cell_type": "code",
   "execution_count": 29,
   "metadata": {},
   "outputs": [
    {
     "name": "stdout",
     "output_type": "stream",
     "text": [
      "The average lifecycle for platforms is: 7.612903225806452 years\n"
     ]
    }
   ],
   "source": [
    "## Find the average lifecycle of platforms (max - min sales year)\n",
    "lifespan = platform_sales_year.groupby('platform')['year_of_release'].agg(['max', 'min']).reset_index()\n",
    "# make lifecycle column to input lifecycle\n",
    "lifespan['lifecycle'] = lifespan['max']- lifespan['min']\n",
    "# avg lifecycle \n",
    "avg_lifecycle = lifespan['lifecycle'].mean()\n",
    "print('The average lifecycle for platforms is:', avg_lifecycle, 'years')"
   ]
  },
  {
   "cell_type": "markdown",
   "metadata": {},
   "source": [
    "Data Analysis based on relevant sales = games release after 2011"
   ]
  },
  {
   "cell_type": "code",
   "execution_count": 30,
   "metadata": {},
   "outputs": [],
   "source": [
    "# based on platform sales by year, filter data to be only post 2011\n",
    "relevant_games = games[(games['year_of_release'] > 2011)]"
   ]
  },
  {
   "cell_type": "code",
   "execution_count": 31,
   "metadata": {},
   "outputs": [
    {
     "name": "stdout",
     "output_type": "stream",
     "text": [
      "Top 5 platforms in sales:\n",
      "   platform  total_sales\n",
      "4       PS4       314.14\n",
      "3       PS3       288.78\n",
      "9      X360       236.54\n",
      "0       3DS       194.61\n",
      "10     XOne       159.32\n"
     ]
    }
   ],
   "source": [
    "# find leading sales by platform based on filtered data\n",
    "top_platforms = relevant_games.groupby('platform')['total_sales'].sum().reset_index().sort_values(by='total_sales', ascending=False)\n",
    "print('Top 5 platforms in sales:')\n",
    "print(top_platforms.head(5))"
   ]
  },
  {
   "cell_type": "code",
   "execution_count": 57,
   "metadata": {},
   "outputs": [
    {
     "data": {
      "text/plain": [
       "<Figure size 1200x600 with 0 Axes>"
      ]
     },
     "metadata": {},
     "output_type": "display_data"
    },
    {
     "data": {
      "image/png": "[encoded data removed]",
      "text/plain": [
       "<Figure size 640x480 with 1 Axes>"
      ]
     },
     "metadata": {},
     "output_type": "display_data"
    }
   ],
   "source": [
    "# make chart with sales for new df\n",
    "relevant_sales = relevant_games.groupby(['year_of_release', 'platform'])['total_sales'].sum().reset_index()\n",
    "pivot_relevant = relevant_sales.pivot(index='year_of_release', columns='platform', values='total_sales').fillna(0)\n",
    "\n",
    "# visualize top yearly platforms\n",
    "plt.figure(figsize=(12,6))\n",
    "pivot_relevant.plot(kind='bar', stacked=False)\n",
    "plt.title('Sales by Platform by Year')\n",
    "plt.xlabel('Year of Release')\n",
    "plt.ylabel('Sales in Millions')\n",
    "plt.legend(title='platform')\n",
    "plt.xticks(rotation=45)\n",
    "plt.grid(axis='y')\n",
    "plt.show()"
   ]
  },
  {
   "cell_type": "markdown",
   "metadata": {},
   "source": [
    "PS4 and XboxOne are promising and show growth in total sales in our relevant data timeframe (2012-2016)"
   ]
  },
  {
   "cell_type": "code",
   "execution_count": 33,
   "metadata": {},
   "outputs": [
    {
     "data": {
      "image/png": "[encoded data removed]",
      "text/plain": [
       "<Figure size 1000x600 with 1 Axes>"
      ]
     },
     "metadata": {},
     "output_type": "display_data"
    }
   ],
   "source": [
    "# Build a box plot for global sales of games by platform\n",
    "plt.figure(figsize=(10, 6))\n",
    "sns.boxplot(x='platform', y='total_sales', data=relevant_games)\n",
    "plt.title('Boxplot of Global Sales by Platform')\n",
    "plt.xlabel('Platform')\n",
    "plt.ylabel('Global Sales in Millions')\n",
    "plt.xticks(rotation=60)\n",
    "plt.grid(axis='y')\n",
    "plt.ylim(0,3)\n",
    "plt.show()"
   ]
  },
  {
   "cell_type": "markdown",
   "metadata": {},
   "source": [
    "Xbox 360 has the highest median sales, PSP has the lowest sales and lowest amount of outliers suggesting only a few games are popular for that platform. The newer platforms (Xbox 360 / One, PS 3 / 4) have a number of high outliers increasing sales."
   ]
  },
  {
   "cell_type": "markdown",
   "metadata": {},
   "source": [
    "Take a look at the general distribution of games by genre. What can we say about the most profitable genres? Can you generalize about genres with high and low sales? Compare the sales of the same games on other platforms."
   ]
  },
  {
   "cell_type": "code",
   "execution_count": 34,
   "metadata": {},
   "outputs": [
    {
     "data": {
      "text/html": [
       "<div>\n",
       "<style scoped>\n",
       "    .dataframe tbody tr th:only-of-type {\n",
       "        vertical-align: middle;\n",
       "    }\n",
       "\n",
       "    .dataframe tbody tr th {\n",
       "        vertical-align: top;\n",
       "    }\n",
       "\n",
       "    .dataframe thead th {\n",
       "        text-align: right;\n",
       "    }\n",
       "</style>\n",
       "<table border=\"1\" class=\"dataframe\">\n",
       "  <thead>\n",
       "    <tr style=\"text-align: right;\">\n",
       "      <th></th>\n",
       "      <th>platform</th>\n",
       "      <th>total_game_sales</th>\n",
       "      <th>num_games</th>\n",
       "      <th>avg_sales</th>\n",
       "    </tr>\n",
       "  </thead>\n",
       "  <tbody>\n",
       "    <tr>\n",
       "      <th>9</th>\n",
       "      <td>X360</td>\n",
       "      <td>236.54</td>\n",
       "      <td>292</td>\n",
       "      <td>0.810068</td>\n",
       "    </tr>\n",
       "    <tr>\n",
       "      <th>4</th>\n",
       "      <td>PS4</td>\n",
       "      <td>314.14</td>\n",
       "      <td>392</td>\n",
       "      <td>0.801378</td>\n",
       "    </tr>\n",
       "    <tr>\n",
       "      <th>7</th>\n",
       "      <td>Wii</td>\n",
       "      <td>35.37</td>\n",
       "      <td>54</td>\n",
       "      <td>0.655000</td>\n",
       "    </tr>\n",
       "    <tr>\n",
       "      <th>10</th>\n",
       "      <td>XOne</td>\n",
       "      <td>159.32</td>\n",
       "      <td>247</td>\n",
       "      <td>0.645020</td>\n",
       "    </tr>\n",
       "    <tr>\n",
       "      <th>3</th>\n",
       "      <td>PS3</td>\n",
       "      <td>288.78</td>\n",
       "      <td>492</td>\n",
       "      <td>0.586951</td>\n",
       "    </tr>\n",
       "    <tr>\n",
       "      <th>8</th>\n",
       "      <td>WiiU</td>\n",
       "      <td>82.19</td>\n",
       "      <td>147</td>\n",
       "      <td>0.559116</td>\n",
       "    </tr>\n",
       "    <tr>\n",
       "      <th>0</th>\n",
       "      <td>3DS</td>\n",
       "      <td>194.61</td>\n",
       "      <td>396</td>\n",
       "      <td>0.491439</td>\n",
       "    </tr>\n",
       "    <tr>\n",
       "      <th>1</th>\n",
       "      <td>DS</td>\n",
       "      <td>12.55</td>\n",
       "      <td>31</td>\n",
       "      <td>0.404839</td>\n",
       "    </tr>\n",
       "    <tr>\n",
       "      <th>2</th>\n",
       "      <td>PC</td>\n",
       "      <td>62.65</td>\n",
       "      <td>250</td>\n",
       "      <td>0.250600</td>\n",
       "    </tr>\n",
       "    <tr>\n",
       "      <th>6</th>\n",
       "      <td>PSV</td>\n",
       "      <td>49.18</td>\n",
       "      <td>411</td>\n",
       "      <td>0.119659</td>\n",
       "    </tr>\n",
       "    <tr>\n",
       "      <th>5</th>\n",
       "      <td>PSP</td>\n",
       "      <td>11.19</td>\n",
       "      <td>173</td>\n",
       "      <td>0.064682</td>\n",
       "    </tr>\n",
       "  </tbody>\n",
       "</table>\n",
       "</div>"
      ],
      "text/plain": [
       "   platform  total_game_sales  num_games  avg_sales\n",
       "9      X360            236.54        292   0.810068\n",
       "4       PS4            314.14        392   0.801378\n",
       "7       Wii             35.37         54   0.655000\n",
       "10     XOne            159.32        247   0.645020\n",
       "3       PS3            288.78        492   0.586951\n",
       "8      WiiU             82.19        147   0.559116\n",
       "0       3DS            194.61        396   0.491439\n",
       "1        DS             12.55         31   0.404839\n",
       "2        PC             62.65        250   0.250600\n",
       "6       PSV             49.18        411   0.119659\n",
       "5       PSP             11.19        173   0.064682"
      ]
     },
     "metadata": {},
     "output_type": "display_data"
    }
   ],
   "source": [
    "# Find average sales on platforms\n",
    "plat_sales = relevant_games.groupby('platform').agg(total_game_sales=('total_sales', 'sum'), num_games=('total_sales', 'count'), avg_sales=('total_sales', 'mean')).reset_index()\n",
    "##plat_sales['avg_sales'] = plat_sales['total_game_sales'] / plat_sales['num_games']\n",
    "display(plat_sales.sort_values(by='avg_sales', ascending=False))\n"
   ]
  },
  {
   "cell_type": "markdown",
   "metadata": {},
   "source": [
    "Xbox360 has the highest average sales but PS4 is in second by ~0.01 %. The PS4 has 100 more games than the Xbox360. The PSP has the lowest average sales at 6.46% and also has the lowest amount of game sales"
   ]
  },
  {
   "cell_type": "code",
   "execution_count": 35,
   "metadata": {},
   "outputs": [
    {
     "data": {
      "image/png": "[encoded data removed]",
      "text/plain": [
       "<Figure size 1000x600 with 2 Axes>"
      ]
     },
     "metadata": {},
     "output_type": "display_data"
    }
   ],
   "source": [
    "### Pick one platform and create scatterplot comparing user vs critic score sales\n",
    "# For example, let's pick the PS3 platform\n",
    "ps3 = relevant_games[relevant_games['platform'] == 'PS3']\n",
    "# Create scatterplot comparing user vs critic score sales\n",
    "# user score plot\n",
    "plt.figure(figsize=(10,6))\n",
    "plt.subplot(1, 2, 1)\n",
    "sns.scatterplot(x='user_score', y='total_sales', data=ps3)\n",
    "plt.title('User Score and Global Sales')\n",
    "plt.xlabel('User Score')\n",
    "plt.ylabel('Global Sales')\n",
    "\n",
    "# critic score plot\n",
    "plt.subplot(1, 2, 2)\n",
    "sns.scatterplot(x='critic_score', y='total_sales', data=ps3)\n",
    "plt.title('Critic Score and Global Sales')\n",
    "plt.xlabel('Critic Score')\n",
    "plt.ylabel('Global Sales')\n",
    "plt.tight_layout()\n",
    "plt.show()\n"
   ]
  },
  {
   "cell_type": "code",
   "execution_count": 36,
   "metadata": {},
   "outputs": [
    {
     "name": "stdout",
     "output_type": "stream",
     "text": [
      "User score correlation: -0.006205767686051499\n",
      "Critic score correlation: 0.3341517575509856\n"
     ]
    }
   ],
   "source": [
    "# Find correlation between two plots\n",
    "user_corr = ps3['user_score'].corr(ps3['total_sales'])\n",
    "critic_corr = ps3['critic_score'].corr(ps3['total_sales'])\n",
    "print(\"User score correlation:\", user_corr)\n",
    "print(\"Critic score correlation:\", critic_corr)"
   ]
  },
  {
   "cell_type": "code",
   "execution_count": 37,
   "metadata": {},
   "outputs": [
    {
     "name": "stdout",
     "output_type": "stream",
     "text": [
      "User score correlation: 0.006163978646213326\n",
      "Critic score correlation: 0.3605734888507336\n"
     ]
    }
   ],
   "source": [
    "# Find correlation between scores on Xbox360\n",
    "x360 = relevant_games[relevant_games['platform'] == 'X360']\n",
    "\n",
    "user_corr = x360['user_score'].corr(x360['total_sales'])\n",
    "critic_corr = x360['critic_score'].corr(x360['total_sales'])\n",
    "print(\"User score correlation:\", user_corr)\n",
    "print(\"Critic score correlation:\", critic_corr)"
   ]
  },
  {
   "cell_type": "code",
   "execution_count": 38,
   "metadata": {},
   "outputs": [
    {
     "name": "stdout",
     "output_type": "stream",
     "text": [
      "User score correlation: -0.031957110204556424\n",
      "Critic score correlation: 0.40656790206178095\n"
     ]
    }
   ],
   "source": [
    "# Find correlation between scores on PS4\n",
    "ps4 = relevant_games[relevant_games['platform'] == 'PS4']\n",
    "\n",
    "user_corr = ps4['user_score'].corr(ps4['total_sales'])\n",
    "critic_corr = ps4['critic_score'].corr(ps4['total_sales'])\n",
    "print(\"User score correlation:\", user_corr)\n",
    "print(\"Critic score correlation:\", critic_corr)"
   ]
  },
  {
   "cell_type": "markdown",
   "metadata": {},
   "source": [
    "Based on correlation score, User score does not indicate the sales performance of the games sold. Critic score has a moderate positive correlation with sales performance. The correlation score for Users is near 0.0 while Critic scores are between .33 - .40"
   ]
  },
  {
   "cell_type": "code",
   "execution_count": 39,
   "metadata": {},
   "outputs": [],
   "source": [
    "# Compare sales of the same game on other platforms\n",
    "#platform_sale = relevant_games.groupby(['name', 'platform'])['total_sales'].sum().reset_index()\n",
    "#sales_compare = platform_sale.pivot(index='name', columns='platform', values='total_sales').fillna(0)\n",
    "#sales_compare['total_sales'] = sales_compare.sum(axis=1)\n",
    "#sales_compare_sort = sales_compare.sort_values(by='total_sales', ascending=False)\n",
    "#display(sales_compare_sort)\n"
   ]
  },
  {
   "cell_type": "code",
   "execution_count": 40,
   "metadata": {},
   "outputs": [
    {
     "name": "stdout",
     "output_type": "stream",
     "text": [
      "Distribution of games by genre:\n",
      "Action          1031\n",
      "Role-Playing     370\n",
      "Adventure        302\n",
      "Sports           267\n",
      "Shooter          235\n",
      "Misc             192\n",
      "Racing           115\n",
      "Fighting         109\n",
      "Platform          85\n",
      "Simulation        80\n",
      "Strategy          71\n",
      "Puzzle            28\n",
      "Name: genre, dtype: int64\n"
     ]
    }
   ],
   "source": [
    "# Distribution of games by genre\n",
    "genre_dist = relevant_games['genre'].value_counts()\n",
    "print('Distribution of games by genre:')\n",
    "print(genre_dist)"
   ]
  },
  {
   "cell_type": "code",
   "execution_count": 41,
   "metadata": {},
   "outputs": [
    {
     "name": "stdout",
     "output_type": "stream",
     "text": [
      "          genre  total_sales\n",
      "0        Action       441.12\n",
      "8       Shooter       304.73\n",
      "7  Role-Playing       192.80\n"
     ]
    }
   ],
   "source": [
    "# Find most profitable genre\n",
    "genre_sales = relevant_games.groupby('genre')['total_sales'].sum().reset_index()\n",
    "profit_genre = genre_sales.sort_values(by='total_sales', ascending=False)\n",
    "print(profit_genre.head(3))"
   ]
  },
  {
   "cell_type": "code",
   "execution_count": 42,
   "metadata": {},
   "outputs": [
    {
     "name": "stdout",
     "output_type": "stream",
     "text": [
      "           genre  total_sales  num_games  avg_profit\n",
      "8        Shooter       304.73        235    1.296723\n",
      "4       Platform        61.00         85    0.717647\n",
      "10        Sports       181.06        267    0.678127\n",
      "7   Role-Playing       192.80        370    0.521081\n",
      "6         Racing        53.50        115    0.465217\n",
      "3           Misc        85.04        192    0.442917\n",
      "9     Simulation        35.12         80    0.439000\n",
      "0         Action       441.12       1031    0.427856\n",
      "2       Fighting        44.49        109    0.408165\n",
      "11      Strategy        13.34         71    0.187887\n",
      "5         Puzzle         4.89         28    0.174643\n",
      "1      Adventure        29.43        302    0.097450\n"
     ]
    }
   ],
   "source": [
    "# Compare differences in low and high profit genres\n",
    "# Calculate the average profit for each genre\n",
    "genre_sales_avg = relevant_games.groupby('genre').agg(\n",
    "    total_sales=('total_sales', 'sum'),\n",
    "    num_games=('total_sales', 'count')\n",
    ").reset_index()\n",
    "genre_sales_avg['avg_profit'] = genre_sales_avg['total_sales'] / genre_sales_avg['num_games']\n",
    "genre_sales_avg = genre_sales_avg.sort_values(by='avg_profit', ascending=False)\n",
    "print(genre_sales_avg)"
   ]
  },
  {
   "cell_type": "markdown",
   "metadata": {},
   "source": [
    "Shooter has an extremely high lead in Average Profit with relatively average number of games. Action has the highest total sales but also has a high number of games lowering average profit. Adventure games have an average number of games but a low sales causing the lowest average profit."
   ]
  },
  {
   "cell_type": "markdown",
   "metadata": {},
   "source": [
    "\n",
    "Step 4. Create a user profile for each region\n",
    "\n",
    "For each region (NA, EU, JP), determine:\n",
    "\n",
    "The top five platforms. Describe variations in their market shares from region to region.\n",
    "The top five genres. Explain the difference.\n",
    "Do ESRB ratings affect sales in individual regions?"
   ]
  },
  {
   "cell_type": "markdown",
   "metadata": {},
   "source": [
    "North America User profile"
   ]
  },
  {
   "cell_type": "code",
   "execution_count": 43,
   "metadata": {},
   "outputs": [
    {
     "data": {
      "text/plain": [
       "'North America User Profile by Sales'"
      ]
     },
     "metadata": {},
     "output_type": "display_data"
    },
    {
     "data": {
      "text/plain": [
       "platform\n",
       "X360    140.05\n",
       "PS4     108.74\n",
       "PS3     103.38\n",
       "XOne     93.12\n",
       "3DS      55.31\n",
       "Name: na_sales, dtype: float64"
      ]
     },
     "metadata": {},
     "output_type": "display_data"
    },
    {
     "data": {
      "text/plain": [
       "genre\n",
       "Action          177.84\n",
       "Shooter         144.77\n",
       "Sports           81.53\n",
       "Role-Playing     64.00\n",
       "Misc             38.19\n",
       "Name: na_sales, dtype: float64"
      ]
     },
     "metadata": {},
     "output_type": "display_data"
    },
    {
     "data": {
      "text/plain": [
       "rating\n",
       "M            231.57\n",
       "E            114.37\n",
       "Not Rated    103.31\n",
       "E10+          75.70\n",
       "T             66.02\n",
       "Name: na_sales, dtype: float64"
      ]
     },
     "metadata": {},
     "output_type": "display_data"
    }
   ],
   "source": [
    "# Find top platforms for NA\n",
    "northamerica = relevant_games[relevant_games['na_sales'] > 0]\n",
    "na_plat = northamerica.groupby('platform')['na_sales'].sum().nlargest(5)\n",
    "display('North America User Profile by Sales') \n",
    "display(na_plat)\n",
    "# Find top genre for NA\n",
    "na_genre = northamerica.groupby('genre')['na_sales'].sum().nlargest(5)\n",
    "display(na_genre)\n",
    "# Find sales by rating for NA\n",
    "na_rating = northamerica.groupby('rating')['na_sales'].sum().nlargest(5)\n",
    "display(na_rating)"
   ]
  },
  {
   "cell_type": "markdown",
   "metadata": {},
   "source": [
    "European User Profile"
   ]
  },
  {
   "cell_type": "code",
   "execution_count": 44,
   "metadata": {},
   "outputs": [
    {
     "data": {
      "text/plain": [
       "'European User Profile by Sales'"
      ]
     },
     "metadata": {},
     "output_type": "display_data"
    },
    {
     "data": {
      "text/plain": [
       "platform\n",
       "PS4     141.09\n",
       "PS3     106.85\n",
       "X360     74.52\n",
       "XOne     51.59\n",
       "3DS      42.64\n",
       "Name: eu_sales, dtype: float64"
      ]
     },
     "metadata": {},
     "output_type": "display_data"
    },
    {
     "data": {
      "text/plain": [
       "genre\n",
       "Action          170.67\n",
       "Shooter         144.37\n",
       "Sports           73.99\n",
       "Role-Playing     62.30\n",
       "Misc             37.85\n",
       "Name: na_sales, dtype: float64"
      ]
     },
     "metadata": {},
     "output_type": "display_data"
    },
    {
     "data": {
      "text/plain": [
       "rating\n",
       "M            193.96\n",
       "E            113.02\n",
       "Not Rated     91.50\n",
       "E10+          55.37\n",
       "T             52.96\n",
       "Name: eu_sales, dtype: float64"
      ]
     },
     "metadata": {},
     "output_type": "display_data"
    }
   ],
   "source": [
    "# Find top platforms for Europe\n",
    "eu = relevant_games[relevant_games['eu_sales'] > 0]\n",
    "eu_plat = eu.groupby('platform')['eu_sales'].sum().nlargest(5)\n",
    "display('European User Profile by Sales') \n",
    "display(eu_plat)\n",
    "# Find top genre for Europe\n",
    "eu_genre = eu.groupby('genre')['na_sales'].sum().nlargest(5)\n",
    "display(eu_genre)\n",
    "# Find sales by rating for Europe\n",
    "eu_rating = eu.groupby('rating')['eu_sales'].sum().nlargest(5)\n",
    "display(eu_rating)"
   ]
  },
  {
   "cell_type": "markdown",
   "metadata": {},
   "source": [
    "Japan User Profile"
   ]
  },
  {
   "cell_type": "code",
   "execution_count": 45,
   "metadata": {},
   "outputs": [
    {
     "data": {
      "text/plain": [
       "'Japan User Profile by Sales'"
      ]
     },
     "metadata": {},
     "output_type": "display_data"
    },
    {
     "data": {
      "text/plain": [
       "platform\n",
       "3DS     87.79\n",
       "PS3     35.29\n",
       "PSV     21.04\n",
       "PS4     15.96\n",
       "WiiU    13.01\n",
       "Name: jp_sales, dtype: float64"
      ]
     },
     "metadata": {},
     "output_type": "display_data"
    },
    {
     "data": {
      "text/plain": [
       "genre\n",
       "Role-Playing    65.44\n",
       "Action          52.80\n",
       "Misc            12.86\n",
       "Simulation      10.41\n",
       "Fighting         9.44\n",
       "Name: jp_sales, dtype: float64"
      ]
     },
     "metadata": {},
     "output_type": "display_data"
    },
    {
     "data": {
      "text/plain": [
       "rating\n",
       "Not Rated    108.84\n",
       "E             28.33\n",
       "T             26.02\n",
       "M             21.20\n",
       "E10+           8.19\n",
       "Name: jp_sales, dtype: float64"
      ]
     },
     "metadata": {},
     "output_type": "display_data"
    }
   ],
   "source": [
    "# Find top platforms for JP\n",
    "jp = relevant_games[relevant_games['jp_sales'] > 0]\n",
    "jp_plat = jp.groupby('platform')['jp_sales'].sum().nlargest(5)\n",
    "display('Japan User Profile by Sales') \n",
    "display(jp_plat)\n",
    "# Find top genre for JP\n",
    "jp_genre = jp.groupby('genre')['jp_sales'].sum().nlargest(5)\n",
    "display(jp_genre)\n",
    "# Find sales by rating for JP\n",
    "jp_rating = jp.groupby('rating')['jp_sales'].sum().nlargest(5)\n",
    "display(jp_rating)"
   ]
  },
  {
   "cell_type": "markdown",
   "metadata": {},
   "source": [
    "Europe and North America have much higher sales than Japan, love the action genre and have high sales in M rating followed by E rating. Europe has higher sales in PS4 and PS3 than Xbox360 and ONE suggesting customer loyalty between console generations. North America has Xbox360 as highest seller and XboxOne behind PS3 and PS4 suggesting some xbox 360 customers changed to PS4 when upgrading consoles. Japan has 3DS dominating the market with over 2x sales of second place PS3 and Role playing as favorite genre."
   ]
  },
  {
   "cell_type": "markdown",
   "metadata": {},
   "source": [
    "\n",
    "Step 5. Test the following hypotheses:\n",
    "\n",
    "—Average user ratings of the Xbox One and PC platforms are the same. \n",
    "\n",
    "—Average user ratings for the Action and Sports genres are different.\n",
    "\n",
    "Set the alpha threshold value yourself.\n",
    "\n",
    "Explain:\n",
    "\n",
    "—How you formulated the null and alternative hypotheses \n",
    "\n",
    "—What significance level you chose to test the hypotheses, and why"
   ]
  },
  {
   "cell_type": "markdown",
   "metadata": {},
   "source": [
    "# Hypothesis Testing"
   ]
  },
  {
   "cell_type": "code",
   "execution_count": 46,
   "metadata": {},
   "outputs": [
    {
     "name": "stdout",
     "output_type": "stream",
     "text": [
      "T-statistic: 0.5930304646661255 p-value: 0.5535080500643661\n",
      "Fail to reject the null hypothesis: No significant difference in average user ratings for Xbox One and PC.\n"
     ]
    }
   ],
   "source": [
    "# Hypothesis Testing - Xbox one and PC average user ratings\n",
    " # H_0 - Null Hypothesis: the User rating for Xbox one and PC are equal\n",
    " # H_A - Alternative Hypothesis: the User rating for Xbox one and PC are not equal\n",
    "xbox_rating = relevant_games[relevant_games['platform'] == 'XOne']['user_score'].dropna()\n",
    "pc_rating = relevant_games[relevant_games['platform'] == 'PC']['user_score'].dropna()\n",
    "# Calculate hypothesis test statistics\n",
    "t_stat, p_value = stats.ttest_ind(xbox_rating, pc_rating)\n",
    "print('T-statistic:', t_stat, 'p-value:', p_value)\n",
    "# decision on P - Value\n",
    "alpha = .05\n",
    "if p_value < alpha:\n",
    "      print(\"Reject the null hypothesis: The average user ratings for Xbox One and PC are different.\")\n",
    "else:\n",
    "      print(\"Fail to reject the null hypothesis: No significant difference in average user ratings for Xbox One and PC.\")"
   ]
  },
  {
   "cell_type": "code",
   "execution_count": 47,
   "metadata": {},
   "outputs": [
    {
     "name": "stdout",
     "output_type": "stream",
     "text": [
      "T-statistic: 10.984175532598625 p-value: 4.8045233804629176e-26\n",
      "Reject H_0: Average User rating for Action and Sports genre are different\n"
     ]
    }
   ],
   "source": [
    "# Hypothesis Testing - Avg User rating for Action and Sports genres\n",
    " # H_0 - Null Hypothesis: Average User rating for Action and Sports genre are the same\n",
    " # H_A - Alternative Hypothesis: Average User rating for Action and Sports genre are different\n",
    "action_rating = relevant_games[relevant_games['genre'] == 'Action']['user_score'].dropna()\n",
    "sports_rating = relevant_games[relevant_games['genre'] == 'Sports']['user_score'].dropna()\n",
    "# Calculate hypothesis test statistic\n",
    "t_stat, p_value = stats.ttest_ind(action_rating, sports_rating)\n",
    "print('T-statistic:', t_stat, 'p-value:', p_value)\n",
    "# P value decision\n",
    "alpha = 0.05\n",
    "if p_value < alpha:\n",
    "    print('Reject H_0: Average User rating for Action and Sports genre are different')\n",
    "else:\n",
    "    print('Fail to reject H_0: Average User rating for Action and Sports genre are the same')"
   ]
  },
  {
   "cell_type": "markdown",
   "metadata": {},
   "source": [
    "As there were 2 different groups, I decided to use an independent t test. Alpha value set at .05 for general significance. Both hypothesis started as assuming the groups were the same. The action v sports genre hypothesis was rejected , indicating that there was a significant difference between the two groups user score at the significance level chosen. The XboxOne v PC platform user rating hypothesis was failed to reject as there is no significant differenece between the platforms User rating."
   ]
  },
  {
   "cell_type": "markdown",
   "metadata": {},
   "source": [
    "\n",
    "\n",
    "Step 6. Write a general conclusion"
   ]
  },
  {
   "cell_type": "markdown",
   "metadata": {},
   "source": [
    "Conclusion\n",
    "PS2 has the most sales but is no longer an active platform. The average platform lifespan is about 9 years. Action games are loved by gamers, but the market is saturated. ESRB Rating 'M' is the most sold rating. The critic and user scores are not highly correlated. If selling an action or sports game, focus selling in North America and Europe with promsing platform (PS4 and Xbox One). If focusing in Japan, consider releasing on a role playing or action game on the 3DS. There is a difference between action v sports genre user scores but user scores are not significantly different between PC and XboxOne platforms.\n",
    "Japan is a lower selling market with 3DS leading the platform game sales, mainly in role playing and action games.\n",
    "European customers are more loyal to PS as shown by both PS3 and PS4 outselling the Xbox360 and XboxOne.\n",
    "North American customers seem to have an action addiction as action and shooter lead the genre charts.\n",
    "It would be interesting to see how the Not Rated games change the distibution once their ratings were updated. Currently M rated games thrive in Europe and North America followed by E rating while Japan has a lower preference for M rated games. "
   ]
  },
  {
   "cell_type": "code",
   "execution_count": null,
   "metadata": {},
   "outputs": [],
   "source": []
  }
 ],
 "metadata": {
  "ExecuteTimeLog": [
   {
    "duration": 8,
    "start_time": "2025-01-21T22:50:49.222Z"
   },
   {
    "duration": 930,
    "start_time": "2025-01-21T22:50:55.232Z"
   },
   {
    "duration": 60,
    "start_time": "2025-01-21T22:51:31.851Z"
   },
   {
    "duration": 63,
    "start_time": "2025-01-21T22:52:32.621Z"
   },
   {
    "duration": 50,
    "start_time": "2025-01-21T22:52:52.192Z"
   },
   {
    "duration": 2399,
    "start_time": "2025-01-21T22:59:15.676Z"
   },
   {
    "duration": 35,
    "start_time": "2025-01-21T22:59:37.555Z"
   },
   {
    "duration": 36,
    "start_time": "2025-01-21T22:59:47.494Z"
   },
   {
    "duration": 30,
    "start_time": "2025-01-21T23:00:05.715Z"
   },
   {
    "duration": 10,
    "start_time": "2025-01-21T23:02:33.118Z"
   },
   {
    "duration": 30,
    "start_time": "2025-01-21T23:02:46.713Z"
   },
   {
    "duration": 16,
    "start_time": "2025-01-21T23:03:19.450Z"
   },
   {
    "duration": 12,
    "start_time": "2025-01-21T23:03:30.807Z"
   },
   {
    "duration": 6,
    "start_time": "2025-01-21T23:03:33.584Z"
   },
   {
    "duration": 4,
    "start_time": "2025-01-21T23:04:45.087Z"
   },
   {
    "duration": 3,
    "start_time": "2025-01-21T23:05:48.930Z"
   },
   {
    "duration": 6,
    "start_time": "2025-01-21T23:08:32.799Z"
   },
   {
    "duration": 4,
    "start_time": "2025-01-21T23:09:04.152Z"
   },
   {
    "duration": 22,
    "start_time": "2025-01-21T23:09:26.677Z"
   },
   {
    "duration": 543,
    "start_time": "2025-01-21T23:09:38.572Z"
   },
   {
    "duration": 4,
    "start_time": "2025-01-21T23:10:03.804Z"
   },
   {
    "duration": 6,
    "start_time": "2025-01-21T23:11:33.132Z"
   },
   {
    "duration": 7,
    "start_time": "2025-01-21T23:17:38.807Z"
   },
   {
    "duration": 8,
    "start_time": "2025-01-21T23:18:00.591Z"
   },
   {
    "duration": 5,
    "start_time": "2025-01-21T23:26:27.581Z"
   },
   {
    "duration": 3,
    "start_time": "2025-01-21T23:27:31.665Z"
   },
   {
    "duration": 4,
    "start_time": "2025-01-21T23:27:46.577Z"
   },
   {
    "duration": 9,
    "start_time": "2025-01-21T23:28:16.806Z"
   },
   {
    "duration": 5,
    "start_time": "2025-01-21T23:30:16.399Z"
   },
   {
    "duration": 11,
    "start_time": "2025-01-21T23:30:17.012Z"
   },
   {
    "duration": 5,
    "start_time": "2025-01-21T23:36:26.990Z"
   },
   {
    "duration": 5,
    "start_time": "2025-01-21T23:38:47.755Z"
   },
   {
    "duration": 5,
    "start_time": "2025-01-21T23:40:55.901Z"
   },
   {
    "duration": 7,
    "start_time": "2025-01-21T23:42:51.000Z"
   },
   {
    "duration": 5,
    "start_time": "2025-01-21T23:48:07.334Z"
   },
   {
    "duration": 7,
    "start_time": "2025-01-21T23:48:09.798Z"
   },
   {
    "duration": 3,
    "start_time": "2025-01-21T23:48:45.199Z"
   },
   {
    "duration": 2,
    "start_time": "2025-01-21T23:48:54.555Z"
   },
   {
    "duration": 2,
    "start_time": "2025-01-21T23:50:23.218Z"
   },
   {
    "duration": 2,
    "start_time": "2025-01-21T23:50:50.233Z"
   },
   {
    "duration": 2,
    "start_time": "2025-01-21T23:55:58.837Z"
   },
   {
    "duration": 2,
    "start_time": "2025-01-21T23:59:34.802Z"
   },
   {
    "duration": 2597,
    "start_time": "2025-01-22T22:25:14.391Z"
   },
   {
    "duration": 9,
    "start_time": "2025-01-22T22:25:16.990Z"
   },
   {
    "duration": 5,
    "start_time": "2025-01-22T22:25:17.001Z"
   },
   {
    "duration": 661,
    "start_time": "2025-01-22T22:25:17.007Z"
   },
   {
    "duration": 0,
    "start_time": "2025-01-22T22:25:17.671Z"
   },
   {
    "duration": 0,
    "start_time": "2025-01-22T22:25:17.672Z"
   },
   {
    "duration": 0,
    "start_time": "2025-01-22T22:25:17.673Z"
   },
   {
    "duration": 0,
    "start_time": "2025-01-22T22:25:17.674Z"
   },
   {
    "duration": 0,
    "start_time": "2025-01-22T22:25:17.676Z"
   },
   {
    "duration": 0,
    "start_time": "2025-01-22T22:25:17.677Z"
   },
   {
    "duration": 0,
    "start_time": "2025-01-22T22:25:17.679Z"
   },
   {
    "duration": 0,
    "start_time": "2025-01-22T22:25:17.680Z"
   },
   {
    "duration": 0,
    "start_time": "2025-01-22T22:25:17.681Z"
   },
   {
    "duration": 0,
    "start_time": "2025-01-22T22:25:17.682Z"
   },
   {
    "duration": 0,
    "start_time": "2025-01-22T22:25:17.683Z"
   },
   {
    "duration": 0,
    "start_time": "2025-01-22T22:25:17.685Z"
   },
   {
    "duration": 0,
    "start_time": "2025-01-22T22:25:17.686Z"
   },
   {
    "duration": 0,
    "start_time": "2025-01-22T22:25:17.687Z"
   },
   {
    "duration": 0,
    "start_time": "2025-01-22T22:25:17.688Z"
   },
   {
    "duration": 0,
    "start_time": "2025-01-22T22:25:17.689Z"
   },
   {
    "duration": 0,
    "start_time": "2025-01-22T22:25:17.690Z"
   },
   {
    "duration": 0,
    "start_time": "2025-01-22T22:25:17.691Z"
   },
   {
    "duration": 0,
    "start_time": "2025-01-22T22:25:17.725Z"
   },
   {
    "duration": 0,
    "start_time": "2025-01-22T22:25:17.726Z"
   },
   {
    "duration": 6,
    "start_time": "2025-01-22T22:26:18.520Z"
   },
   {
    "duration": 793,
    "start_time": "2025-01-22T22:26:34.184Z"
   },
   {
    "duration": 12,
    "start_time": "2025-01-22T22:26:34.979Z"
   },
   {
    "duration": 4,
    "start_time": "2025-01-22T22:26:34.993Z"
   },
   {
    "duration": 25,
    "start_time": "2025-01-22T22:26:35.000Z"
   },
   {
    "duration": 4,
    "start_time": "2025-01-22T22:26:35.027Z"
   },
   {
    "duration": 4,
    "start_time": "2025-01-22T22:26:35.033Z"
   },
   {
    "duration": 7,
    "start_time": "2025-01-22T22:26:35.039Z"
   },
   {
    "duration": 7,
    "start_time": "2025-01-22T22:26:35.047Z"
   },
   {
    "duration": 7,
    "start_time": "2025-01-22T22:26:35.055Z"
   },
   {
    "duration": 5,
    "start_time": "2025-01-22T22:26:35.065Z"
   },
   {
    "duration": 4,
    "start_time": "2025-01-22T22:26:35.072Z"
   },
   {
    "duration": 49,
    "start_time": "2025-01-22T22:26:35.077Z"
   },
   {
    "duration": 6,
    "start_time": "2025-01-22T22:26:35.127Z"
   },
   {
    "duration": 5,
    "start_time": "2025-01-22T22:26:35.135Z"
   },
   {
    "duration": 6,
    "start_time": "2025-01-22T22:26:35.142Z"
   },
   {
    "duration": 5,
    "start_time": "2025-01-22T22:26:35.149Z"
   },
   {
    "duration": 2,
    "start_time": "2025-01-22T22:26:35.156Z"
   },
   {
    "duration": 2,
    "start_time": "2025-01-22T22:26:35.160Z"
   },
   {
    "duration": 2,
    "start_time": "2025-01-22T22:26:35.164Z"
   },
   {
    "duration": 2,
    "start_time": "2025-01-22T22:26:35.168Z"
   },
   {
    "duration": 2,
    "start_time": "2025-01-22T22:26:35.171Z"
   },
   {
    "duration": 2,
    "start_time": "2025-01-22T22:26:35.175Z"
   },
   {
    "duration": 50,
    "start_time": "2025-01-22T22:26:35.179Z"
   },
   {
    "duration": 0,
    "start_time": "2025-01-22T22:26:35.230Z"
   },
   {
    "duration": 5,
    "start_time": "2025-01-22T22:33:26.004Z"
   },
   {
    "duration": 6,
    "start_time": "2025-01-22T22:33:37.041Z"
   },
   {
    "duration": 266,
    "start_time": "2025-01-22T22:36:54.774Z"
   },
   {
    "duration": 15,
    "start_time": "2025-01-22T22:37:10.698Z"
   },
   {
    "duration": 856,
    "start_time": "2025-01-22T22:37:21.855Z"
   },
   {
    "duration": 14,
    "start_time": "2025-01-22T22:37:22.713Z"
   },
   {
    "duration": 4,
    "start_time": "2025-01-22T22:37:22.728Z"
   },
   {
    "duration": 5,
    "start_time": "2025-01-22T22:37:22.734Z"
   },
   {
    "duration": 3,
    "start_time": "2025-01-22T22:37:22.741Z"
   },
   {
    "duration": 5,
    "start_time": "2025-01-22T22:37:22.745Z"
   },
   {
    "duration": 7,
    "start_time": "2025-01-22T22:37:22.752Z"
   },
   {
    "duration": 7,
    "start_time": "2025-01-22T22:37:22.760Z"
   },
   {
    "duration": 8,
    "start_time": "2025-01-22T22:37:22.768Z"
   },
   {
    "duration": 47,
    "start_time": "2025-01-22T22:37:22.777Z"
   },
   {
    "duration": 4,
    "start_time": "2025-01-22T22:37:22.826Z"
   },
   {
    "duration": 5,
    "start_time": "2025-01-22T22:37:22.832Z"
   },
   {
    "duration": 6,
    "start_time": "2025-01-22T22:37:22.839Z"
   },
   {
    "duration": 4,
    "start_time": "2025-01-22T22:37:22.849Z"
   },
   {
    "duration": 7,
    "start_time": "2025-01-22T22:37:22.855Z"
   },
   {
    "duration": 6,
    "start_time": "2025-01-22T22:37:22.863Z"
   },
   {
    "duration": 6,
    "start_time": "2025-01-22T22:37:22.871Z"
   },
   {
    "duration": 316,
    "start_time": "2025-01-22T22:37:22.878Z"
   },
   {
    "duration": 0,
    "start_time": "2025-01-22T22:37:23.196Z"
   },
   {
    "duration": 0,
    "start_time": "2025-01-22T22:37:23.198Z"
   },
   {
    "duration": 0,
    "start_time": "2025-01-22T22:37:23.201Z"
   },
   {
    "duration": 0,
    "start_time": "2025-01-22T22:37:23.202Z"
   },
   {
    "duration": 0,
    "start_time": "2025-01-22T22:37:23.204Z"
   },
   {
    "duration": 828,
    "start_time": "2025-01-22T22:38:02.720Z"
   },
   {
    "duration": 10,
    "start_time": "2025-01-22T22:38:03.550Z"
   },
   {
    "duration": 4,
    "start_time": "2025-01-22T22:38:03.562Z"
   },
   {
    "duration": 6,
    "start_time": "2025-01-22T22:38:03.568Z"
   },
   {
    "duration": 3,
    "start_time": "2025-01-22T22:38:03.576Z"
   },
   {
    "duration": 3,
    "start_time": "2025-01-22T22:38:03.581Z"
   },
   {
    "duration": 6,
    "start_time": "2025-01-22T22:38:03.586Z"
   },
   {
    "duration": 6,
    "start_time": "2025-01-22T22:38:03.625Z"
   },
   {
    "duration": 8,
    "start_time": "2025-01-22T22:38:03.632Z"
   },
   {
    "duration": 5,
    "start_time": "2025-01-22T22:38:03.641Z"
   },
   {
    "duration": 4,
    "start_time": "2025-01-22T22:38:03.648Z"
   },
   {
    "duration": 5,
    "start_time": "2025-01-22T22:38:03.653Z"
   },
   {
    "duration": 6,
    "start_time": "2025-01-22T22:38:03.659Z"
   },
   {
    "duration": 4,
    "start_time": "2025-01-22T22:38:03.668Z"
   },
   {
    "duration": 6,
    "start_time": "2025-01-22T22:38:03.674Z"
   },
   {
    "duration": 48,
    "start_time": "2025-01-22T22:38:03.681Z"
   },
   {
    "duration": 5,
    "start_time": "2025-01-22T22:38:03.731Z"
   },
   {
    "duration": 296,
    "start_time": "2025-01-22T22:38:03.738Z"
   },
   {
    "duration": 3,
    "start_time": "2025-01-22T22:38:04.036Z"
   },
   {
    "duration": 3,
    "start_time": "2025-01-22T22:38:04.040Z"
   },
   {
    "duration": 3,
    "start_time": "2025-01-22T22:38:04.044Z"
   },
   {
    "duration": 3,
    "start_time": "2025-01-22T22:38:04.048Z"
   },
   {
    "duration": 2,
    "start_time": "2025-01-22T22:38:04.053Z"
   },
   {
    "duration": 7,
    "start_time": "2025-01-22T22:41:33.676Z"
   },
   {
    "duration": 5,
    "start_time": "2025-01-22T22:44:28.215Z"
   },
   {
    "duration": 8,
    "start_time": "2025-01-22T22:46:27.987Z"
   },
   {
    "duration": 7,
    "start_time": "2025-01-22T22:54:31.663Z"
   },
   {
    "duration": 8,
    "start_time": "2025-01-22T22:55:01.208Z"
   },
   {
    "duration": 825,
    "start_time": "2025-01-22T22:55:22.925Z"
   },
   {
    "duration": 10,
    "start_time": "2025-01-22T22:55:23.752Z"
   },
   {
    "duration": 4,
    "start_time": "2025-01-22T22:55:23.763Z"
   },
   {
    "duration": 6,
    "start_time": "2025-01-22T22:55:23.769Z"
   },
   {
    "duration": 3,
    "start_time": "2025-01-22T22:55:23.777Z"
   },
   {
    "duration": 3,
    "start_time": "2025-01-22T22:55:23.782Z"
   },
   {
    "duration": 7,
    "start_time": "2025-01-22T22:55:23.787Z"
   },
   {
    "duration": 7,
    "start_time": "2025-01-22T22:55:23.824Z"
   },
   {
    "duration": 7,
    "start_time": "2025-01-22T22:55:23.832Z"
   },
   {
    "duration": 6,
    "start_time": "2025-01-22T22:55:23.842Z"
   },
   {
    "duration": 5,
    "start_time": "2025-01-22T22:55:23.849Z"
   },
   {
    "duration": 5,
    "start_time": "2025-01-22T22:55:23.857Z"
   },
   {
    "duration": 9,
    "start_time": "2025-01-22T22:55:23.864Z"
   },
   {
    "duration": 6,
    "start_time": "2025-01-22T22:55:23.876Z"
   },
   {
    "duration": 43,
    "start_time": "2025-01-22T22:55:23.883Z"
   },
   {
    "duration": 5,
    "start_time": "2025-01-22T22:55:23.929Z"
   },
   {
    "duration": 5,
    "start_time": "2025-01-22T22:55:23.935Z"
   },
   {
    "duration": 272,
    "start_time": "2025-01-22T22:55:23.942Z"
   },
   {
    "duration": 12,
    "start_time": "2025-01-22T22:55:24.216Z"
   },
   {
    "duration": 4,
    "start_time": "2025-01-22T22:55:24.230Z"
   },
   {
    "duration": 6,
    "start_time": "2025-01-22T22:55:24.235Z"
   },
   {
    "duration": 4,
    "start_time": "2025-01-22T22:55:24.244Z"
   },
   {
    "duration": 4,
    "start_time": "2025-01-22T22:55:24.250Z"
   },
   {
    "duration": 3,
    "start_time": "2025-01-22T22:55:24.255Z"
   },
   {
    "duration": 2,
    "start_time": "2025-01-22T22:55:24.260Z"
   },
   {
    "duration": 7,
    "start_time": "2025-01-22T22:56:31.101Z"
   },
   {
    "duration": 7,
    "start_time": "2025-01-22T22:56:42.456Z"
   },
   {
    "duration": 865,
    "start_time": "2025-01-22T23:13:23.307Z"
   },
   {
    "duration": 10,
    "start_time": "2025-01-22T23:13:24.176Z"
   },
   {
    "duration": 5,
    "start_time": "2025-01-22T23:13:24.188Z"
   },
   {
    "duration": 6,
    "start_time": "2025-01-22T23:13:24.196Z"
   },
   {
    "duration": 21,
    "start_time": "2025-01-22T23:13:24.204Z"
   },
   {
    "duration": 4,
    "start_time": "2025-01-22T23:13:24.227Z"
   },
   {
    "duration": 6,
    "start_time": "2025-01-22T23:13:24.232Z"
   },
   {
    "duration": 8,
    "start_time": "2025-01-22T23:13:24.240Z"
   },
   {
    "duration": 8,
    "start_time": "2025-01-22T23:13:24.250Z"
   },
   {
    "duration": 7,
    "start_time": "2025-01-22T23:13:24.261Z"
   },
   {
    "duration": 5,
    "start_time": "2025-01-22T23:13:24.270Z"
   },
   {
    "duration": 5,
    "start_time": "2025-01-22T23:13:24.276Z"
   },
   {
    "duration": 47,
    "start_time": "2025-01-22T23:13:24.283Z"
   },
   {
    "duration": 5,
    "start_time": "2025-01-22T23:13:24.333Z"
   },
   {
    "duration": 7,
    "start_time": "2025-01-22T23:13:24.340Z"
   },
   {
    "duration": 6,
    "start_time": "2025-01-22T23:13:24.348Z"
   },
   {
    "duration": 5,
    "start_time": "2025-01-22T23:13:24.355Z"
   },
   {
    "duration": 328,
    "start_time": "2025-01-22T23:13:24.362Z"
   },
   {
    "duration": 7,
    "start_time": "2025-01-22T23:13:24.692Z"
   },
   {
    "duration": 23,
    "start_time": "2025-01-22T23:13:24.701Z"
   },
   {
    "duration": 9,
    "start_time": "2025-01-22T23:13:24.725Z"
   },
   {
    "duration": 4,
    "start_time": "2025-01-22T23:13:24.736Z"
   },
   {
    "duration": 2,
    "start_time": "2025-01-22T23:13:24.742Z"
   },
   {
    "duration": 2,
    "start_time": "2025-01-22T23:13:24.746Z"
   },
   {
    "duration": 3,
    "start_time": "2025-01-22T23:13:24.750Z"
   },
   {
    "duration": 8,
    "start_time": "2025-01-22T23:20:00.772Z"
   },
   {
    "duration": 7,
    "start_time": "2025-01-22T23:20:02.627Z"
   },
   {
    "duration": 10,
    "start_time": "2025-01-22T23:24:25.620Z"
   },
   {
    "duration": 13,
    "start_time": "2025-01-22T23:29:09.177Z"
   },
   {
    "duration": 328,
    "start_time": "2025-01-22T23:33:06.646Z"
   },
   {
    "duration": 270,
    "start_time": "2025-01-22T23:33:25.648Z"
   },
   {
    "duration": 278,
    "start_time": "2025-01-22T23:34:10.412Z"
   },
   {
    "duration": 581,
    "start_time": "2025-01-22T23:42:12.877Z"
   },
   {
    "duration": 871,
    "start_time": "2025-01-22T23:44:18.576Z"
   },
   {
    "duration": 9,
    "start_time": "2025-01-22T23:44:19.450Z"
   },
   {
    "duration": 4,
    "start_time": "2025-01-22T23:44:19.461Z"
   },
   {
    "duration": 5,
    "start_time": "2025-01-22T23:44:19.467Z"
   },
   {
    "duration": 3,
    "start_time": "2025-01-22T23:44:19.474Z"
   },
   {
    "duration": 3,
    "start_time": "2025-01-22T23:44:19.479Z"
   },
   {
    "duration": 7,
    "start_time": "2025-01-22T23:44:19.484Z"
   },
   {
    "duration": 9,
    "start_time": "2025-01-22T23:44:19.524Z"
   },
   {
    "duration": 7,
    "start_time": "2025-01-22T23:44:19.535Z"
   },
   {
    "duration": 5,
    "start_time": "2025-01-22T23:44:19.546Z"
   },
   {
    "duration": 4,
    "start_time": "2025-01-22T23:44:19.553Z"
   },
   {
    "duration": 5,
    "start_time": "2025-01-22T23:44:19.558Z"
   },
   {
    "duration": 6,
    "start_time": "2025-01-22T23:44:19.564Z"
   },
   {
    "duration": 9,
    "start_time": "2025-01-22T23:44:19.571Z"
   },
   {
    "duration": 43,
    "start_time": "2025-01-22T23:44:19.581Z"
   },
   {
    "duration": 6,
    "start_time": "2025-01-22T23:44:19.626Z"
   },
   {
    "duration": 5,
    "start_time": "2025-01-22T23:44:19.633Z"
   },
   {
    "duration": 281,
    "start_time": "2025-01-22T23:44:19.639Z"
   },
   {
    "duration": 6,
    "start_time": "2025-01-22T23:44:19.925Z"
   },
   {
    "duration": 4,
    "start_time": "2025-01-22T23:44:19.933Z"
   },
   {
    "duration": 5,
    "start_time": "2025-01-22T23:44:19.939Z"
   },
   {
    "duration": 10,
    "start_time": "2025-01-22T23:44:19.947Z"
   },
   {
    "duration": 354,
    "start_time": "2025-01-22T23:44:19.959Z"
   },
   {
    "duration": 603,
    "start_time": "2025-01-22T23:44:20.315Z"
   },
   {
    "duration": 0,
    "start_time": "2025-01-22T23:44:20.920Z"
   },
   {
    "duration": 0,
    "start_time": "2025-01-22T23:44:20.924Z"
   },
   {
    "duration": 3,
    "start_time": "2025-01-22T23:45:24.642Z"
   },
   {
    "duration": 820,
    "start_time": "2025-01-22T23:48:00.202Z"
   },
   {
    "duration": 9,
    "start_time": "2025-01-22T23:48:01.024Z"
   },
   {
    "duration": 4,
    "start_time": "2025-01-22T23:48:01.034Z"
   },
   {
    "duration": 5,
    "start_time": "2025-01-22T23:48:01.041Z"
   },
   {
    "duration": 3,
    "start_time": "2025-01-22T23:48:01.047Z"
   },
   {
    "duration": 4,
    "start_time": "2025-01-22T23:48:01.051Z"
   },
   {
    "duration": 7,
    "start_time": "2025-01-22T23:48:01.056Z"
   },
   {
    "duration": 6,
    "start_time": "2025-01-22T23:48:01.064Z"
   },
   {
    "duration": 6,
    "start_time": "2025-01-22T23:48:01.072Z"
   },
   {
    "duration": 44,
    "start_time": "2025-01-22T23:48:01.081Z"
   },
   {
    "duration": 5,
    "start_time": "2025-01-22T23:48:01.127Z"
   },
   {
    "duration": 4,
    "start_time": "2025-01-22T23:48:01.133Z"
   },
   {
    "duration": 6,
    "start_time": "2025-01-22T23:48:01.139Z"
   },
   {
    "duration": 8,
    "start_time": "2025-01-22T23:48:01.146Z"
   },
   {
    "duration": 6,
    "start_time": "2025-01-22T23:48:01.156Z"
   },
   {
    "duration": 5,
    "start_time": "2025-01-22T23:48:01.164Z"
   },
   {
    "duration": 6,
    "start_time": "2025-01-22T23:48:01.171Z"
   },
   {
    "duration": 317,
    "start_time": "2025-01-22T23:48:01.178Z"
   },
   {
    "duration": 7,
    "start_time": "2025-01-22T23:48:01.497Z"
   },
   {
    "duration": 19,
    "start_time": "2025-01-22T23:48:01.505Z"
   },
   {
    "duration": 6,
    "start_time": "2025-01-22T23:48:01.525Z"
   },
   {
    "duration": 11,
    "start_time": "2025-01-22T23:48:01.533Z"
   },
   {
    "duration": 339,
    "start_time": "2025-01-22T23:48:01.546Z"
   },
   {
    "duration": 572,
    "start_time": "2025-01-22T23:48:01.887Z"
   },
   {
    "duration": 0,
    "start_time": "2025-01-22T23:48:02.461Z"
   },
   {
    "duration": 0,
    "start_time": "2025-01-22T23:48:02.462Z"
   },
   {
    "duration": 10,
    "start_time": "2025-01-22T23:51:12.515Z"
   },
   {
    "duration": 795,
    "start_time": "2025-01-22T23:51:22.859Z"
   },
   {
    "duration": 768,
    "start_time": "2025-01-22T23:51:41.522Z"
   },
   {
    "duration": 12,
    "start_time": "2025-01-22T23:51:54.615Z"
   },
   {
    "duration": 280,
    "start_time": "2025-01-22T23:51:57.215Z"
   },
   {
    "duration": 12,
    "start_time": "2025-01-22T23:54:20.099Z"
   },
   {
    "duration": 15,
    "start_time": "2025-01-22T23:54:57.351Z"
   },
   {
    "duration": 14,
    "start_time": "2025-01-22T23:55:26.706Z"
   },
   {
    "duration": 14,
    "start_time": "2025-01-22T23:57:23.057Z"
   },
   {
    "duration": 11,
    "start_time": "2025-01-22T23:57:55.856Z"
   },
   {
    "duration": 4,
    "start_time": "2025-01-22T23:58:07.686Z"
   },
   {
    "duration": 379,
    "start_time": "2025-01-22T23:59:40.983Z"
   },
   {
    "duration": 6,
    "start_time": "2025-01-23T00:01:28.716Z"
   },
   {
    "duration": 10,
    "start_time": "2025-01-23T00:03:35.095Z"
   },
   {
    "duration": 11,
    "start_time": "2025-01-23T00:03:59.882Z"
   },
   {
    "duration": 14,
    "start_time": "2025-01-23T00:04:24.359Z"
   },
   {
    "duration": 8,
    "start_time": "2025-01-23T00:06:00.082Z"
   },
   {
    "duration": 856,
    "start_time": "2025-01-23T00:06:08.333Z"
   },
   {
    "duration": 10,
    "start_time": "2025-01-23T00:06:09.190Z"
   },
   {
    "duration": 5,
    "start_time": "2025-01-23T00:06:09.201Z"
   },
   {
    "duration": 20,
    "start_time": "2025-01-23T00:06:09.208Z"
   },
   {
    "duration": 3,
    "start_time": "2025-01-23T00:06:09.230Z"
   },
   {
    "duration": 4,
    "start_time": "2025-01-23T00:06:09.234Z"
   },
   {
    "duration": 7,
    "start_time": "2025-01-23T00:06:09.239Z"
   },
   {
    "duration": 6,
    "start_time": "2025-01-23T00:06:09.248Z"
   },
   {
    "duration": 7,
    "start_time": "2025-01-23T00:06:09.256Z"
   },
   {
    "duration": 5,
    "start_time": "2025-01-23T00:06:09.266Z"
   },
   {
    "duration": 4,
    "start_time": "2025-01-23T00:06:09.273Z"
   },
   {
    "duration": 48,
    "start_time": "2025-01-23T00:06:09.279Z"
   },
   {
    "duration": 7,
    "start_time": "2025-01-23T00:06:09.329Z"
   },
   {
    "duration": 8,
    "start_time": "2025-01-23T00:06:09.337Z"
   },
   {
    "duration": 6,
    "start_time": "2025-01-23T00:06:09.346Z"
   },
   {
    "duration": 5,
    "start_time": "2025-01-23T00:06:09.354Z"
   },
   {
    "duration": 5,
    "start_time": "2025-01-23T00:06:09.360Z"
   },
   {
    "duration": 300,
    "start_time": "2025-01-23T00:06:09.366Z"
   },
   {
    "duration": 8,
    "start_time": "2025-01-23T00:06:09.668Z"
   },
   {
    "duration": 4,
    "start_time": "2025-01-23T00:06:09.677Z"
   },
   {
    "duration": 7,
    "start_time": "2025-01-23T00:06:09.683Z"
   },
   {
    "duration": 294,
    "start_time": "2025-01-23T00:06:09.692Z"
   },
   {
    "duration": 0,
    "start_time": "2025-01-23T00:06:09.988Z"
   },
   {
    "duration": 0,
    "start_time": "2025-01-23T00:06:09.990Z"
   },
   {
    "duration": 0,
    "start_time": "2025-01-23T00:06:09.991Z"
   },
   {
    "duration": 0,
    "start_time": "2025-01-23T00:06:09.993Z"
   },
   {
    "duration": 8,
    "start_time": "2025-01-23T00:09:08.448Z"
   },
   {
    "duration": 12,
    "start_time": "2025-01-23T00:09:28.739Z"
   },
   {
    "duration": 272,
    "start_time": "2025-01-23T00:09:33.587Z"
   },
   {
    "duration": 15,
    "start_time": "2025-01-23T00:09:38.160Z"
   },
   {
    "duration": 5,
    "start_time": "2025-01-23T00:09:41.261Z"
   },
   {
    "duration": 4,
    "start_time": "2025-01-23T00:09:52.319Z"
   },
   {
    "duration": 7,
    "start_time": "2025-01-23T00:10:37.864Z"
   },
   {
    "duration": 6,
    "start_time": "2025-01-23T00:11:22.214Z"
   },
   {
    "duration": 4,
    "start_time": "2025-01-23T00:16:55.373Z"
   },
   {
    "duration": 15,
    "start_time": "2025-01-23T00:17:03.826Z"
   },
   {
    "duration": 7,
    "start_time": "2025-01-23T00:19:12.311Z"
   },
   {
    "duration": 7,
    "start_time": "2025-01-23T00:19:25.448Z"
   },
   {
    "duration": 7,
    "start_time": "2025-01-23T00:19:29.241Z"
   },
   {
    "duration": 4,
    "start_time": "2025-01-23T00:31:31.239Z"
   },
   {
    "duration": 15,
    "start_time": "2025-01-23T00:31:38.067Z"
   },
   {
    "duration": 4,
    "start_time": "2025-01-23T00:31:45.297Z"
   },
   {
    "duration": 4,
    "start_time": "2025-01-23T00:32:06.669Z"
   },
   {
    "duration": 13,
    "start_time": "2025-01-23T00:32:11.473Z"
   },
   {
    "duration": 5,
    "start_time": "2025-01-23T00:32:52.736Z"
   },
   {
    "duration": 4,
    "start_time": "2025-01-23T00:32:59.751Z"
   },
   {
    "duration": 419,
    "start_time": "2025-01-23T00:33:11.110Z"
   },
   {
    "duration": 5,
    "start_time": "2025-01-23T00:33:19.277Z"
   },
   {
    "duration": 7,
    "start_time": "2025-01-23T00:33:22.020Z"
   },
   {
    "duration": 7,
    "start_time": "2025-01-23T00:33:36.196Z"
   },
   {
    "duration": 4,
    "start_time": "2025-01-23T00:34:17.227Z"
   },
   {
    "duration": 16,
    "start_time": "2025-01-23T00:34:25.836Z"
   },
   {
    "duration": 8,
    "start_time": "2025-01-23T00:34:33.773Z"
   },
   {
    "duration": 17,
    "start_time": "2025-01-23T00:34:41.973Z"
   },
   {
    "duration": 7,
    "start_time": "2025-01-23T00:34:48.781Z"
   },
   {
    "duration": 2728,
    "start_time": "2025-01-25T02:29:56.924Z"
   },
   {
    "duration": 9,
    "start_time": "2025-01-25T02:29:59.655Z"
   },
   {
    "duration": 4,
    "start_time": "2025-01-25T02:29:59.666Z"
   },
   {
    "duration": 6,
    "start_time": "2025-01-25T02:29:59.672Z"
   },
   {
    "duration": 2,
    "start_time": "2025-01-25T02:29:59.687Z"
   },
   {
    "duration": 4,
    "start_time": "2025-01-25T02:29:59.691Z"
   },
   {
    "duration": 7,
    "start_time": "2025-01-25T02:29:59.696Z"
   },
   {
    "duration": 6,
    "start_time": "2025-01-25T02:29:59.705Z"
   },
   {
    "duration": 6,
    "start_time": "2025-01-25T02:29:59.713Z"
   },
   {
    "duration": 5,
    "start_time": "2025-01-25T02:29:59.720Z"
   },
   {
    "duration": 4,
    "start_time": "2025-01-25T02:29:59.727Z"
   },
   {
    "duration": 5,
    "start_time": "2025-01-25T02:29:59.732Z"
   },
   {
    "duration": 6,
    "start_time": "2025-01-25T02:29:59.738Z"
   },
   {
    "duration": 7,
    "start_time": "2025-01-25T02:29:59.790Z"
   },
   {
    "duration": 6,
    "start_time": "2025-01-25T02:29:59.799Z"
   },
   {
    "duration": 5,
    "start_time": "2025-01-25T02:29:59.807Z"
   },
   {
    "duration": 4,
    "start_time": "2025-01-25T02:29:59.814Z"
   },
   {
    "duration": 291,
    "start_time": "2025-01-25T02:29:59.820Z"
   },
   {
    "duration": 6,
    "start_time": "2025-01-25T02:30:00.113Z"
   },
   {
    "duration": 4,
    "start_time": "2025-01-25T02:30:00.121Z"
   },
   {
    "duration": 8,
    "start_time": "2025-01-25T02:30:00.126Z"
   },
   {
    "duration": 13,
    "start_time": "2025-01-25T02:30:00.135Z"
   },
   {
    "duration": 315,
    "start_time": "2025-01-25T02:30:00.149Z"
   },
   {
    "duration": 23,
    "start_time": "2025-01-25T02:30:00.466Z"
   },
   {
    "duration": 5,
    "start_time": "2025-01-25T02:30:00.491Z"
   },
   {
    "duration": 7,
    "start_time": "2025-01-25T02:30:00.498Z"
   },
   {
    "duration": 4,
    "start_time": "2025-01-25T02:30:00.507Z"
   },
   {
    "duration": 8,
    "start_time": "2025-01-25T02:30:00.513Z"
   },
   {
    "duration": 19,
    "start_time": "2025-01-25T02:30:00.522Z"
   },
   {
    "duration": 384,
    "start_time": "2025-01-25T02:30:00.543Z"
   },
   {
    "duration": 15,
    "start_time": "2025-01-25T02:30:00.929Z"
   },
   {
    "duration": 377,
    "start_time": "2025-01-25T02:30:00.946Z"
   },
   {
    "duration": 4,
    "start_time": "2025-01-25T02:30:01.325Z"
   },
   {
    "duration": 48,
    "start_time": "2025-01-25T02:30:01.331Z"
   },
   {
    "duration": 8,
    "start_time": "2025-01-25T02:30:01.381Z"
   },
   {
    "duration": 7,
    "start_time": "2025-01-25T02:30:01.391Z"
   },
   {
    "duration": 11,
    "start_time": "2025-01-25T02:30:01.399Z"
   },
   {
    "duration": 15,
    "start_time": "2025-01-25T02:30:01.411Z"
   },
   {
    "duration": 18,
    "start_time": "2025-01-25T02:30:01.428Z"
   },
   {
    "duration": 50,
    "start_time": "2025-01-25T02:30:01.449Z"
   },
   {
    "duration": 7,
    "start_time": "2025-01-25T02:30:01.503Z"
   },
   {
    "duration": 9,
    "start_time": "2025-01-25T02:30:01.512Z"
   },
   {
    "duration": 9,
    "start_time": "2025-01-27T00:19:58.716Z"
   },
   {
    "duration": 4,
    "start_time": "2025-01-27T00:20:54.363Z"
   },
   {
    "duration": 4,
    "start_time": "2025-01-27T00:21:10.177Z"
   },
   {
    "duration": 4,
    "start_time": "2025-01-27T00:21:16.539Z"
   },
   {
    "duration": 3,
    "start_time": "2025-01-27T00:21:27.771Z"
   },
   {
    "duration": 3,
    "start_time": "2025-01-27T00:21:46.916Z"
   },
   {
    "duration": 3,
    "start_time": "2025-01-27T00:21:58.526Z"
   },
   {
    "duration": 4,
    "start_time": "2025-01-27T00:23:38.238Z"
   },
   {
    "duration": 3,
    "start_time": "2025-01-27T00:23:45.397Z"
   },
   {
    "duration": 153,
    "start_time": "2025-01-27T00:24:51.533Z"
   },
   {
    "duration": 2580,
    "start_time": "2025-01-27T00:25:03.405Z"
   },
   {
    "duration": 11,
    "start_time": "2025-01-27T00:25:05.987Z"
   },
   {
    "duration": 4,
    "start_time": "2025-01-27T00:25:06.000Z"
   },
   {
    "duration": 7,
    "start_time": "2025-01-27T00:25:06.005Z"
   },
   {
    "duration": 2,
    "start_time": "2025-01-27T00:25:06.016Z"
   },
   {
    "duration": 5,
    "start_time": "2025-01-27T00:25:06.019Z"
   },
   {
    "duration": 6,
    "start_time": "2025-01-27T00:25:06.025Z"
   },
   {
    "duration": 6,
    "start_time": "2025-01-27T00:25:06.033Z"
   },
   {
    "duration": 6,
    "start_time": "2025-01-27T00:25:06.042Z"
   },
   {
    "duration": 5,
    "start_time": "2025-01-27T00:25:06.050Z"
   },
   {
    "duration": 3,
    "start_time": "2025-01-27T00:25:06.057Z"
   },
   {
    "duration": 4,
    "start_time": "2025-01-27T00:25:06.062Z"
   },
   {
    "duration": 47,
    "start_time": "2025-01-27T00:25:06.067Z"
   },
   {
    "duration": 7,
    "start_time": "2025-01-27T00:25:06.118Z"
   },
   {
    "duration": 5,
    "start_time": "2025-01-27T00:25:06.127Z"
   },
   {
    "duration": 5,
    "start_time": "2025-01-27T00:25:06.134Z"
   },
   {
    "duration": 5,
    "start_time": "2025-01-27T00:25:06.141Z"
   },
   {
    "duration": 303,
    "start_time": "2025-01-27T00:25:06.148Z"
   },
   {
    "duration": 7,
    "start_time": "2025-01-27T00:25:06.452Z"
   },
   {
    "duration": 4,
    "start_time": "2025-01-27T00:25:06.460Z"
   },
   {
    "duration": 8,
    "start_time": "2025-01-27T00:25:06.466Z"
   },
   {
    "duration": 13,
    "start_time": "2025-01-27T00:25:06.479Z"
   },
   {
    "duration": 281,
    "start_time": "2025-01-27T00:25:06.513Z"
   },
   {
    "duration": 25,
    "start_time": "2025-01-27T00:25:06.796Z"
   },
   {
    "duration": 5,
    "start_time": "2025-01-27T00:25:06.822Z"
   },
   {
    "duration": 6,
    "start_time": "2025-01-27T00:25:06.829Z"
   },
   {
    "duration": 5,
    "start_time": "2025-01-27T00:25:06.837Z"
   },
   {
    "duration": 6,
    "start_time": "2025-01-27T00:25:06.844Z"
   },
   {
    "duration": 18,
    "start_time": "2025-01-27T00:25:06.852Z"
   },
   {
    "duration": 378,
    "start_time": "2025-01-27T00:25:06.872Z"
   },
   {
    "duration": 18,
    "start_time": "2025-01-27T00:25:07.252Z"
   },
   {
    "duration": 393,
    "start_time": "2025-01-27T00:25:07.273Z"
   },
   {
    "duration": 5,
    "start_time": "2025-01-27T00:25:07.667Z"
   },
   {
    "duration": 48,
    "start_time": "2025-01-27T00:25:07.673Z"
   },
   {
    "duration": 5,
    "start_time": "2025-01-27T00:25:07.723Z"
   },
   {
    "duration": 7,
    "start_time": "2025-01-27T00:25:07.729Z"
   },
   {
    "duration": 11,
    "start_time": "2025-01-27T00:25:07.737Z"
   },
   {
    "duration": 15,
    "start_time": "2025-01-27T00:25:07.750Z"
   },
   {
    "duration": 56,
    "start_time": "2025-01-27T00:25:07.766Z"
   },
   {
    "duration": 13,
    "start_time": "2025-01-27T00:25:07.823Z"
   },
   {
    "duration": 8,
    "start_time": "2025-01-27T00:25:07.840Z"
   },
   {
    "duration": 8,
    "start_time": "2025-01-27T00:25:07.849Z"
   },
   {
    "duration": 16,
    "start_time": "2025-01-27T03:40:35.372Z"
   },
   {
    "duration": 472,
    "start_time": "2025-01-27T03:40:49.604Z"
   },
   {
    "duration": 14,
    "start_time": "2025-01-27T03:40:58.741Z"
   },
   {
    "duration": 15,
    "start_time": "2025-01-27T03:42:19.146Z"
   },
   {
    "duration": 12,
    "start_time": "2025-01-27T03:42:35.839Z"
   },
   {
    "duration": 11,
    "start_time": "2025-01-27T03:42:58.312Z"
   },
   {
    "duration": 17,
    "start_time": "2025-01-27T03:43:06.521Z"
   },
   {
    "duration": 13,
    "start_time": "2025-01-27T03:43:43.058Z"
   },
   {
    "duration": 15,
    "start_time": "2025-01-27T03:44:26.602Z"
   },
   {
    "duration": 14,
    "start_time": "2025-01-27T03:48:15.375Z"
   },
   {
    "duration": 16,
    "start_time": "2025-01-27T03:48:29.126Z"
   },
   {
    "duration": 13,
    "start_time": "2025-01-27T03:48:53.110Z"
   },
   {
    "duration": 874,
    "start_time": "2025-01-27T03:49:03.345Z"
   },
   {
    "duration": 11,
    "start_time": "2025-01-27T03:49:04.221Z"
   },
   {
    "duration": 4,
    "start_time": "2025-01-27T03:49:04.233Z"
   },
   {
    "duration": 5,
    "start_time": "2025-01-27T03:49:04.240Z"
   },
   {
    "duration": 3,
    "start_time": "2025-01-27T03:49:04.246Z"
   },
   {
    "duration": 5,
    "start_time": "2025-01-27T03:49:04.251Z"
   },
   {
    "duration": 6,
    "start_time": "2025-01-27T03:49:04.257Z"
   },
   {
    "duration": 6,
    "start_time": "2025-01-27T03:49:04.265Z"
   },
   {
    "duration": 44,
    "start_time": "2025-01-27T03:49:04.272Z"
   },
   {
    "duration": 2,
    "start_time": "2025-01-27T03:49:04.320Z"
   },
   {
    "duration": 4,
    "start_time": "2025-01-27T03:49:04.323Z"
   },
   {
    "duration": 0,
    "start_time": "2025-01-27T03:49:04.331Z"
   },
   {
    "duration": 0,
    "start_time": "2025-01-27T03:49:04.332Z"
   },
   {
    "duration": 0,
    "start_time": "2025-01-27T03:49:04.334Z"
   },
   {
    "duration": 0,
    "start_time": "2025-01-27T03:49:04.335Z"
   },
   {
    "duration": 0,
    "start_time": "2025-01-27T03:49:04.337Z"
   },
   {
    "duration": 0,
    "start_time": "2025-01-27T03:49:04.338Z"
   },
   {
    "duration": 0,
    "start_time": "2025-01-27T03:49:04.339Z"
   },
   {
    "duration": 0,
    "start_time": "2025-01-27T03:49:04.340Z"
   },
   {
    "duration": 0,
    "start_time": "2025-01-27T03:49:04.342Z"
   },
   {
    "duration": 0,
    "start_time": "2025-01-27T03:49:04.343Z"
   },
   {
    "duration": 0,
    "start_time": "2025-01-27T03:49:04.345Z"
   },
   {
    "duration": 0,
    "start_time": "2025-01-27T03:49:04.346Z"
   },
   {
    "duration": 0,
    "start_time": "2025-01-27T03:49:04.348Z"
   },
   {
    "duration": 0,
    "start_time": "2025-01-27T03:49:04.349Z"
   },
   {
    "duration": 0,
    "start_time": "2025-01-27T03:49:04.350Z"
   },
   {
    "duration": 0,
    "start_time": "2025-01-27T03:49:04.351Z"
   },
   {
    "duration": 0,
    "start_time": "2025-01-27T03:49:04.352Z"
   },
   {
    "duration": 0,
    "start_time": "2025-01-27T03:49:04.354Z"
   },
   {
    "duration": 0,
    "start_time": "2025-01-27T03:49:04.355Z"
   },
   {
    "duration": 0,
    "start_time": "2025-01-27T03:49:04.356Z"
   },
   {
    "duration": 0,
    "start_time": "2025-01-27T03:49:04.358Z"
   },
   {
    "duration": 0,
    "start_time": "2025-01-27T03:49:04.359Z"
   },
   {
    "duration": 0,
    "start_time": "2025-01-27T03:49:04.411Z"
   },
   {
    "duration": 0,
    "start_time": "2025-01-27T03:49:04.412Z"
   },
   {
    "duration": 0,
    "start_time": "2025-01-27T03:49:04.413Z"
   },
   {
    "duration": 0,
    "start_time": "2025-01-27T03:49:04.416Z"
   },
   {
    "duration": 0,
    "start_time": "2025-01-27T03:49:04.417Z"
   },
   {
    "duration": 0,
    "start_time": "2025-01-27T03:49:04.418Z"
   },
   {
    "duration": 0,
    "start_time": "2025-01-27T03:49:04.419Z"
   },
   {
    "duration": 0,
    "start_time": "2025-01-27T03:49:04.420Z"
   },
   {
    "duration": 0,
    "start_time": "2025-01-27T03:49:04.422Z"
   },
   {
    "duration": 0,
    "start_time": "2025-01-27T03:49:04.423Z"
   },
   {
    "duration": 0,
    "start_time": "2025-01-27T03:49:04.425Z"
   },
   {
    "duration": 0,
    "start_time": "2025-01-27T03:49:04.427Z"
   },
   {
    "duration": 0,
    "start_time": "2025-01-27T03:49:04.428Z"
   },
   {
    "duration": 0,
    "start_time": "2025-01-27T03:49:04.430Z"
   },
   {
    "duration": 0,
    "start_time": "2025-01-27T03:49:04.431Z"
   },
   {
    "duration": 0,
    "start_time": "2025-01-27T03:49:04.433Z"
   },
   {
    "duration": 0,
    "start_time": "2025-01-27T03:49:04.434Z"
   },
   {
    "duration": 0,
    "start_time": "2025-01-27T03:49:04.436Z"
   },
   {
    "duration": 0,
    "start_time": "2025-01-27T03:49:04.437Z"
   },
   {
    "duration": 0,
    "start_time": "2025-01-27T03:49:04.438Z"
   },
   {
    "duration": 0,
    "start_time": "2025-01-27T03:49:04.440Z"
   },
   {
    "duration": 0,
    "start_time": "2025-01-27T03:49:04.440Z"
   },
   {
    "duration": 0,
    "start_time": "2025-01-27T03:49:04.441Z"
   },
   {
    "duration": 866,
    "start_time": "2025-01-27T03:52:18.369Z"
   },
   {
    "duration": 11,
    "start_time": "2025-01-27T03:52:19.237Z"
   },
   {
    "duration": 6,
    "start_time": "2025-01-27T03:52:19.249Z"
   },
   {
    "duration": 5,
    "start_time": "2025-01-27T03:52:19.258Z"
   },
   {
    "duration": 3,
    "start_time": "2025-01-27T03:52:19.265Z"
   },
   {
    "duration": 4,
    "start_time": "2025-01-27T03:52:19.269Z"
   },
   {
    "duration": 5,
    "start_time": "2025-01-27T03:52:19.275Z"
   },
   {
    "duration": 31,
    "start_time": "2025-01-27T03:52:19.282Z"
   },
   {
    "duration": 7,
    "start_time": "2025-01-27T03:52:19.315Z"
   },
   {
    "duration": 3,
    "start_time": "2025-01-27T03:52:19.326Z"
   },
   {
    "duration": 5,
    "start_time": "2025-01-27T03:52:19.330Z"
   },
   {
    "duration": 5,
    "start_time": "2025-01-27T03:52:19.336Z"
   },
   {
    "duration": 6,
    "start_time": "2025-01-27T03:52:19.343Z"
   },
   {
    "duration": 4,
    "start_time": "2025-01-27T03:52:19.351Z"
   },
   {
    "duration": 7,
    "start_time": "2025-01-27T03:52:19.356Z"
   },
   {
    "duration": 57,
    "start_time": "2025-01-27T03:52:19.364Z"
   },
   {
    "duration": 5,
    "start_time": "2025-01-27T03:52:19.423Z"
   },
   {
    "duration": 4,
    "start_time": "2025-01-27T03:52:19.429Z"
   },
   {
    "duration": 0,
    "start_time": "2025-01-27T03:52:19.435Z"
   },
   {
    "duration": 0,
    "start_time": "2025-01-27T03:52:19.437Z"
   },
   {
    "duration": 0,
    "start_time": "2025-01-27T03:52:19.438Z"
   },
   {
    "duration": 0,
    "start_time": "2025-01-27T03:52:19.440Z"
   },
   {
    "duration": 0,
    "start_time": "2025-01-27T03:52:19.441Z"
   },
   {
    "duration": 0,
    "start_time": "2025-01-27T03:52:19.443Z"
   },
   {
    "duration": 0,
    "start_time": "2025-01-27T03:52:19.444Z"
   },
   {
    "duration": 0,
    "start_time": "2025-01-27T03:52:19.445Z"
   },
   {
    "duration": 0,
    "start_time": "2025-01-27T03:52:19.446Z"
   },
   {
    "duration": 0,
    "start_time": "2025-01-27T03:52:19.447Z"
   },
   {
    "duration": 0,
    "start_time": "2025-01-27T03:52:19.448Z"
   },
   {
    "duration": 0,
    "start_time": "2025-01-27T03:52:19.449Z"
   },
   {
    "duration": 0,
    "start_time": "2025-01-27T03:52:19.450Z"
   },
   {
    "duration": 0,
    "start_time": "2025-01-27T03:52:19.451Z"
   },
   {
    "duration": 0,
    "start_time": "2025-01-27T03:52:19.452Z"
   },
   {
    "duration": 0,
    "start_time": "2025-01-27T03:52:19.453Z"
   },
   {
    "duration": 0,
    "start_time": "2025-01-27T03:52:19.455Z"
   },
   {
    "duration": 0,
    "start_time": "2025-01-27T03:52:19.456Z"
   },
   {
    "duration": 0,
    "start_time": "2025-01-27T03:52:19.458Z"
   },
   {
    "duration": 0,
    "start_time": "2025-01-27T03:52:19.459Z"
   },
   {
    "duration": 0,
    "start_time": "2025-01-27T03:52:19.513Z"
   },
   {
    "duration": 0,
    "start_time": "2025-01-27T03:52:19.514Z"
   },
   {
    "duration": 0,
    "start_time": "2025-01-27T03:52:19.516Z"
   },
   {
    "duration": 0,
    "start_time": "2025-01-27T03:52:19.517Z"
   },
   {
    "duration": 0,
    "start_time": "2025-01-27T03:52:19.518Z"
   },
   {
    "duration": 0,
    "start_time": "2025-01-27T03:52:19.520Z"
   },
   {
    "duration": 0,
    "start_time": "2025-01-27T03:52:19.521Z"
   },
   {
    "duration": 0,
    "start_time": "2025-01-27T03:52:19.523Z"
   },
   {
    "duration": 0,
    "start_time": "2025-01-27T03:52:19.524Z"
   },
   {
    "duration": 0,
    "start_time": "2025-01-27T03:52:19.526Z"
   },
   {
    "duration": 0,
    "start_time": "2025-01-27T03:52:19.527Z"
   },
   {
    "duration": 0,
    "start_time": "2025-01-27T03:52:19.529Z"
   },
   {
    "duration": 0,
    "start_time": "2025-01-27T03:52:19.530Z"
   },
   {
    "duration": 0,
    "start_time": "2025-01-27T03:52:19.531Z"
   },
   {
    "duration": 0,
    "start_time": "2025-01-27T03:52:19.532Z"
   },
   {
    "duration": 0,
    "start_time": "2025-01-27T03:52:19.533Z"
   },
   {
    "duration": 7,
    "start_time": "2025-01-27T03:55:24.468Z"
   },
   {
    "duration": 15,
    "start_time": "2025-01-27T03:55:26.648Z"
   },
   {
    "duration": 17,
    "start_time": "2025-01-27T03:56:07.717Z"
   },
   {
    "duration": 17,
    "start_time": "2025-01-27T03:56:59.195Z"
   },
   {
    "duration": 17,
    "start_time": "2025-01-27T03:57:09.094Z"
   },
   {
    "duration": 16,
    "start_time": "2025-01-27T03:57:19.028Z"
   },
   {
    "duration": 460,
    "start_time": "2025-01-27T03:57:28.220Z"
   },
   {
    "duration": 12,
    "start_time": "2025-01-27T03:57:40.506Z"
   },
   {
    "duration": 888,
    "start_time": "2025-01-27T03:57:46.935Z"
   },
   {
    "duration": 11,
    "start_time": "2025-01-27T03:57:47.825Z"
   },
   {
    "duration": 4,
    "start_time": "2025-01-27T03:57:47.838Z"
   },
   {
    "duration": 5,
    "start_time": "2025-01-27T03:57:47.844Z"
   },
   {
    "duration": 3,
    "start_time": "2025-01-27T03:57:47.851Z"
   },
   {
    "duration": 4,
    "start_time": "2025-01-27T03:57:47.855Z"
   },
   {
    "duration": 5,
    "start_time": "2025-01-27T03:57:47.861Z"
   },
   {
    "duration": 6,
    "start_time": "2025-01-27T03:57:47.868Z"
   },
   {
    "duration": 7,
    "start_time": "2025-01-27T03:57:47.911Z"
   },
   {
    "duration": 2,
    "start_time": "2025-01-27T03:57:47.921Z"
   },
   {
    "duration": 4,
    "start_time": "2025-01-27T03:57:47.924Z"
   },
   {
    "duration": 4,
    "start_time": "2025-01-27T03:57:47.930Z"
   },
   {
    "duration": 6,
    "start_time": "2025-01-27T03:57:47.935Z"
   },
   {
    "duration": 3,
    "start_time": "2025-01-27T03:57:47.944Z"
   },
   {
    "duration": 6,
    "start_time": "2025-01-27T03:57:47.949Z"
   },
   {
    "duration": 14,
    "start_time": "2025-01-27T03:57:47.957Z"
   },
   {
    "duration": 42,
    "start_time": "2025-01-27T03:57:47.972Z"
   },
   {
    "duration": 8,
    "start_time": "2025-01-27T03:57:48.016Z"
   },
   {
    "duration": 0,
    "start_time": "2025-01-27T03:57:48.027Z"
   },
   {
    "duration": 0,
    "start_time": "2025-01-27T03:57:48.028Z"
   },
   {
    "duration": 0,
    "start_time": "2025-01-27T03:57:48.030Z"
   },
   {
    "duration": 0,
    "start_time": "2025-01-27T03:57:48.032Z"
   },
   {
    "duration": 0,
    "start_time": "2025-01-27T03:57:48.033Z"
   },
   {
    "duration": 0,
    "start_time": "2025-01-27T03:57:48.034Z"
   },
   {
    "duration": 0,
    "start_time": "2025-01-27T03:57:48.035Z"
   },
   {
    "duration": 0,
    "start_time": "2025-01-27T03:57:48.036Z"
   },
   {
    "duration": 0,
    "start_time": "2025-01-27T03:57:48.037Z"
   },
   {
    "duration": 0,
    "start_time": "2025-01-27T03:57:48.038Z"
   },
   {
    "duration": 0,
    "start_time": "2025-01-27T03:57:48.039Z"
   },
   {
    "duration": 1,
    "start_time": "2025-01-27T03:57:48.040Z"
   },
   {
    "duration": 0,
    "start_time": "2025-01-27T03:57:48.042Z"
   },
   {
    "duration": 0,
    "start_time": "2025-01-27T03:57:48.043Z"
   },
   {
    "duration": 0,
    "start_time": "2025-01-27T03:57:48.044Z"
   },
   {
    "duration": 0,
    "start_time": "2025-01-27T03:57:48.045Z"
   },
   {
    "duration": 0,
    "start_time": "2025-01-27T03:57:48.046Z"
   },
   {
    "duration": 1,
    "start_time": "2025-01-27T03:57:48.046Z"
   },
   {
    "duration": 0,
    "start_time": "2025-01-27T03:57:48.048Z"
   },
   {
    "duration": 0,
    "start_time": "2025-01-27T03:57:48.049Z"
   },
   {
    "duration": 0,
    "start_time": "2025-01-27T03:57:48.051Z"
   },
   {
    "duration": 0,
    "start_time": "2025-01-27T03:57:48.052Z"
   },
   {
    "duration": 0,
    "start_time": "2025-01-27T03:57:48.053Z"
   },
   {
    "duration": 0,
    "start_time": "2025-01-27T03:57:48.054Z"
   },
   {
    "duration": 0,
    "start_time": "2025-01-27T03:57:48.055Z"
   },
   {
    "duration": 0,
    "start_time": "2025-01-27T03:57:48.056Z"
   },
   {
    "duration": 0,
    "start_time": "2025-01-27T03:57:48.057Z"
   },
   {
    "duration": 0,
    "start_time": "2025-01-27T03:57:48.058Z"
   },
   {
    "duration": 0,
    "start_time": "2025-01-27T03:57:48.059Z"
   },
   {
    "duration": 0,
    "start_time": "2025-01-27T03:57:48.060Z"
   },
   {
    "duration": 0,
    "start_time": "2025-01-27T03:57:48.061Z"
   },
   {
    "duration": 0,
    "start_time": "2025-01-27T03:57:48.062Z"
   },
   {
    "duration": 0,
    "start_time": "2025-01-27T03:57:48.063Z"
   },
   {
    "duration": 0,
    "start_time": "2025-01-27T03:57:48.111Z"
   },
   {
    "duration": 1,
    "start_time": "2025-01-27T03:57:48.112Z"
   },
   {
    "duration": 0,
    "start_time": "2025-01-27T03:57:48.114Z"
   },
   {
    "duration": 18,
    "start_time": "2025-01-27T03:58:24.938Z"
   },
   {
    "duration": 12,
    "start_time": "2025-01-27T03:58:37.954Z"
   },
   {
    "duration": 816,
    "start_time": "2025-01-27T04:09:50.015Z"
   },
   {
    "duration": 11,
    "start_time": "2025-01-27T04:09:50.833Z"
   },
   {
    "duration": 6,
    "start_time": "2025-01-27T04:09:50.845Z"
   },
   {
    "duration": 5,
    "start_time": "2025-01-27T04:09:50.854Z"
   },
   {
    "duration": 3,
    "start_time": "2025-01-27T04:09:50.861Z"
   },
   {
    "duration": 3,
    "start_time": "2025-01-27T04:09:50.866Z"
   },
   {
    "duration": 7,
    "start_time": "2025-01-27T04:09:50.871Z"
   },
   {
    "duration": 34,
    "start_time": "2025-01-27T04:09:50.879Z"
   },
   {
    "duration": 8,
    "start_time": "2025-01-27T04:09:50.915Z"
   },
   {
    "duration": 1,
    "start_time": "2025-01-27T04:09:50.926Z"
   },
   {
    "duration": 4,
    "start_time": "2025-01-27T04:09:50.929Z"
   },
   {
    "duration": 5,
    "start_time": "2025-01-27T04:09:50.935Z"
   },
   {
    "duration": 7,
    "start_time": "2025-01-27T04:09:50.941Z"
   },
   {
    "duration": 4,
    "start_time": "2025-01-27T04:09:50.949Z"
   },
   {
    "duration": 7,
    "start_time": "2025-01-27T04:09:50.954Z"
   },
   {
    "duration": 58,
    "start_time": "2025-01-27T04:09:50.962Z"
   },
   {
    "duration": 5,
    "start_time": "2025-01-27T04:09:51.022Z"
   },
   {
    "duration": 5,
    "start_time": "2025-01-27T04:09:51.028Z"
   },
   {
    "duration": 291,
    "start_time": "2025-01-27T04:09:51.035Z"
   },
   {
    "duration": 7,
    "start_time": "2025-01-27T04:09:51.327Z"
   },
   {
    "duration": 4,
    "start_time": "2025-01-27T04:09:51.336Z"
   },
   {
    "duration": 7,
    "start_time": "2025-01-27T04:09:51.342Z"
   },
   {
    "duration": 12,
    "start_time": "2025-01-27T04:09:51.350Z"
   },
   {
    "duration": 349,
    "start_time": "2025-01-27T04:09:51.363Z"
   },
   {
    "duration": 26,
    "start_time": "2025-01-27T04:09:51.713Z"
   },
   {
    "duration": 5,
    "start_time": "2025-01-27T04:09:51.741Z"
   },
   {
    "duration": 4,
    "start_time": "2025-01-27T04:09:51.748Z"
   },
   {
    "duration": 0,
    "start_time": "2025-01-27T04:09:51.755Z"
   },
   {
    "duration": 0,
    "start_time": "2025-01-27T04:09:51.756Z"
   },
   {
    "duration": 0,
    "start_time": "2025-01-27T04:09:51.758Z"
   },
   {
    "duration": 0,
    "start_time": "2025-01-27T04:09:51.760Z"
   },
   {
    "duration": 0,
    "start_time": "2025-01-27T04:09:51.761Z"
   },
   {
    "duration": 0,
    "start_time": "2025-01-27T04:09:51.762Z"
   },
   {
    "duration": 0,
    "start_time": "2025-01-27T04:09:51.764Z"
   },
   {
    "duration": 0,
    "start_time": "2025-01-27T04:09:51.765Z"
   },
   {
    "duration": 0,
    "start_time": "2025-01-27T04:09:51.766Z"
   },
   {
    "duration": 0,
    "start_time": "2025-01-27T04:09:51.767Z"
   },
   {
    "duration": 0,
    "start_time": "2025-01-27T04:09:51.769Z"
   },
   {
    "duration": 0,
    "start_time": "2025-01-27T04:09:51.770Z"
   },
   {
    "duration": 0,
    "start_time": "2025-01-27T04:09:51.772Z"
   },
   {
    "duration": 0,
    "start_time": "2025-01-27T04:09:51.773Z"
   },
   {
    "duration": 0,
    "start_time": "2025-01-27T04:09:51.774Z"
   },
   {
    "duration": 1,
    "start_time": "2025-01-27T04:09:51.774Z"
   },
   {
    "duration": 0,
    "start_time": "2025-01-27T04:09:51.811Z"
   },
   {
    "duration": 1,
    "start_time": "2025-01-27T04:09:51.812Z"
   },
   {
    "duration": 0,
    "start_time": "2025-01-27T04:09:51.814Z"
   },
   {
    "duration": 0,
    "start_time": "2025-01-27T04:09:51.816Z"
   },
   {
    "duration": 0,
    "start_time": "2025-01-27T04:09:51.817Z"
   },
   {
    "duration": 0,
    "start_time": "2025-01-27T04:09:51.819Z"
   },
   {
    "duration": 0,
    "start_time": "2025-01-27T04:09:51.820Z"
   },
   {
    "duration": 0,
    "start_time": "2025-01-27T04:09:51.821Z"
   },
   {
    "duration": 0,
    "start_time": "2025-01-27T04:09:51.823Z"
   },
   {
    "duration": 0,
    "start_time": "2025-01-27T04:09:51.824Z"
   },
   {
    "duration": 4,
    "start_time": "2025-01-27T04:18:01.052Z"
   },
   {
    "duration": 602,
    "start_time": "2025-01-27T04:18:07.533Z"
   },
   {
    "duration": 19,
    "start_time": "2025-01-27T04:19:43.502Z"
   },
   {
    "duration": 58,
    "start_time": "2025-01-27T04:20:42.249Z"
   },
   {
    "duration": 52,
    "start_time": "2025-01-27T04:21:20.576Z"
   },
   {
    "duration": 897,
    "start_time": "2025-01-27T04:21:46.027Z"
   },
   {
    "duration": 11,
    "start_time": "2025-01-27T04:21:46.926Z"
   },
   {
    "duration": 4,
    "start_time": "2025-01-27T04:21:46.938Z"
   },
   {
    "duration": 5,
    "start_time": "2025-01-27T04:21:46.945Z"
   },
   {
    "duration": 3,
    "start_time": "2025-01-27T04:21:46.952Z"
   },
   {
    "duration": 4,
    "start_time": "2025-01-27T04:21:46.956Z"
   },
   {
    "duration": 6,
    "start_time": "2025-01-27T04:21:46.961Z"
   },
   {
    "duration": 7,
    "start_time": "2025-01-27T04:21:46.968Z"
   },
   {
    "duration": 40,
    "start_time": "2025-01-27T04:21:46.977Z"
   },
   {
    "duration": 1,
    "start_time": "2025-01-27T04:21:47.020Z"
   },
   {
    "duration": 5,
    "start_time": "2025-01-27T04:21:47.023Z"
   },
   {
    "duration": 4,
    "start_time": "2025-01-27T04:21:47.029Z"
   },
   {
    "duration": 6,
    "start_time": "2025-01-27T04:21:47.035Z"
   },
   {
    "duration": 4,
    "start_time": "2025-01-27T04:21:47.042Z"
   },
   {
    "duration": 6,
    "start_time": "2025-01-27T04:21:47.048Z"
   },
   {
    "duration": 14,
    "start_time": "2025-01-27T04:21:47.055Z"
   },
   {
    "duration": 42,
    "start_time": "2025-01-27T04:21:47.071Z"
   },
   {
    "duration": 6,
    "start_time": "2025-01-27T04:21:47.114Z"
   },
   {
    "duration": 280,
    "start_time": "2025-01-27T04:21:47.121Z"
   },
   {
    "duration": 9,
    "start_time": "2025-01-27T04:21:47.403Z"
   },
   {
    "duration": 4,
    "start_time": "2025-01-27T04:21:47.413Z"
   },
   {
    "duration": 7,
    "start_time": "2025-01-27T04:21:47.419Z"
   },
   {
    "duration": 12,
    "start_time": "2025-01-27T04:21:47.428Z"
   },
   {
    "duration": 341,
    "start_time": "2025-01-27T04:21:47.442Z"
   },
   {
    "duration": 628,
    "start_time": "2025-01-27T04:21:47.785Z"
   },
   {
    "duration": 0,
    "start_time": "2025-01-27T04:21:48.415Z"
   },
   {
    "duration": 0,
    "start_time": "2025-01-27T04:21:48.417Z"
   },
   {
    "duration": 0,
    "start_time": "2025-01-27T04:21:48.418Z"
   },
   {
    "duration": 0,
    "start_time": "2025-01-27T04:21:48.420Z"
   },
   {
    "duration": 0,
    "start_time": "2025-01-27T04:21:48.421Z"
   },
   {
    "duration": 0,
    "start_time": "2025-01-27T04:21:48.423Z"
   },
   {
    "duration": 0,
    "start_time": "2025-01-27T04:21:48.425Z"
   },
   {
    "duration": 0,
    "start_time": "2025-01-27T04:21:48.426Z"
   },
   {
    "duration": 0,
    "start_time": "2025-01-27T04:21:48.428Z"
   },
   {
    "duration": 0,
    "start_time": "2025-01-27T04:21:48.429Z"
   },
   {
    "duration": 0,
    "start_time": "2025-01-27T04:21:48.431Z"
   },
   {
    "duration": 0,
    "start_time": "2025-01-27T04:21:48.432Z"
   },
   {
    "duration": 0,
    "start_time": "2025-01-27T04:21:48.434Z"
   },
   {
    "duration": 0,
    "start_time": "2025-01-27T04:21:48.435Z"
   },
   {
    "duration": 0,
    "start_time": "2025-01-27T04:21:48.437Z"
   },
   {
    "duration": 0,
    "start_time": "2025-01-27T04:21:48.438Z"
   },
   {
    "duration": 0,
    "start_time": "2025-01-27T04:21:48.440Z"
   },
   {
    "duration": 0,
    "start_time": "2025-01-27T04:21:48.441Z"
   },
   {
    "duration": 0,
    "start_time": "2025-01-27T04:21:48.442Z"
   },
   {
    "duration": 0,
    "start_time": "2025-01-27T04:21:48.443Z"
   },
   {
    "duration": 0,
    "start_time": "2025-01-27T04:21:48.445Z"
   },
   {
    "duration": 0,
    "start_time": "2025-01-27T04:21:48.446Z"
   },
   {
    "duration": 0,
    "start_time": "2025-01-27T04:21:48.447Z"
   },
   {
    "duration": 0,
    "start_time": "2025-01-27T04:21:48.448Z"
   },
   {
    "duration": 0,
    "start_time": "2025-01-27T04:21:48.449Z"
   },
   {
    "duration": 0,
    "start_time": "2025-01-27T04:21:48.450Z"
   },
   {
    "duration": 0,
    "start_time": "2025-01-27T04:21:48.452Z"
   },
   {
    "duration": 0,
    "start_time": "2025-01-27T04:21:48.453Z"
   },
   {
    "duration": 56,
    "start_time": "2025-01-27T04:27:29.621Z"
   },
   {
    "duration": 19,
    "start_time": "2025-01-27T04:29:04.103Z"
   },
   {
    "duration": 18,
    "start_time": "2025-01-27T04:29:31.625Z"
   },
   {
    "duration": 11,
    "start_time": "2025-01-27T04:30:26.102Z"
   },
   {
    "duration": 5,
    "start_time": "2025-01-27T04:33:09.186Z"
   },
   {
    "duration": 9,
    "start_time": "2025-01-27T04:33:12.587Z"
   },
   {
    "duration": 10,
    "start_time": "2025-01-27T04:46:40.868Z"
   },
   {
    "duration": 11,
    "start_time": "2025-01-27T04:47:01.196Z"
   },
   {
    "duration": 19,
    "start_time": "2025-01-27T04:50:31.986Z"
   },
   {
    "duration": 15,
    "start_time": "2025-01-27T04:52:13.870Z"
   },
   {
    "duration": 16,
    "start_time": "2025-01-27T04:52:57.397Z"
   },
   {
    "duration": 16,
    "start_time": "2025-01-27T04:59:34.828Z"
   },
   {
    "duration": 20,
    "start_time": "2025-01-27T05:00:22.349Z"
   },
   {
    "duration": 15,
    "start_time": "2025-01-27T05:00:46.942Z"
   },
   {
    "duration": 26,
    "start_time": "2025-01-27T05:01:16.761Z"
   },
   {
    "duration": 26,
    "start_time": "2025-01-27T05:02:33.935Z"
   },
   {
    "duration": 827,
    "start_time": "2025-01-27T05:16:57.998Z"
   },
   {
    "duration": 11,
    "start_time": "2025-01-27T05:16:58.827Z"
   },
   {
    "duration": 6,
    "start_time": "2025-01-27T05:16:58.839Z"
   },
   {
    "duration": 5,
    "start_time": "2025-01-27T05:16:58.847Z"
   },
   {
    "duration": 3,
    "start_time": "2025-01-27T05:16:58.853Z"
   },
   {
    "duration": 4,
    "start_time": "2025-01-27T05:16:58.857Z"
   },
   {
    "duration": 7,
    "start_time": "2025-01-27T05:16:58.863Z"
   },
   {
    "duration": 7,
    "start_time": "2025-01-27T05:16:58.871Z"
   },
   {
    "duration": 7,
    "start_time": "2025-01-27T05:16:58.911Z"
   },
   {
    "duration": 2,
    "start_time": "2025-01-27T05:16:58.921Z"
   },
   {
    "duration": 5,
    "start_time": "2025-01-27T05:16:58.924Z"
   },
   {
    "duration": 4,
    "start_time": "2025-01-27T05:16:58.930Z"
   },
   {
    "duration": 5,
    "start_time": "2025-01-27T05:16:58.936Z"
   },
   {
    "duration": 4,
    "start_time": "2025-01-27T05:16:58.943Z"
   },
   {
    "duration": 7,
    "start_time": "2025-01-27T05:16:58.948Z"
   },
   {
    "duration": 14,
    "start_time": "2025-01-27T05:16:58.956Z"
   },
   {
    "duration": 6,
    "start_time": "2025-01-27T05:16:59.011Z"
   },
   {
    "duration": 4,
    "start_time": "2025-01-27T05:16:59.019Z"
   },
   {
    "duration": 277,
    "start_time": "2025-01-27T05:16:59.025Z"
   },
   {
    "duration": 11,
    "start_time": "2025-01-27T05:16:59.304Z"
   },
   {
    "duration": 4,
    "start_time": "2025-01-27T05:16:59.318Z"
   },
   {
    "duration": 6,
    "start_time": "2025-01-27T05:16:59.324Z"
   },
   {
    "duration": 11,
    "start_time": "2025-01-27T05:16:59.332Z"
   },
   {
    "duration": 348,
    "start_time": "2025-01-27T05:16:59.345Z"
   },
   {
    "duration": 25,
    "start_time": "2025-01-27T05:16:59.695Z"
   },
   {
    "duration": 2,
    "start_time": "2025-01-27T05:16:59.722Z"
   },
   {
    "duration": 25,
    "start_time": "2025-01-27T05:16:59.725Z"
   },
   {
    "duration": 6,
    "start_time": "2025-01-27T05:16:59.755Z"
   },
   {
    "duration": 3,
    "start_time": "2025-01-27T05:16:59.763Z"
   },
   {
    "duration": 46,
    "start_time": "2025-01-27T05:16:59.768Z"
   },
   {
    "duration": 2,
    "start_time": "2025-01-27T05:16:59.816Z"
   },
   {
    "duration": 4,
    "start_time": "2025-01-27T05:16:59.820Z"
   },
   {
    "duration": 0,
    "start_time": "2025-01-27T05:16:59.825Z"
   },
   {
    "duration": 0,
    "start_time": "2025-01-27T05:16:59.827Z"
   },
   {
    "duration": 0,
    "start_time": "2025-01-27T05:16:59.828Z"
   },
   {
    "duration": 0,
    "start_time": "2025-01-27T05:16:59.829Z"
   },
   {
    "duration": 0,
    "start_time": "2025-01-27T05:16:59.830Z"
   },
   {
    "duration": 0,
    "start_time": "2025-01-27T05:16:59.832Z"
   },
   {
    "duration": 0,
    "start_time": "2025-01-27T05:16:59.833Z"
   },
   {
    "duration": 0,
    "start_time": "2025-01-27T05:16:59.834Z"
   },
   {
    "duration": 0,
    "start_time": "2025-01-27T05:16:59.835Z"
   },
   {
    "duration": 0,
    "start_time": "2025-01-27T05:16:59.836Z"
   },
   {
    "duration": 0,
    "start_time": "2025-01-27T05:16:59.837Z"
   },
   {
    "duration": 0,
    "start_time": "2025-01-27T05:16:59.838Z"
   },
   {
    "duration": 0,
    "start_time": "2025-01-27T05:16:59.840Z"
   },
   {
    "duration": 0,
    "start_time": "2025-01-27T05:16:59.842Z"
   },
   {
    "duration": 0,
    "start_time": "2025-01-27T05:16:59.843Z"
   },
   {
    "duration": 0,
    "start_time": "2025-01-27T05:16:59.844Z"
   },
   {
    "duration": 0,
    "start_time": "2025-01-27T05:16:59.846Z"
   },
   {
    "duration": 0,
    "start_time": "2025-01-27T05:16:59.847Z"
   },
   {
    "duration": 0,
    "start_time": "2025-01-27T05:16:59.849Z"
   },
   {
    "duration": 0,
    "start_time": "2025-01-27T05:16:59.850Z"
   },
   {
    "duration": 225,
    "start_time": "2025-01-27T05:18:49.765Z"
   },
   {
    "duration": 13,
    "start_time": "2025-01-27T05:31:14.530Z"
   },
   {
    "duration": 878,
    "start_time": "2025-01-27T05:41:05.947Z"
   },
   {
    "duration": 10,
    "start_time": "2025-01-27T05:41:06.828Z"
   },
   {
    "duration": 5,
    "start_time": "2025-01-27T05:41:06.840Z"
   },
   {
    "duration": 5,
    "start_time": "2025-01-27T05:41:06.848Z"
   },
   {
    "duration": 3,
    "start_time": "2025-01-27T05:41:06.855Z"
   },
   {
    "duration": 4,
    "start_time": "2025-01-27T05:41:06.860Z"
   },
   {
    "duration": 8,
    "start_time": "2025-01-27T05:41:06.865Z"
   },
   {
    "duration": 6,
    "start_time": "2025-01-27T05:41:06.874Z"
   },
   {
    "duration": 8,
    "start_time": "2025-01-27T05:41:06.912Z"
   },
   {
    "duration": 2,
    "start_time": "2025-01-27T05:41:06.923Z"
   },
   {
    "duration": 4,
    "start_time": "2025-01-27T05:41:06.927Z"
   },
   {
    "duration": 4,
    "start_time": "2025-01-27T05:41:06.933Z"
   },
   {
    "duration": 6,
    "start_time": "2025-01-27T05:41:06.938Z"
   },
   {
    "duration": 4,
    "start_time": "2025-01-27T05:41:06.946Z"
   },
   {
    "duration": 6,
    "start_time": "2025-01-27T05:41:06.952Z"
   },
   {
    "duration": 15,
    "start_time": "2025-01-27T05:41:06.960Z"
   },
   {
    "duration": 40,
    "start_time": "2025-01-27T05:41:06.976Z"
   },
   {
    "duration": 4,
    "start_time": "2025-01-27T05:41:07.018Z"
   },
   {
    "duration": 293,
    "start_time": "2025-01-27T05:41:07.024Z"
   },
   {
    "duration": 7,
    "start_time": "2025-01-27T05:41:07.319Z"
   },
   {
    "duration": 3,
    "start_time": "2025-01-27T05:41:07.328Z"
   },
   {
    "duration": 6,
    "start_time": "2025-01-27T05:41:07.333Z"
   },
   {
    "duration": 12,
    "start_time": "2025-01-27T05:41:07.340Z"
   },
   {
    "duration": 346,
    "start_time": "2025-01-27T05:41:07.354Z"
   },
   {
    "duration": 23,
    "start_time": "2025-01-27T05:41:07.702Z"
   },
   {
    "duration": 2,
    "start_time": "2025-01-27T05:41:07.727Z"
   },
   {
    "duration": 26,
    "start_time": "2025-01-27T05:41:07.731Z"
   },
   {
    "duration": 7,
    "start_time": "2025-01-27T05:41:07.761Z"
   },
   {
    "duration": 4,
    "start_time": "2025-01-27T05:41:07.769Z"
   },
   {
    "duration": 6,
    "start_time": "2025-01-27T05:41:07.813Z"
   },
   {
    "duration": 3,
    "start_time": "2025-01-27T05:41:07.821Z"
   },
   {
    "duration": 220,
    "start_time": "2025-01-27T05:41:07.826Z"
   },
   {
    "duration": 4,
    "start_time": "2025-01-27T05:41:08.048Z"
   },
   {
    "duration": 0,
    "start_time": "2025-01-27T05:41:08.054Z"
   },
   {
    "duration": 0,
    "start_time": "2025-01-27T05:41:08.056Z"
   },
   {
    "duration": 0,
    "start_time": "2025-01-27T05:41:08.057Z"
   },
   {
    "duration": 0,
    "start_time": "2025-01-27T05:41:08.058Z"
   },
   {
    "duration": 0,
    "start_time": "2025-01-27T05:41:08.060Z"
   },
   {
    "duration": 0,
    "start_time": "2025-01-27T05:41:08.061Z"
   },
   {
    "duration": 0,
    "start_time": "2025-01-27T05:41:08.062Z"
   },
   {
    "duration": 0,
    "start_time": "2025-01-27T05:41:08.063Z"
   },
   {
    "duration": 0,
    "start_time": "2025-01-27T05:41:08.064Z"
   },
   {
    "duration": 0,
    "start_time": "2025-01-27T05:41:08.065Z"
   },
   {
    "duration": 0,
    "start_time": "2025-01-27T05:41:08.066Z"
   },
   {
    "duration": 0,
    "start_time": "2025-01-27T05:41:08.067Z"
   },
   {
    "duration": 0,
    "start_time": "2025-01-27T05:41:08.068Z"
   },
   {
    "duration": 0,
    "start_time": "2025-01-27T05:41:08.069Z"
   },
   {
    "duration": 0,
    "start_time": "2025-01-27T05:41:08.070Z"
   },
   {
    "duration": 0,
    "start_time": "2025-01-27T05:41:08.072Z"
   },
   {
    "duration": 0,
    "start_time": "2025-01-27T05:41:08.074Z"
   },
   {
    "duration": 230,
    "start_time": "2025-01-27T05:45:10.371Z"
   },
   {
    "duration": 851,
    "start_time": "2025-01-27T05:45:19.674Z"
   },
   {
    "duration": 11,
    "start_time": "2025-01-27T05:45:20.527Z"
   },
   {
    "duration": 5,
    "start_time": "2025-01-27T05:45:20.539Z"
   },
   {
    "duration": 5,
    "start_time": "2025-01-27T05:45:20.547Z"
   },
   {
    "duration": 3,
    "start_time": "2025-01-27T05:45:20.554Z"
   },
   {
    "duration": 4,
    "start_time": "2025-01-27T05:45:20.558Z"
   },
   {
    "duration": 6,
    "start_time": "2025-01-27T05:45:20.564Z"
   },
   {
    "duration": 6,
    "start_time": "2025-01-27T05:45:20.572Z"
   },
   {
    "duration": 37,
    "start_time": "2025-01-27T05:45:20.580Z"
   },
   {
    "duration": 2,
    "start_time": "2025-01-27T05:45:20.621Z"
   },
   {
    "duration": 3,
    "start_time": "2025-01-27T05:45:20.625Z"
   },
   {
    "duration": 4,
    "start_time": "2025-01-27T05:45:20.630Z"
   },
   {
    "duration": 6,
    "start_time": "2025-01-27T05:45:20.636Z"
   },
   {
    "duration": 4,
    "start_time": "2025-01-27T05:45:20.644Z"
   },
   {
    "duration": 6,
    "start_time": "2025-01-27T05:45:20.650Z"
   },
   {
    "duration": 55,
    "start_time": "2025-01-27T05:45:20.658Z"
   },
   {
    "duration": 7,
    "start_time": "2025-01-27T05:45:20.714Z"
   },
   {
    "duration": 6,
    "start_time": "2025-01-27T05:45:20.723Z"
   },
   {
    "duration": 287,
    "start_time": "2025-01-27T05:45:20.730Z"
   },
   {
    "duration": 7,
    "start_time": "2025-01-27T05:45:21.019Z"
   },
   {
    "duration": 4,
    "start_time": "2025-01-27T05:45:21.028Z"
   },
   {
    "duration": 7,
    "start_time": "2025-01-27T05:45:21.034Z"
   },
   {
    "duration": 13,
    "start_time": "2025-01-27T05:45:21.043Z"
   },
   {
    "duration": 359,
    "start_time": "2025-01-27T05:45:21.058Z"
   },
   {
    "duration": 19,
    "start_time": "2025-01-27T05:45:21.418Z"
   },
   {
    "duration": 3,
    "start_time": "2025-01-27T05:45:21.438Z"
   },
   {
    "duration": 24,
    "start_time": "2025-01-27T05:45:21.442Z"
   },
   {
    "duration": 6,
    "start_time": "2025-01-27T05:45:21.471Z"
   },
   {
    "duration": 3,
    "start_time": "2025-01-27T05:45:21.512Z"
   },
   {
    "duration": 6,
    "start_time": "2025-01-27T05:45:21.517Z"
   },
   {
    "duration": 4,
    "start_time": "2025-01-27T05:45:21.524Z"
   },
   {
    "duration": 227,
    "start_time": "2025-01-27T05:45:21.529Z"
   },
   {
    "duration": 13,
    "start_time": "2025-01-27T05:45:21.757Z"
   },
   {
    "duration": 325,
    "start_time": "2025-01-27T05:45:21.772Z"
   },
   {
    "duration": 12,
    "start_time": "2025-01-27T05:45:22.099Z"
   },
   {
    "duration": 22,
    "start_time": "2025-01-27T05:45:22.113Z"
   },
   {
    "duration": 3,
    "start_time": "2025-01-27T05:45:22.137Z"
   },
   {
    "duration": 0,
    "start_time": "2025-01-27T05:45:22.142Z"
   },
   {
    "duration": 0,
    "start_time": "2025-01-27T05:45:22.143Z"
   },
   {
    "duration": 0,
    "start_time": "2025-01-27T05:45:22.144Z"
   },
   {
    "duration": 0,
    "start_time": "2025-01-27T05:45:22.145Z"
   },
   {
    "duration": 0,
    "start_time": "2025-01-27T05:45:22.147Z"
   },
   {
    "duration": 0,
    "start_time": "2025-01-27T05:45:22.148Z"
   },
   {
    "duration": 0,
    "start_time": "2025-01-27T05:45:22.149Z"
   },
   {
    "duration": 0,
    "start_time": "2025-01-27T05:45:22.150Z"
   },
   {
    "duration": 0,
    "start_time": "2025-01-27T05:45:22.151Z"
   },
   {
    "duration": 0,
    "start_time": "2025-01-27T05:45:22.152Z"
   },
   {
    "duration": 0,
    "start_time": "2025-01-27T05:45:22.154Z"
   },
   {
    "duration": 0,
    "start_time": "2025-01-27T05:45:22.155Z"
   },
   {
    "duration": 4,
    "start_time": "2025-01-27T05:48:44.010Z"
   },
   {
    "duration": 5,
    "start_time": "2025-01-27T05:49:28.471Z"
   },
   {
    "duration": 5,
    "start_time": "2025-01-27T05:49:46.140Z"
   },
   {
    "duration": 4,
    "start_time": "2025-01-27T05:51:32.590Z"
   },
   {
    "duration": 6,
    "start_time": "2025-01-27T05:51:37.268Z"
   },
   {
    "duration": 14,
    "start_time": "2025-01-27T05:56:04.556Z"
   },
   {
    "duration": 10,
    "start_time": "2025-01-27T05:57:02.302Z"
   },
   {
    "duration": 866,
    "start_time": "2025-01-27T06:00:06.565Z"
   },
   {
    "duration": 11,
    "start_time": "2025-01-27T06:00:07.433Z"
   },
   {
    "duration": 5,
    "start_time": "2025-01-27T06:00:07.446Z"
   },
   {
    "duration": 6,
    "start_time": "2025-01-27T06:00:07.452Z"
   },
   {
    "duration": 3,
    "start_time": "2025-01-27T06:00:07.459Z"
   },
   {
    "duration": 4,
    "start_time": "2025-01-27T06:00:07.463Z"
   },
   {
    "duration": 6,
    "start_time": "2025-01-27T06:00:07.469Z"
   },
   {
    "duration": 39,
    "start_time": "2025-01-27T06:00:07.476Z"
   },
   {
    "duration": 7,
    "start_time": "2025-01-27T06:00:07.517Z"
   },
   {
    "duration": 2,
    "start_time": "2025-01-27T06:00:07.528Z"
   },
   {
    "duration": 5,
    "start_time": "2025-01-27T06:00:07.531Z"
   },
   {
    "duration": 5,
    "start_time": "2025-01-27T06:00:07.537Z"
   },
   {
    "duration": 6,
    "start_time": "2025-01-27T06:00:07.544Z"
   },
   {
    "duration": 4,
    "start_time": "2025-01-27T06:00:07.551Z"
   },
   {
    "duration": 6,
    "start_time": "2025-01-27T06:00:07.556Z"
   },
   {
    "duration": 47,
    "start_time": "2025-01-27T06:00:07.565Z"
   },
   {
    "duration": 7,
    "start_time": "2025-01-27T06:00:07.613Z"
   },
   {
    "duration": 5,
    "start_time": "2025-01-27T06:00:07.621Z"
   },
   {
    "duration": 279,
    "start_time": "2025-01-27T06:00:07.628Z"
   },
   {
    "duration": 7,
    "start_time": "2025-01-27T06:00:07.909Z"
   },
   {
    "duration": 3,
    "start_time": "2025-01-27T06:00:07.918Z"
   },
   {
    "duration": 7,
    "start_time": "2025-01-27T06:00:07.923Z"
   },
   {
    "duration": 13,
    "start_time": "2025-01-27T06:00:07.931Z"
   },
   {
    "duration": 351,
    "start_time": "2025-01-27T06:00:07.946Z"
   },
   {
    "duration": 26,
    "start_time": "2025-01-27T06:00:08.300Z"
   },
   {
    "duration": 2,
    "start_time": "2025-01-27T06:00:08.328Z"
   },
   {
    "duration": 25,
    "start_time": "2025-01-27T06:00:08.332Z"
   },
   {
    "duration": 5,
    "start_time": "2025-01-27T06:00:08.361Z"
   },
   {
    "duration": 4,
    "start_time": "2025-01-27T06:00:08.368Z"
   },
   {
    "duration": 43,
    "start_time": "2025-01-27T06:00:08.373Z"
   },
   {
    "duration": 2,
    "start_time": "2025-01-27T06:00:08.417Z"
   },
   {
    "duration": 216,
    "start_time": "2025-01-27T06:00:08.421Z"
   },
   {
    "duration": 14,
    "start_time": "2025-01-27T06:00:08.639Z"
   },
   {
    "duration": 323,
    "start_time": "2025-01-27T06:00:08.654Z"
   },
   {
    "duration": 5,
    "start_time": "2025-01-27T06:00:08.979Z"
   },
   {
    "duration": 9,
    "start_time": "2025-01-27T06:00:08.985Z"
   },
   {
    "duration": 20,
    "start_time": "2025-01-27T06:00:08.996Z"
   },
   {
    "duration": 3,
    "start_time": "2025-01-27T06:00:09.018Z"
   },
   {
    "duration": 5,
    "start_time": "2025-01-27T06:00:09.022Z"
   },
   {
    "duration": 7,
    "start_time": "2025-01-27T06:00:09.028Z"
   },
   {
    "duration": 12,
    "start_time": "2025-01-27T06:00:09.037Z"
   },
   {
    "duration": 4,
    "start_time": "2025-01-27T06:00:09.050Z"
   },
   {
    "duration": 0,
    "start_time": "2025-01-27T06:00:09.056Z"
   },
   {
    "duration": 0,
    "start_time": "2025-01-27T06:00:09.057Z"
   },
   {
    "duration": 0,
    "start_time": "2025-01-27T06:00:09.058Z"
   },
   {
    "duration": 0,
    "start_time": "2025-01-27T06:00:09.060Z"
   },
   {
    "duration": 0,
    "start_time": "2025-01-27T06:00:09.061Z"
   },
   {
    "duration": 0,
    "start_time": "2025-01-27T06:00:09.062Z"
   },
   {
    "duration": 0,
    "start_time": "2025-01-27T06:00:09.063Z"
   },
   {
    "duration": 0,
    "start_time": "2025-01-27T06:00:09.064Z"
   },
   {
    "duration": 15,
    "start_time": "2025-01-27T06:01:31.040Z"
   },
   {
    "duration": 19,
    "start_time": "2025-01-27T06:01:39.463Z"
   },
   {
    "duration": 14,
    "start_time": "2025-01-27T06:01:43.459Z"
   },
   {
    "duration": 7,
    "start_time": "2025-01-27T06:17:33.231Z"
   },
   {
    "duration": 7,
    "start_time": "2025-01-27T06:17:40.456Z"
   },
   {
    "duration": 854,
    "start_time": "2025-01-27T06:40:21.866Z"
   },
   {
    "duration": 11,
    "start_time": "2025-01-27T06:40:22.723Z"
   },
   {
    "duration": 4,
    "start_time": "2025-01-27T06:40:22.735Z"
   },
   {
    "duration": 4,
    "start_time": "2025-01-27T06:40:22.742Z"
   },
   {
    "duration": 4,
    "start_time": "2025-01-27T06:40:22.748Z"
   },
   {
    "duration": 4,
    "start_time": "2025-01-27T06:40:22.753Z"
   },
   {
    "duration": 6,
    "start_time": "2025-01-27T06:40:22.759Z"
   },
   {
    "duration": 6,
    "start_time": "2025-01-27T06:40:22.766Z"
   },
   {
    "duration": 40,
    "start_time": "2025-01-27T06:40:22.773Z"
   },
   {
    "duration": 3,
    "start_time": "2025-01-27T06:40:22.816Z"
   },
   {
    "duration": 5,
    "start_time": "2025-01-27T06:40:22.820Z"
   },
   {
    "duration": 6,
    "start_time": "2025-01-27T06:40:22.826Z"
   },
   {
    "duration": 6,
    "start_time": "2025-01-27T06:40:22.834Z"
   },
   {
    "duration": 4,
    "start_time": "2025-01-27T06:40:22.841Z"
   },
   {
    "duration": 7,
    "start_time": "2025-01-27T06:40:22.847Z"
   },
   {
    "duration": 15,
    "start_time": "2025-01-27T06:40:22.856Z"
   },
   {
    "duration": 43,
    "start_time": "2025-01-27T06:40:22.872Z"
   },
   {
    "duration": 5,
    "start_time": "2025-01-27T06:40:22.918Z"
   },
   {
    "duration": 280,
    "start_time": "2025-01-27T06:40:22.924Z"
   },
   {
    "duration": 8,
    "start_time": "2025-01-27T06:40:23.211Z"
   },
   {
    "duration": 3,
    "start_time": "2025-01-27T06:40:23.221Z"
   },
   {
    "duration": 7,
    "start_time": "2025-01-27T06:40:23.226Z"
   },
   {
    "duration": 17,
    "start_time": "2025-01-27T06:40:23.235Z"
   },
   {
    "duration": 360,
    "start_time": "2025-01-27T06:40:23.253Z"
   },
   {
    "duration": 18,
    "start_time": "2025-01-27T06:40:23.615Z"
   },
   {
    "duration": 4,
    "start_time": "2025-01-27T06:40:23.635Z"
   },
   {
    "duration": 26,
    "start_time": "2025-01-27T06:40:23.640Z"
   },
   {
    "duration": 6,
    "start_time": "2025-01-27T06:40:23.670Z"
   },
   {
    "duration": 37,
    "start_time": "2025-01-27T06:40:23.677Z"
   },
   {
    "duration": 6,
    "start_time": "2025-01-27T06:40:23.716Z"
   },
   {
    "duration": 2,
    "start_time": "2025-01-27T06:40:23.724Z"
   },
   {
    "duration": 233,
    "start_time": "2025-01-27T06:40:23.728Z"
   },
   {
    "duration": 14,
    "start_time": "2025-01-27T06:40:23.963Z"
   },
   {
    "duration": 327,
    "start_time": "2025-01-27T06:40:23.978Z"
   },
   {
    "duration": 4,
    "start_time": "2025-01-27T06:40:24.311Z"
   },
   {
    "duration": 6,
    "start_time": "2025-01-27T06:40:24.317Z"
   },
   {
    "duration": 7,
    "start_time": "2025-01-27T06:40:24.324Z"
   },
   {
    "duration": 3,
    "start_time": "2025-01-27T06:40:24.332Z"
   },
   {
    "duration": 7,
    "start_time": "2025-01-27T06:40:24.336Z"
   },
   {
    "duration": 7,
    "start_time": "2025-01-27T06:40:24.344Z"
   },
   {
    "duration": 11,
    "start_time": "2025-01-27T06:40:24.353Z"
   },
   {
    "duration": 54,
    "start_time": "2025-01-27T06:40:24.365Z"
   },
   {
    "duration": 13,
    "start_time": "2025-01-27T06:40:24.420Z"
   },
   {
    "duration": 14,
    "start_time": "2025-01-27T06:40:24.434Z"
   },
   {
    "duration": 6,
    "start_time": "2025-01-27T06:40:24.450Z"
   },
   {
    "duration": 6,
    "start_time": "2025-01-27T06:40:24.458Z"
   },
   {
    "duration": 4,
    "start_time": "2025-01-27T06:40:24.465Z"
   },
   {
    "duration": 2821,
    "start_time": "2025-01-27T17:05:10.054Z"
   },
   {
    "duration": 11,
    "start_time": "2025-01-27T17:05:12.878Z"
   },
   {
    "duration": 4,
    "start_time": "2025-01-27T17:05:12.892Z"
   },
   {
    "duration": 6,
    "start_time": "2025-01-27T17:05:12.899Z"
   },
   {
    "duration": 3,
    "start_time": "2025-01-27T17:05:12.906Z"
   },
   {
    "duration": 4,
    "start_time": "2025-01-27T17:05:12.911Z"
   },
   {
    "duration": 8,
    "start_time": "2025-01-27T17:05:12.916Z"
   },
   {
    "duration": 7,
    "start_time": "2025-01-27T17:05:12.926Z"
   },
   {
    "duration": 8,
    "start_time": "2025-01-27T17:05:12.934Z"
   },
   {
    "duration": 2,
    "start_time": "2025-01-27T17:05:12.946Z"
   },
   {
    "duration": 37,
    "start_time": "2025-01-27T17:05:12.949Z"
   },
   {
    "duration": 5,
    "start_time": "2025-01-27T17:05:12.988Z"
   },
   {
    "duration": 8,
    "start_time": "2025-01-27T17:05:12.995Z"
   },
   {
    "duration": 3,
    "start_time": "2025-01-27T17:05:13.005Z"
   },
   {
    "duration": 8,
    "start_time": "2025-01-27T17:05:13.009Z"
   },
   {
    "duration": 16,
    "start_time": "2025-01-27T17:05:13.018Z"
   },
   {
    "duration": 6,
    "start_time": "2025-01-27T17:05:13.036Z"
   },
   {
    "duration": 43,
    "start_time": "2025-01-27T17:05:13.043Z"
   },
   {
    "duration": 302,
    "start_time": "2025-01-27T17:05:13.088Z"
   },
   {
    "duration": 9,
    "start_time": "2025-01-27T17:05:13.392Z"
   },
   {
    "duration": 3,
    "start_time": "2025-01-27T17:05:13.403Z"
   },
   {
    "duration": 7,
    "start_time": "2025-01-27T17:05:13.408Z"
   },
   {
    "duration": 12,
    "start_time": "2025-01-27T17:05:13.416Z"
   },
   {
    "duration": 327,
    "start_time": "2025-01-27T17:05:13.430Z"
   },
   {
    "duration": 92,
    "start_time": "2025-01-27T17:05:13.760Z"
   },
   {
    "duration": 2,
    "start_time": "2025-01-27T17:05:13.854Z"
   },
   {
    "duration": 39,
    "start_time": "2025-01-27T17:05:13.859Z"
   },
   {
    "duration": 9,
    "start_time": "2025-01-27T17:05:13.904Z"
   },
   {
    "duration": 5,
    "start_time": "2025-01-27T17:05:13.916Z"
   },
   {
    "duration": 7,
    "start_time": "2025-01-27T17:05:13.923Z"
   },
   {
    "duration": 2,
    "start_time": "2025-01-27T17:05:13.932Z"
   },
   {
    "duration": 229,
    "start_time": "2025-01-27T17:05:13.935Z"
   },
   {
    "duration": 22,
    "start_time": "2025-01-27T17:05:14.166Z"
   },
   {
    "duration": 316,
    "start_time": "2025-01-27T17:05:14.190Z"
   },
   {
    "duration": 4,
    "start_time": "2025-01-27T17:05:14.508Z"
   },
   {
    "duration": 5,
    "start_time": "2025-01-27T17:05:14.514Z"
   },
   {
    "duration": 6,
    "start_time": "2025-01-27T17:05:14.521Z"
   },
   {
    "duration": 2,
    "start_time": "2025-01-27T17:05:14.529Z"
   },
   {
    "duration": 5,
    "start_time": "2025-01-27T17:05:14.533Z"
   },
   {
    "duration": 7,
    "start_time": "2025-01-27T17:05:14.540Z"
   },
   {
    "duration": 51,
    "start_time": "2025-01-27T17:05:14.548Z"
   },
   {
    "duration": 15,
    "start_time": "2025-01-27T17:05:14.601Z"
   },
   {
    "duration": 15,
    "start_time": "2025-01-27T17:05:14.618Z"
   },
   {
    "duration": 15,
    "start_time": "2025-01-27T17:05:14.635Z"
   },
   {
    "duration": 7,
    "start_time": "2025-01-27T17:05:14.689Z"
   },
   {
    "duration": 7,
    "start_time": "2025-01-27T17:05:14.698Z"
   },
   {
    "duration": 2544,
    "start_time": "2025-01-27T22:06:29.089Z"
   },
   {
    "duration": 43,
    "start_time": "2025-01-27T22:06:31.635Z"
   },
   {
    "duration": 5,
    "start_time": "2025-01-27T22:06:31.680Z"
   },
   {
    "duration": 1,
    "start_time": "2025-01-27T22:06:31.688Z"
   },
   {
    "duration": 0,
    "start_time": "2025-01-27T22:06:31.690Z"
   },
   {
    "duration": 0,
    "start_time": "2025-01-27T22:06:31.691Z"
   },
   {
    "duration": 0,
    "start_time": "2025-01-27T22:06:31.693Z"
   },
   {
    "duration": 0,
    "start_time": "2025-01-27T22:06:31.694Z"
   },
   {
    "duration": 0,
    "start_time": "2025-01-27T22:06:31.696Z"
   },
   {
    "duration": 0,
    "start_time": "2025-01-27T22:06:31.696Z"
   },
   {
    "duration": 0,
    "start_time": "2025-01-27T22:06:31.709Z"
   },
   {
    "duration": 0,
    "start_time": "2025-01-27T22:06:31.711Z"
   },
   {
    "duration": 0,
    "start_time": "2025-01-27T22:06:31.712Z"
   },
   {
    "duration": 0,
    "start_time": "2025-01-27T22:06:31.714Z"
   },
   {
    "duration": 0,
    "start_time": "2025-01-27T22:06:31.715Z"
   },
   {
    "duration": 0,
    "start_time": "2025-01-27T22:06:31.716Z"
   },
   {
    "duration": 0,
    "start_time": "2025-01-27T22:06:31.717Z"
   },
   {
    "duration": 0,
    "start_time": "2025-01-27T22:06:31.718Z"
   },
   {
    "duration": 0,
    "start_time": "2025-01-27T22:06:31.719Z"
   },
   {
    "duration": 0,
    "start_time": "2025-01-27T22:06:31.720Z"
   },
   {
    "duration": 0,
    "start_time": "2025-01-27T22:06:31.721Z"
   },
   {
    "duration": 0,
    "start_time": "2025-01-27T22:06:31.723Z"
   },
   {
    "duration": 0,
    "start_time": "2025-01-27T22:06:31.724Z"
   },
   {
    "duration": 0,
    "start_time": "2025-01-27T22:06:31.725Z"
   },
   {
    "duration": 0,
    "start_time": "2025-01-27T22:06:31.726Z"
   },
   {
    "duration": 0,
    "start_time": "2025-01-27T22:06:31.727Z"
   },
   {
    "duration": 0,
    "start_time": "2025-01-27T22:06:31.728Z"
   },
   {
    "duration": 0,
    "start_time": "2025-01-27T22:06:31.729Z"
   },
   {
    "duration": 0,
    "start_time": "2025-01-27T22:06:31.730Z"
   },
   {
    "duration": 0,
    "start_time": "2025-01-27T22:06:31.731Z"
   },
   {
    "duration": 0,
    "start_time": "2025-01-27T22:06:31.732Z"
   },
   {
    "duration": 0,
    "start_time": "2025-01-27T22:06:31.734Z"
   },
   {
    "duration": 0,
    "start_time": "2025-01-27T22:06:31.735Z"
   },
   {
    "duration": 0,
    "start_time": "2025-01-27T22:06:31.737Z"
   },
   {
    "duration": 0,
    "start_time": "2025-01-27T22:06:31.738Z"
   },
   {
    "duration": 0,
    "start_time": "2025-01-27T22:06:31.740Z"
   },
   {
    "duration": 0,
    "start_time": "2025-01-27T22:06:31.741Z"
   },
   {
    "duration": 0,
    "start_time": "2025-01-27T22:06:31.743Z"
   },
   {
    "duration": 0,
    "start_time": "2025-01-27T22:06:31.744Z"
   },
   {
    "duration": 0,
    "start_time": "2025-01-27T22:06:31.746Z"
   },
   {
    "duration": 0,
    "start_time": "2025-01-27T22:06:31.747Z"
   },
   {
    "duration": 0,
    "start_time": "2025-01-27T22:06:31.749Z"
   },
   {
    "duration": 0,
    "start_time": "2025-01-27T22:06:31.808Z"
   },
   {
    "duration": 0,
    "start_time": "2025-01-27T22:06:31.809Z"
   },
   {
    "duration": 0,
    "start_time": "2025-01-27T22:06:31.810Z"
   },
   {
    "duration": 0,
    "start_time": "2025-01-27T22:06:31.812Z"
   },
   {
    "duration": 0,
    "start_time": "2025-01-27T22:06:31.813Z"
   },
   {
    "duration": 0,
    "start_time": "2025-01-27T22:06:31.815Z"
   },
   {
    "duration": 800,
    "start_time": "2025-01-27T22:07:25.694Z"
   },
   {
    "duration": 37,
    "start_time": "2025-01-27T22:07:26.497Z"
   },
   {
    "duration": 11,
    "start_time": "2025-01-27T22:07:26.535Z"
   },
   {
    "duration": 4,
    "start_time": "2025-01-27T22:07:26.549Z"
   },
   {
    "duration": 5,
    "start_time": "2025-01-27T22:07:26.556Z"
   },
   {
    "duration": 3,
    "start_time": "2025-01-27T22:07:26.562Z"
   },
   {
    "duration": 4,
    "start_time": "2025-01-27T22:07:26.567Z"
   },
   {
    "duration": 38,
    "start_time": "2025-01-27T22:07:26.573Z"
   },
   {
    "duration": 6,
    "start_time": "2025-01-27T22:07:26.613Z"
   },
   {
    "duration": 7,
    "start_time": "2025-01-27T22:07:26.620Z"
   },
   {
    "duration": 2,
    "start_time": "2025-01-27T22:07:26.629Z"
   },
   {
    "duration": 4,
    "start_time": "2025-01-27T22:07:26.633Z"
   },
   {
    "duration": 4,
    "start_time": "2025-01-27T22:07:26.639Z"
   },
   {
    "duration": 6,
    "start_time": "2025-01-27T22:07:26.648Z"
   },
   {
    "duration": 7,
    "start_time": "2025-01-27T22:07:26.655Z"
   },
   {
    "duration": 7,
    "start_time": "2025-01-27T22:07:26.664Z"
   },
   {
    "duration": 17,
    "start_time": "2025-01-27T22:07:26.710Z"
   },
   {
    "duration": 5,
    "start_time": "2025-01-27T22:07:26.729Z"
   },
   {
    "duration": 5,
    "start_time": "2025-01-27T22:07:26.735Z"
   },
   {
    "duration": 282,
    "start_time": "2025-01-27T22:07:26.742Z"
   },
   {
    "duration": 6,
    "start_time": "2025-01-27T22:07:27.026Z"
   },
   {
    "duration": 3,
    "start_time": "2025-01-27T22:07:27.034Z"
   },
   {
    "duration": 8,
    "start_time": "2025-01-27T22:07:27.038Z"
   },
   {
    "duration": 13,
    "start_time": "2025-01-27T22:07:27.047Z"
   },
   {
    "duration": 380,
    "start_time": "2025-01-27T22:07:27.062Z"
   },
   {
    "duration": 743,
    "start_time": "2025-01-27T22:07:27.443Z"
   },
   {
    "duration": 0,
    "start_time": "2025-01-27T22:07:28.189Z"
   },
   {
    "duration": 0,
    "start_time": "2025-01-27T22:07:28.189Z"
   },
   {
    "duration": 0,
    "start_time": "2025-01-27T22:07:28.191Z"
   },
   {
    "duration": 0,
    "start_time": "2025-01-27T22:07:28.193Z"
   },
   {
    "duration": 0,
    "start_time": "2025-01-27T22:07:28.194Z"
   },
   {
    "duration": 1,
    "start_time": "2025-01-27T22:07:28.208Z"
   },
   {
    "duration": 0,
    "start_time": "2025-01-27T22:07:28.210Z"
   },
   {
    "duration": 0,
    "start_time": "2025-01-27T22:07:28.211Z"
   },
   {
    "duration": 0,
    "start_time": "2025-01-27T22:07:28.213Z"
   },
   {
    "duration": 0,
    "start_time": "2025-01-27T22:07:28.214Z"
   },
   {
    "duration": 0,
    "start_time": "2025-01-27T22:07:28.216Z"
   },
   {
    "duration": 0,
    "start_time": "2025-01-27T22:07:28.217Z"
   },
   {
    "duration": 0,
    "start_time": "2025-01-27T22:07:28.218Z"
   },
   {
    "duration": 0,
    "start_time": "2025-01-27T22:07:28.219Z"
   },
   {
    "duration": 0,
    "start_time": "2025-01-27T22:07:28.220Z"
   },
   {
    "duration": 0,
    "start_time": "2025-01-27T22:07:28.221Z"
   },
   {
    "duration": 0,
    "start_time": "2025-01-27T22:07:28.222Z"
   },
   {
    "duration": 0,
    "start_time": "2025-01-27T22:07:28.223Z"
   },
   {
    "duration": 0,
    "start_time": "2025-01-27T22:07:28.224Z"
   },
   {
    "duration": 0,
    "start_time": "2025-01-27T22:07:28.225Z"
   },
   {
    "duration": 0,
    "start_time": "2025-01-27T22:07:28.226Z"
   },
   {
    "duration": 839,
    "start_time": "2025-01-27T22:08:33.098Z"
   },
   {
    "duration": 1166,
    "start_time": "2025-01-27T22:09:10.531Z"
   },
   {
    "duration": 953,
    "start_time": "2025-01-27T22:09:51.436Z"
   },
   {
    "duration": 18,
    "start_time": "2025-01-27T22:27:31.662Z"
   },
   {
    "duration": 943,
    "start_time": "2025-01-27T22:27:37.652Z"
   },
   {
    "duration": 38,
    "start_time": "2025-01-27T22:27:38.597Z"
   },
   {
    "duration": 11,
    "start_time": "2025-01-27T22:27:38.637Z"
   },
   {
    "duration": 5,
    "start_time": "2025-01-27T22:27:38.650Z"
   },
   {
    "duration": 6,
    "start_time": "2025-01-27T22:27:38.656Z"
   },
   {
    "duration": 4,
    "start_time": "2025-01-27T22:27:38.663Z"
   },
   {
    "duration": 4,
    "start_time": "2025-01-27T22:27:38.668Z"
   },
   {
    "duration": 36,
    "start_time": "2025-01-27T22:27:38.674Z"
   },
   {
    "duration": 6,
    "start_time": "2025-01-27T22:27:38.711Z"
   },
   {
    "duration": 8,
    "start_time": "2025-01-27T22:27:38.721Z"
   },
   {
    "duration": 2,
    "start_time": "2025-01-27T22:27:38.730Z"
   },
   {
    "duration": 5,
    "start_time": "2025-01-27T22:27:38.733Z"
   },
   {
    "duration": 5,
    "start_time": "2025-01-27T22:27:38.739Z"
   },
   {
    "duration": 7,
    "start_time": "2025-01-27T22:27:38.745Z"
   },
   {
    "duration": 4,
    "start_time": "2025-01-27T22:27:38.753Z"
   },
   {
    "duration": 6,
    "start_time": "2025-01-27T22:27:38.758Z"
   },
   {
    "duration": 56,
    "start_time": "2025-01-27T22:27:38.766Z"
   },
   {
    "duration": 6,
    "start_time": "2025-01-27T22:27:38.823Z"
   },
   {
    "duration": 5,
    "start_time": "2025-01-27T22:27:38.830Z"
   },
   {
    "duration": 299,
    "start_time": "2025-01-27T22:27:38.836Z"
   },
   {
    "duration": 7,
    "start_time": "2025-01-27T22:27:39.137Z"
   },
   {
    "duration": 3,
    "start_time": "2025-01-27T22:27:39.146Z"
   },
   {
    "duration": 6,
    "start_time": "2025-01-27T22:27:39.151Z"
   },
   {
    "duration": 13,
    "start_time": "2025-01-27T22:27:39.159Z"
   },
   {
    "duration": 368,
    "start_time": "2025-01-27T22:27:39.173Z"
   },
   {
    "duration": 874,
    "start_time": "2025-01-27T22:27:39.543Z"
   },
   {
    "duration": 2,
    "start_time": "2025-01-27T22:27:40.419Z"
   },
   {
    "duration": 26,
    "start_time": "2025-01-27T22:27:40.426Z"
   },
   {
    "duration": 6,
    "start_time": "2025-01-27T22:27:40.454Z"
   },
   {
    "duration": 3,
    "start_time": "2025-01-27T22:27:40.463Z"
   },
   {
    "duration": 7,
    "start_time": "2025-01-27T22:27:40.468Z"
   },
   {
    "duration": 58098,
    "start_time": "2025-01-27T22:27:40.477Z"
   },
   {
    "duration": 210,
    "start_time": "2025-01-27T22:28:38.577Z"
   },
   {
    "duration": 22,
    "start_time": "2025-01-27T22:28:38.789Z"
   },
   {
    "duration": 316,
    "start_time": "2025-01-27T22:28:38.813Z"
   },
   {
    "duration": 6,
    "start_time": "2025-01-27T22:28:39.131Z"
   },
   {
    "duration": 5,
    "start_time": "2025-01-27T22:28:39.139Z"
   },
   {
    "duration": 7,
    "start_time": "2025-01-27T22:28:39.146Z"
   },
   {
    "duration": 3,
    "start_time": "2025-01-27T22:28:39.154Z"
   },
   {
    "duration": 4,
    "start_time": "2025-01-27T22:28:39.158Z"
   },
   {
    "duration": 7,
    "start_time": "2025-01-27T22:28:39.164Z"
   },
   {
    "duration": 45,
    "start_time": "2025-01-27T22:28:39.172Z"
   },
   {
    "duration": 15,
    "start_time": "2025-01-27T22:28:39.218Z"
   },
   {
    "duration": 13,
    "start_time": "2025-01-27T22:28:39.235Z"
   },
   {
    "duration": 13,
    "start_time": "2025-01-27T22:28:39.250Z"
   },
   {
    "duration": 47,
    "start_time": "2025-01-27T22:28:39.264Z"
   },
   {
    "duration": 6,
    "start_time": "2025-01-27T22:28:39.313Z"
   },
   {
    "duration": 16,
    "start_time": "2025-01-27T22:29:06.330Z"
   },
   {
    "duration": 9,
    "start_time": "2025-01-27T22:32:17.685Z"
   },
   {
    "duration": 9,
    "start_time": "2025-01-27T22:35:24.856Z"
   },
   {
    "duration": 472,
    "start_time": "2025-01-27T22:35:40.096Z"
   },
   {
    "duration": 468,
    "start_time": "2025-01-27T22:36:01.036Z"
   },
   {
    "duration": 239,
    "start_time": "2025-01-27T22:38:00.555Z"
   },
   {
    "duration": 255,
    "start_time": "2025-01-27T22:38:14.579Z"
   },
   {
    "duration": 235,
    "start_time": "2025-01-27T22:38:31.643Z"
   },
   {
    "duration": 537,
    "start_time": "2025-01-27T22:44:06.890Z"
   },
   {
    "duration": 282,
    "start_time": "2025-01-27T22:44:15.100Z"
   },
   {
    "duration": 503,
    "start_time": "2025-01-27T22:44:25.908Z"
   },
   {
    "duration": 399,
    "start_time": "2025-01-27T22:45:07.658Z"
   },
   {
    "duration": 821,
    "start_time": "2025-01-27T22:52:24.915Z"
   }
  ],
  "kernelspec": {
   "display_name": "Python 3 (ipykernel)",
   "language": "python",
   "name": "python3"
  },
  "language_info": {
   "codemirror_mode": {
    "name": "ipython",
    "version": 3
   },
   "file_extension": ".py",
   "mimetype": "text/x-python",
   "name": "python",
   "nbconvert_exporter": "python",
   "pygments_lexer": "ipython3",
   "version": "3.9.19"
  },
  "toc": {
   "base_numbering": 1,
   "nav_menu": {},
   "number_sections": true,
   "sideBar": true,
   "skip_h1_title": true,
   "title_cell": "Table of Contents",
   "title_sidebar": "Contents",
   "toc_cell": false,
   "toc_position": {
    "height": "calc(100% - 180px)",
    "left": "10px",
    "top": "150px",
    "width": "237.6px"
   },
   "toc_section_display": true,
   "toc_window_display": true
  }
 },
 "nbformat": 4,
 "nbformat_minor": 2
}
